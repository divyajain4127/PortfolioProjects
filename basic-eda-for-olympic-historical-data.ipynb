{
 "cells": [
  {
   "cell_type": "markdown",
   "id": "401fe1e7",
   "metadata": {
    "papermill": {
     "duration": 0.036291,
     "end_time": "2022-01-26T07:12:28.972344",
     "exception": false,
     "start_time": "2022-01-26T07:12:28.936053",
     "status": "completed"
    },
    "tags": []
   },
   "source": [
    "## This is a beginner Exploratory Data Analysis (EDA) of the dataset \"120 years of Olympic history: athletes and results\""
   ]
  },
  {
   "cell_type": "code",
   "execution_count": 1,
   "id": "de56d7ff",
   "metadata": {
    "execution": {
     "iopub.execute_input": "2022-01-26T07:12:29.049807Z",
     "iopub.status.busy": "2022-01-26T07:12:29.048225Z",
     "iopub.status.idle": "2022-01-26T07:12:29.828254Z",
     "shell.execute_reply": "2022-01-26T07:12:29.827479Z",
     "shell.execute_reply.started": "2022-01-26T06:57:18.941872Z"
    },
    "papermill": {
     "duration": 0.819679,
     "end_time": "2022-01-26T07:12:29.828403",
     "exception": false,
     "start_time": "2022-01-26T07:12:29.008724",
     "status": "completed"
    },
    "tags": []
   },
   "outputs": [],
   "source": [
    "# We will be doing basic EDA using pandas & numpy libraries for initial data cleaning and then using\n",
    "# matplotlib and seaborn to make visualizations to find out trends and patterns\n",
    "\n",
    "import pandas as pd\n",
    "import numpy as np\n",
    "import matplotlib.pyplot as plt\n",
    "import seaborn as sns\n",
    "%matplotlib inline"
   ]
  },
  {
   "cell_type": "code",
   "execution_count": 2,
   "id": "42bde62b",
   "metadata": {
    "execution": {
     "iopub.execute_input": "2022-01-26T07:12:29.909875Z",
     "iopub.status.busy": "2022-01-26T07:12:29.909344Z",
     "iopub.status.idle": "2022-01-26T07:12:31.290914Z",
     "shell.execute_reply": "2022-01-26T07:12:31.290312Z",
     "shell.execute_reply.started": "2022-01-26T06:57:19.599453Z"
    },
    "papermill": {
     "duration": 1.426921,
     "end_time": "2022-01-26T07:12:31.291080",
     "exception": false,
     "start_time": "2022-01-26T07:12:29.864159",
     "status": "completed"
    },
    "tags": []
   },
   "outputs": [],
   "source": [
    "# Reading the data files for athletes and region data\n",
    "\n",
    "athletes = pd.read_csv(\"../input/120-years-of-olympic-history-athletes-and-results/athlete_events.csv\")\n",
    "region = pd.read_csv(\"../input/120-years-of-olympic-history-athletes-and-results/noc_regions.csv\")"
   ]
  },
  {
   "cell_type": "code",
   "execution_count": 3,
   "id": "e678179d",
   "metadata": {
    "execution": {
     "iopub.execute_input": "2022-01-26T07:12:31.367451Z",
     "iopub.status.busy": "2022-01-26T07:12:31.366834Z",
     "iopub.status.idle": "2022-01-26T07:12:31.382066Z",
     "shell.execute_reply": "2022-01-26T07:12:31.382533Z",
     "shell.execute_reply.started": "2022-01-26T06:57:20.244617Z"
    },
    "papermill": {
     "duration": 0.057315,
     "end_time": "2022-01-26T07:12:31.382672",
     "exception": false,
     "start_time": "2022-01-26T07:12:31.325357",
     "status": "completed"
    },
    "tags": []
   },
   "outputs": [
    {
     "data": {
      "text/html": [
       "<div>\n",
       "<style scoped>\n",
       "    .dataframe tbody tr th:only-of-type {\n",
       "        vertical-align: middle;\n",
       "    }\n",
       "\n",
       "    .dataframe tbody tr th {\n",
       "        vertical-align: top;\n",
       "    }\n",
       "\n",
       "    .dataframe thead th {\n",
       "        text-align: right;\n",
       "    }\n",
       "</style>\n",
       "<table border=\"1\" class=\"dataframe\">\n",
       "  <thead>\n",
       "    <tr style=\"text-align: right;\">\n",
       "      <th></th>\n",
       "      <th>ID</th>\n",
       "      <th>Name</th>\n",
       "      <th>Sex</th>\n",
       "      <th>Age</th>\n",
       "      <th>Height</th>\n",
       "      <th>Weight</th>\n",
       "      <th>Team</th>\n",
       "      <th>NOC</th>\n",
       "      <th>Games</th>\n",
       "      <th>Year</th>\n",
       "      <th>Season</th>\n",
       "      <th>City</th>\n",
       "      <th>Sport</th>\n",
       "      <th>Event</th>\n",
       "      <th>Medal</th>\n",
       "    </tr>\n",
       "  </thead>\n",
       "  <tbody>\n",
       "    <tr>\n",
       "      <th>0</th>\n",
       "      <td>1</td>\n",
       "      <td>A Dijiang</td>\n",
       "      <td>M</td>\n",
       "      <td>24.0</td>\n",
       "      <td>180.0</td>\n",
       "      <td>80.0</td>\n",
       "      <td>China</td>\n",
       "      <td>CHN</td>\n",
       "      <td>1992 Summer</td>\n",
       "      <td>1992</td>\n",
       "      <td>Summer</td>\n",
       "      <td>Barcelona</td>\n",
       "      <td>Basketball</td>\n",
       "      <td>Basketball Men's Basketball</td>\n",
       "      <td>NaN</td>\n",
       "    </tr>\n",
       "    <tr>\n",
       "      <th>1</th>\n",
       "      <td>2</td>\n",
       "      <td>A Lamusi</td>\n",
       "      <td>M</td>\n",
       "      <td>23.0</td>\n",
       "      <td>170.0</td>\n",
       "      <td>60.0</td>\n",
       "      <td>China</td>\n",
       "      <td>CHN</td>\n",
       "      <td>2012 Summer</td>\n",
       "      <td>2012</td>\n",
       "      <td>Summer</td>\n",
       "      <td>London</td>\n",
       "      <td>Judo</td>\n",
       "      <td>Judo Men's Extra-Lightweight</td>\n",
       "      <td>NaN</td>\n",
       "    </tr>\n",
       "    <tr>\n",
       "      <th>2</th>\n",
       "      <td>3</td>\n",
       "      <td>Gunnar Nielsen Aaby</td>\n",
       "      <td>M</td>\n",
       "      <td>24.0</td>\n",
       "      <td>NaN</td>\n",
       "      <td>NaN</td>\n",
       "      <td>Denmark</td>\n",
       "      <td>DEN</td>\n",
       "      <td>1920 Summer</td>\n",
       "      <td>1920</td>\n",
       "      <td>Summer</td>\n",
       "      <td>Antwerpen</td>\n",
       "      <td>Football</td>\n",
       "      <td>Football Men's Football</td>\n",
       "      <td>NaN</td>\n",
       "    </tr>\n",
       "    <tr>\n",
       "      <th>3</th>\n",
       "      <td>4</td>\n",
       "      <td>Edgar Lindenau Aabye</td>\n",
       "      <td>M</td>\n",
       "      <td>34.0</td>\n",
       "      <td>NaN</td>\n",
       "      <td>NaN</td>\n",
       "      <td>Denmark/Sweden</td>\n",
       "      <td>DEN</td>\n",
       "      <td>1900 Summer</td>\n",
       "      <td>1900</td>\n",
       "      <td>Summer</td>\n",
       "      <td>Paris</td>\n",
       "      <td>Tug-Of-War</td>\n",
       "      <td>Tug-Of-War Men's Tug-Of-War</td>\n",
       "      <td>Gold</td>\n",
       "    </tr>\n",
       "    <tr>\n",
       "      <th>4</th>\n",
       "      <td>5</td>\n",
       "      <td>Christine Jacoba Aaftink</td>\n",
       "      <td>F</td>\n",
       "      <td>21.0</td>\n",
       "      <td>185.0</td>\n",
       "      <td>82.0</td>\n",
       "      <td>Netherlands</td>\n",
       "      <td>NED</td>\n",
       "      <td>1988 Winter</td>\n",
       "      <td>1988</td>\n",
       "      <td>Winter</td>\n",
       "      <td>Calgary</td>\n",
       "      <td>Speed Skating</td>\n",
       "      <td>Speed Skating Women's 500 metres</td>\n",
       "      <td>NaN</td>\n",
       "    </tr>\n",
       "  </tbody>\n",
       "</table>\n",
       "</div>"
      ],
      "text/plain": [
       "   ID                      Name Sex   Age  Height  Weight            Team  \\\n",
       "0   1                 A Dijiang   M  24.0   180.0    80.0           China   \n",
       "1   2                  A Lamusi   M  23.0   170.0    60.0           China   \n",
       "2   3       Gunnar Nielsen Aaby   M  24.0     NaN     NaN         Denmark   \n",
       "3   4      Edgar Lindenau Aabye   M  34.0     NaN     NaN  Denmark/Sweden   \n",
       "4   5  Christine Jacoba Aaftink   F  21.0   185.0    82.0     Netherlands   \n",
       "\n",
       "   NOC        Games  Year  Season       City          Sport  \\\n",
       "0  CHN  1992 Summer  1992  Summer  Barcelona     Basketball   \n",
       "1  CHN  2012 Summer  2012  Summer     London           Judo   \n",
       "2  DEN  1920 Summer  1920  Summer  Antwerpen       Football   \n",
       "3  DEN  1900 Summer  1900  Summer      Paris     Tug-Of-War   \n",
       "4  NED  1988 Winter  1988  Winter    Calgary  Speed Skating   \n",
       "\n",
       "                              Event Medal  \n",
       "0       Basketball Men's Basketball   NaN  \n",
       "1      Judo Men's Extra-Lightweight   NaN  \n",
       "2           Football Men's Football   NaN  \n",
       "3       Tug-Of-War Men's Tug-Of-War  Gold  \n",
       "4  Speed Skating Women's 500 metres   NaN  "
      ]
     },
     "execution_count": 3,
     "metadata": {},
     "output_type": "execute_result"
    }
   ],
   "source": [
    "# To view first 5 rows of the dataframe\n",
    "\n",
    "athletes.head()"
   ]
  },
  {
   "cell_type": "code",
   "execution_count": 4,
   "id": "90f961d0",
   "metadata": {
    "execution": {
     "iopub.execute_input": "2022-01-26T07:12:31.462111Z",
     "iopub.status.busy": "2022-01-26T07:12:31.461295Z",
     "iopub.status.idle": "2022-01-26T07:12:31.465240Z",
     "shell.execute_reply": "2022-01-26T07:12:31.465685Z",
     "shell.execute_reply.started": "2022-01-26T06:57:20.892775Z"
    },
    "papermill": {
     "duration": 0.048241,
     "end_time": "2022-01-26T07:12:31.465830",
     "exception": false,
     "start_time": "2022-01-26T07:12:31.417589",
     "status": "completed"
    },
    "tags": []
   },
   "outputs": [
    {
     "data": {
      "text/html": [
       "<div>\n",
       "<style scoped>\n",
       "    .dataframe tbody tr th:only-of-type {\n",
       "        vertical-align: middle;\n",
       "    }\n",
       "\n",
       "    .dataframe tbody tr th {\n",
       "        vertical-align: top;\n",
       "    }\n",
       "\n",
       "    .dataframe thead th {\n",
       "        text-align: right;\n",
       "    }\n",
       "</style>\n",
       "<table border=\"1\" class=\"dataframe\">\n",
       "  <thead>\n",
       "    <tr style=\"text-align: right;\">\n",
       "      <th></th>\n",
       "      <th>NOC</th>\n",
       "      <th>region</th>\n",
       "      <th>notes</th>\n",
       "    </tr>\n",
       "  </thead>\n",
       "  <tbody>\n",
       "    <tr>\n",
       "      <th>0</th>\n",
       "      <td>AFG</td>\n",
       "      <td>Afghanistan</td>\n",
       "      <td>NaN</td>\n",
       "    </tr>\n",
       "    <tr>\n",
       "      <th>1</th>\n",
       "      <td>AHO</td>\n",
       "      <td>Curacao</td>\n",
       "      <td>Netherlands Antilles</td>\n",
       "    </tr>\n",
       "    <tr>\n",
       "      <th>2</th>\n",
       "      <td>ALB</td>\n",
       "      <td>Albania</td>\n",
       "      <td>NaN</td>\n",
       "    </tr>\n",
       "    <tr>\n",
       "      <th>3</th>\n",
       "      <td>ALG</td>\n",
       "      <td>Algeria</td>\n",
       "      <td>NaN</td>\n",
       "    </tr>\n",
       "    <tr>\n",
       "      <th>4</th>\n",
       "      <td>AND</td>\n",
       "      <td>Andorra</td>\n",
       "      <td>NaN</td>\n",
       "    </tr>\n",
       "  </tbody>\n",
       "</table>\n",
       "</div>"
      ],
      "text/plain": [
       "   NOC       region                 notes\n",
       "0  AFG  Afghanistan                   NaN\n",
       "1  AHO      Curacao  Netherlands Antilles\n",
       "2  ALB      Albania                   NaN\n",
       "3  ALG      Algeria                   NaN\n",
       "4  AND      Andorra                   NaN"
      ]
     },
     "execution_count": 4,
     "metadata": {},
     "output_type": "execute_result"
    }
   ],
   "source": [
    "region.head()"
   ]
  },
  {
   "cell_type": "code",
   "execution_count": 5,
   "id": "d51242b3",
   "metadata": {
    "execution": {
     "iopub.execute_input": "2022-01-26T07:12:31.572243Z",
     "iopub.status.busy": "2022-01-26T07:12:31.571519Z",
     "iopub.status.idle": "2022-01-26T07:12:31.759934Z",
     "shell.execute_reply": "2022-01-26T07:12:31.759441Z",
     "shell.execute_reply.started": "2022-01-26T06:57:21.512662Z"
    },
    "papermill": {
     "duration": 0.259278,
     "end_time": "2022-01-26T07:12:31.760077",
     "exception": false,
     "start_time": "2022-01-26T07:12:31.500799",
     "status": "completed"
    },
    "tags": []
   },
   "outputs": [
    {
     "data": {
      "text/html": [
       "<div>\n",
       "<style scoped>\n",
       "    .dataframe tbody tr th:only-of-type {\n",
       "        vertical-align: middle;\n",
       "    }\n",
       "\n",
       "    .dataframe tbody tr th {\n",
       "        vertical-align: top;\n",
       "    }\n",
       "\n",
       "    .dataframe thead th {\n",
       "        text-align: right;\n",
       "    }\n",
       "</style>\n",
       "<table border=\"1\" class=\"dataframe\">\n",
       "  <thead>\n",
       "    <tr style=\"text-align: right;\">\n",
       "      <th></th>\n",
       "      <th>ID</th>\n",
       "      <th>Name</th>\n",
       "      <th>Sex</th>\n",
       "      <th>Age</th>\n",
       "      <th>Height</th>\n",
       "      <th>Weight</th>\n",
       "      <th>Team</th>\n",
       "      <th>NOC</th>\n",
       "      <th>Games</th>\n",
       "      <th>Year</th>\n",
       "      <th>Season</th>\n",
       "      <th>City</th>\n",
       "      <th>Sport</th>\n",
       "      <th>Event</th>\n",
       "      <th>Medal</th>\n",
       "      <th>region</th>\n",
       "      <th>notes</th>\n",
       "    </tr>\n",
       "  </thead>\n",
       "  <tbody>\n",
       "    <tr>\n",
       "      <th>0</th>\n",
       "      <td>1</td>\n",
       "      <td>A Dijiang</td>\n",
       "      <td>M</td>\n",
       "      <td>24.0</td>\n",
       "      <td>180.0</td>\n",
       "      <td>80.0</td>\n",
       "      <td>China</td>\n",
       "      <td>CHN</td>\n",
       "      <td>1992 Summer</td>\n",
       "      <td>1992</td>\n",
       "      <td>Summer</td>\n",
       "      <td>Barcelona</td>\n",
       "      <td>Basketball</td>\n",
       "      <td>Basketball Men's Basketball</td>\n",
       "      <td>NaN</td>\n",
       "      <td>China</td>\n",
       "      <td>NaN</td>\n",
       "    </tr>\n",
       "    <tr>\n",
       "      <th>1</th>\n",
       "      <td>2</td>\n",
       "      <td>A Lamusi</td>\n",
       "      <td>M</td>\n",
       "      <td>23.0</td>\n",
       "      <td>170.0</td>\n",
       "      <td>60.0</td>\n",
       "      <td>China</td>\n",
       "      <td>CHN</td>\n",
       "      <td>2012 Summer</td>\n",
       "      <td>2012</td>\n",
       "      <td>Summer</td>\n",
       "      <td>London</td>\n",
       "      <td>Judo</td>\n",
       "      <td>Judo Men's Extra-Lightweight</td>\n",
       "      <td>NaN</td>\n",
       "      <td>China</td>\n",
       "      <td>NaN</td>\n",
       "    </tr>\n",
       "    <tr>\n",
       "      <th>2</th>\n",
       "      <td>3</td>\n",
       "      <td>Gunnar Nielsen Aaby</td>\n",
       "      <td>M</td>\n",
       "      <td>24.0</td>\n",
       "      <td>NaN</td>\n",
       "      <td>NaN</td>\n",
       "      <td>Denmark</td>\n",
       "      <td>DEN</td>\n",
       "      <td>1920 Summer</td>\n",
       "      <td>1920</td>\n",
       "      <td>Summer</td>\n",
       "      <td>Antwerpen</td>\n",
       "      <td>Football</td>\n",
       "      <td>Football Men's Football</td>\n",
       "      <td>NaN</td>\n",
       "      <td>Denmark</td>\n",
       "      <td>NaN</td>\n",
       "    </tr>\n",
       "    <tr>\n",
       "      <th>3</th>\n",
       "      <td>4</td>\n",
       "      <td>Edgar Lindenau Aabye</td>\n",
       "      <td>M</td>\n",
       "      <td>34.0</td>\n",
       "      <td>NaN</td>\n",
       "      <td>NaN</td>\n",
       "      <td>Denmark/Sweden</td>\n",
       "      <td>DEN</td>\n",
       "      <td>1900 Summer</td>\n",
       "      <td>1900</td>\n",
       "      <td>Summer</td>\n",
       "      <td>Paris</td>\n",
       "      <td>Tug-Of-War</td>\n",
       "      <td>Tug-Of-War Men's Tug-Of-War</td>\n",
       "      <td>Gold</td>\n",
       "      <td>Denmark</td>\n",
       "      <td>NaN</td>\n",
       "    </tr>\n",
       "    <tr>\n",
       "      <th>4</th>\n",
       "      <td>5</td>\n",
       "      <td>Christine Jacoba Aaftink</td>\n",
       "      <td>F</td>\n",
       "      <td>21.0</td>\n",
       "      <td>185.0</td>\n",
       "      <td>82.0</td>\n",
       "      <td>Netherlands</td>\n",
       "      <td>NED</td>\n",
       "      <td>1988 Winter</td>\n",
       "      <td>1988</td>\n",
       "      <td>Winter</td>\n",
       "      <td>Calgary</td>\n",
       "      <td>Speed Skating</td>\n",
       "      <td>Speed Skating Women's 500 metres</td>\n",
       "      <td>NaN</td>\n",
       "      <td>Netherlands</td>\n",
       "      <td>NaN</td>\n",
       "    </tr>\n",
       "  </tbody>\n",
       "</table>\n",
       "</div>"
      ],
      "text/plain": [
       "   ID                      Name Sex   Age  Height  Weight            Team  \\\n",
       "0   1                 A Dijiang   M  24.0   180.0    80.0           China   \n",
       "1   2                  A Lamusi   M  23.0   170.0    60.0           China   \n",
       "2   3       Gunnar Nielsen Aaby   M  24.0     NaN     NaN         Denmark   \n",
       "3   4      Edgar Lindenau Aabye   M  34.0     NaN     NaN  Denmark/Sweden   \n",
       "4   5  Christine Jacoba Aaftink   F  21.0   185.0    82.0     Netherlands   \n",
       "\n",
       "   NOC        Games  Year  Season       City          Sport  \\\n",
       "0  CHN  1992 Summer  1992  Summer  Barcelona     Basketball   \n",
       "1  CHN  2012 Summer  2012  Summer     London           Judo   \n",
       "2  DEN  1920 Summer  1920  Summer  Antwerpen       Football   \n",
       "3  DEN  1900 Summer  1900  Summer      Paris     Tug-Of-War   \n",
       "4  NED  1988 Winter  1988  Winter    Calgary  Speed Skating   \n",
       "\n",
       "                              Event Medal       region notes  \n",
       "0       Basketball Men's Basketball   NaN        China   NaN  \n",
       "1      Judo Men's Extra-Lightweight   NaN        China   NaN  \n",
       "2           Football Men's Football   NaN      Denmark   NaN  \n",
       "3       Tug-Of-War Men's Tug-Of-War  Gold      Denmark   NaN  \n",
       "4  Speed Skating Women's 500 metres   NaN  Netherlands   NaN  "
      ]
     },
     "execution_count": 5,
     "metadata": {},
     "output_type": "execute_result"
    }
   ],
   "source": [
    "# Now, we will merge both the dataframes into single dataframe using 'region' as key field\n",
    "\n",
    "athlete_df = athletes.merge(region, how='left', on = 'NOC')\n",
    "athlete_df.head()"
   ]
  },
  {
   "cell_type": "code",
   "execution_count": 6,
   "id": "a59379f8",
   "metadata": {
    "execution": {
     "iopub.execute_input": "2022-01-26T07:12:31.814120Z",
     "iopub.status.busy": "2022-01-26T07:12:31.813490Z",
     "iopub.status.idle": "2022-01-26T07:12:31.816930Z",
     "shell.execute_reply": "2022-01-26T07:12:31.816487Z",
     "shell.execute_reply.started": "2022-01-26T06:57:22.147013Z"
    },
    "papermill": {
     "duration": 0.032283,
     "end_time": "2022-01-26T07:12:31.817060",
     "exception": false,
     "start_time": "2022-01-26T07:12:31.784777",
     "status": "completed"
    },
    "tags": []
   },
   "outputs": [
    {
     "data": {
      "text/plain": [
       "(271116, 17)"
      ]
     },
     "execution_count": 6,
     "metadata": {},
     "output_type": "execute_result"
    }
   ],
   "source": [
    "# To find how many rows & columns are there in the dataframe\n",
    "\n",
    "athlete_df.shape"
   ]
  },
  {
   "cell_type": "code",
   "execution_count": 7,
   "id": "3f612b11",
   "metadata": {
    "execution": {
     "iopub.execute_input": "2022-01-26T07:12:31.872089Z",
     "iopub.status.busy": "2022-01-26T07:12:31.868434Z",
     "iopub.status.idle": "2022-01-26T07:12:31.873523Z",
     "shell.execute_reply": "2022-01-26T07:12:31.873971Z",
     "shell.execute_reply.started": "2022-01-26T06:57:22.786482Z"
    },
    "papermill": {
     "duration": 0.032019,
     "end_time": "2022-01-26T07:12:31.874077",
     "exception": false,
     "start_time": "2022-01-26T07:12:31.842058",
     "status": "completed"
    },
    "tags": []
   },
   "outputs": [],
   "source": [
    "# Rename columns to make dataframe consistent\n",
    "\n",
    "athlete_df.rename(columns={'region':'Region', 'notes':'Notes'}, inplace=True)"
   ]
  },
  {
   "cell_type": "code",
   "execution_count": 8,
   "id": "f86d8594",
   "metadata": {
    "execution": {
     "iopub.execute_input": "2022-01-26T07:12:31.927876Z",
     "iopub.status.busy": "2022-01-26T07:12:31.927426Z",
     "iopub.status.idle": "2022-01-26T07:12:31.929475Z",
     "shell.execute_reply": "2022-01-26T07:12:31.929839Z",
     "shell.execute_reply.started": "2022-01-26T06:57:23.484867Z"
    },
    "papermill": {
     "duration": 0.031661,
     "end_time": "2022-01-26T07:12:31.929974",
     "exception": false,
     "start_time": "2022-01-26T07:12:31.898313",
     "status": "completed"
    },
    "tags": []
   },
   "outputs": [
    {
     "data": {
      "text/plain": [
       "Index(['ID', 'Name', 'Sex', 'Age', 'Height', 'Weight', 'Team', 'NOC', 'Games',\n",
       "       'Year', 'Season', 'City', 'Sport', 'Event', 'Medal', 'Region', 'Notes'],\n",
       "      dtype='object')"
      ]
     },
     "execution_count": 8,
     "metadata": {},
     "output_type": "execute_result"
    }
   ],
   "source": [
    "# To view the column names of the dataframe\n",
    "\n",
    "athlete_df.columns"
   ]
  },
  {
   "cell_type": "code",
   "execution_count": 9,
   "id": "2bf3a4f2",
   "metadata": {
    "execution": {
     "iopub.execute_input": "2022-01-26T07:12:31.984251Z",
     "iopub.status.busy": "2022-01-26T07:12:31.983732Z",
     "iopub.status.idle": "2022-01-26T07:12:32.116149Z",
     "shell.execute_reply": "2022-01-26T07:12:32.115731Z",
     "shell.execute_reply.started": "2022-01-26T06:57:24.123578Z"
    },
    "papermill": {
     "duration": 0.16113,
     "end_time": "2022-01-26T07:12:32.116255",
     "exception": false,
     "start_time": "2022-01-26T07:12:31.955125",
     "status": "completed"
    },
    "tags": []
   },
   "outputs": [
    {
     "name": "stdout",
     "output_type": "stream",
     "text": [
      "<class 'pandas.core.frame.DataFrame'>\n",
      "Int64Index: 271116 entries, 0 to 271115\n",
      "Data columns (total 17 columns):\n",
      " #   Column  Non-Null Count   Dtype  \n",
      "---  ------  --------------   -----  \n",
      " 0   ID      271116 non-null  int64  \n",
      " 1   Name    271116 non-null  object \n",
      " 2   Sex     271116 non-null  object \n",
      " 3   Age     261642 non-null  float64\n",
      " 4   Height  210945 non-null  float64\n",
      " 5   Weight  208241 non-null  float64\n",
      " 6   Team    271116 non-null  object \n",
      " 7   NOC     271116 non-null  object \n",
      " 8   Games   271116 non-null  object \n",
      " 9   Year    271116 non-null  int64  \n",
      " 10  Season  271116 non-null  object \n",
      " 11  City    271116 non-null  object \n",
      " 12  Sport   271116 non-null  object \n",
      " 13  Event   271116 non-null  object \n",
      " 14  Medal   39783 non-null   object \n",
      " 15  Region  270746 non-null  object \n",
      " 16  Notes   5039 non-null    object \n",
      "dtypes: float64(3), int64(2), object(12)\n",
      "memory usage: 37.2+ MB\n"
     ]
    }
   ],
   "source": [
    "# For veiwing basic information about the dataframe\n",
    "\n",
    "athlete_df.info()"
   ]
  },
  {
   "cell_type": "code",
   "execution_count": 10,
   "id": "168eb9da",
   "metadata": {
    "execution": {
     "iopub.execute_input": "2022-01-26T07:12:32.173025Z",
     "iopub.status.busy": "2022-01-26T07:12:32.172161Z",
     "iopub.status.idle": "2022-01-26T07:12:32.281433Z",
     "shell.execute_reply": "2022-01-26T07:12:32.280903Z",
     "shell.execute_reply.started": "2022-01-26T06:57:25.120366Z"
    },
    "papermill": {
     "duration": 0.139774,
     "end_time": "2022-01-26T07:12:32.281563",
     "exception": false,
     "start_time": "2022-01-26T07:12:32.141789",
     "status": "completed"
    },
    "tags": []
   },
   "outputs": [
    {
     "data": {
      "text/html": [
       "<div>\n",
       "<style scoped>\n",
       "    .dataframe tbody tr th:only-of-type {\n",
       "        vertical-align: middle;\n",
       "    }\n",
       "\n",
       "    .dataframe tbody tr th {\n",
       "        vertical-align: top;\n",
       "    }\n",
       "\n",
       "    .dataframe thead th {\n",
       "        text-align: right;\n",
       "    }\n",
       "</style>\n",
       "<table border=\"1\" class=\"dataframe\">\n",
       "  <thead>\n",
       "    <tr style=\"text-align: right;\">\n",
       "      <th></th>\n",
       "      <th>ID</th>\n",
       "      <th>Age</th>\n",
       "      <th>Height</th>\n",
       "      <th>Weight</th>\n",
       "      <th>Year</th>\n",
       "    </tr>\n",
       "  </thead>\n",
       "  <tbody>\n",
       "    <tr>\n",
       "      <th>count</th>\n",
       "      <td>271116.000000</td>\n",
       "      <td>261642.000000</td>\n",
       "      <td>210945.000000</td>\n",
       "      <td>208241.000000</td>\n",
       "      <td>271116.000000</td>\n",
       "    </tr>\n",
       "    <tr>\n",
       "      <th>mean</th>\n",
       "      <td>68248.954396</td>\n",
       "      <td>25.556898</td>\n",
       "      <td>175.338970</td>\n",
       "      <td>70.702393</td>\n",
       "      <td>1978.378480</td>\n",
       "    </tr>\n",
       "    <tr>\n",
       "      <th>std</th>\n",
       "      <td>39022.286345</td>\n",
       "      <td>6.393561</td>\n",
       "      <td>10.518462</td>\n",
       "      <td>14.348020</td>\n",
       "      <td>29.877632</td>\n",
       "    </tr>\n",
       "    <tr>\n",
       "      <th>min</th>\n",
       "      <td>1.000000</td>\n",
       "      <td>10.000000</td>\n",
       "      <td>127.000000</td>\n",
       "      <td>25.000000</td>\n",
       "      <td>1896.000000</td>\n",
       "    </tr>\n",
       "    <tr>\n",
       "      <th>25%</th>\n",
       "      <td>34643.000000</td>\n",
       "      <td>21.000000</td>\n",
       "      <td>168.000000</td>\n",
       "      <td>60.000000</td>\n",
       "      <td>1960.000000</td>\n",
       "    </tr>\n",
       "    <tr>\n",
       "      <th>50%</th>\n",
       "      <td>68205.000000</td>\n",
       "      <td>24.000000</td>\n",
       "      <td>175.000000</td>\n",
       "      <td>70.000000</td>\n",
       "      <td>1988.000000</td>\n",
       "    </tr>\n",
       "    <tr>\n",
       "      <th>75%</th>\n",
       "      <td>102097.250000</td>\n",
       "      <td>28.000000</td>\n",
       "      <td>183.000000</td>\n",
       "      <td>79.000000</td>\n",
       "      <td>2002.000000</td>\n",
       "    </tr>\n",
       "    <tr>\n",
       "      <th>max</th>\n",
       "      <td>135571.000000</td>\n",
       "      <td>97.000000</td>\n",
       "      <td>226.000000</td>\n",
       "      <td>214.000000</td>\n",
       "      <td>2016.000000</td>\n",
       "    </tr>\n",
       "  </tbody>\n",
       "</table>\n",
       "</div>"
      ],
      "text/plain": [
       "                  ID            Age         Height         Weight  \\\n",
       "count  271116.000000  261642.000000  210945.000000  208241.000000   \n",
       "mean    68248.954396      25.556898     175.338970      70.702393   \n",
       "std     39022.286345       6.393561      10.518462      14.348020   \n",
       "min         1.000000      10.000000     127.000000      25.000000   \n",
       "25%     34643.000000      21.000000     168.000000      60.000000   \n",
       "50%     68205.000000      24.000000     175.000000      70.000000   \n",
       "75%    102097.250000      28.000000     183.000000      79.000000   \n",
       "max    135571.000000      97.000000     226.000000     214.000000   \n",
       "\n",
       "                Year  \n",
       "count  271116.000000  \n",
       "mean     1978.378480  \n",
       "std        29.877632  \n",
       "min      1896.000000  \n",
       "25%      1960.000000  \n",
       "50%      1988.000000  \n",
       "75%      2002.000000  \n",
       "max      2016.000000  "
      ]
     },
     "execution_count": 10,
     "metadata": {},
     "output_type": "execute_result"
    }
   ],
   "source": [
    "athlete_df.describe()"
   ]
  },
  {
   "cell_type": "code",
   "execution_count": 11,
   "id": "5f5dcd2e",
   "metadata": {
    "execution": {
     "iopub.execute_input": "2022-01-26T07:12:32.475419Z",
     "iopub.status.busy": "2022-01-26T07:12:32.474665Z",
     "iopub.status.idle": "2022-01-26T07:12:32.484036Z",
     "shell.execute_reply": "2022-01-26T07:12:32.483625Z",
     "shell.execute_reply.started": "2022-01-26T06:57:25.686015Z"
    },
    "papermill": {
     "duration": 0.163033,
     "end_time": "2022-01-26T07:12:32.484140",
     "exception": false,
     "start_time": "2022-01-26T07:12:32.321107",
     "status": "completed"
    },
    "tags": []
   },
   "outputs": [
    {
     "data": {
      "text/plain": [
       "ID             0\n",
       "Name           0\n",
       "Sex            0\n",
       "Age         9474\n",
       "Height     60171\n",
       "Weight     62875\n",
       "Team           0\n",
       "NOC            0\n",
       "Games          0\n",
       "Year           0\n",
       "Season         0\n",
       "City           0\n",
       "Sport          0\n",
       "Event          0\n",
       "Medal     231333\n",
       "Region       370\n",
       "Notes     266077\n",
       "dtype: int64"
      ]
     },
     "execution_count": 11,
     "metadata": {},
     "output_type": "execute_result"
    }
   ],
   "source": [
    "# To find out the number of NaN (null values) in the dataframe columnwise\n",
    "\n",
    "athlete_df.isnull().sum()"
   ]
  },
  {
   "cell_type": "code",
   "execution_count": 12,
   "id": "fe87f8d2",
   "metadata": {
    "execution": {
     "iopub.execute_input": "2022-01-26T07:12:32.539663Z",
     "iopub.status.busy": "2022-01-26T07:12:32.539224Z",
     "iopub.status.idle": "2022-01-26T07:12:32.656992Z",
     "shell.execute_reply": "2022-01-26T07:12:32.656577Z",
     "shell.execute_reply.started": "2022-01-26T06:57:25.884979Z"
    },
    "papermill": {
     "duration": 0.147127,
     "end_time": "2022-01-26T07:12:32.657093",
     "exception": false,
     "start_time": "2022-01-26T07:12:32.509966",
     "status": "completed"
    },
    "tags": []
   },
   "outputs": [
    {
     "data": {
      "text/plain": [
       "['Age', 'Height', 'Weight', 'Medal', 'Region', 'Notes']"
      ]
     },
     "execution_count": 12,
     "metadata": {},
     "output_type": "execute_result"
    }
   ],
   "source": [
    "# Print column names containing null values or missing values in form of a list\n",
    "\n",
    "nan_values = athlete_df.isna()\n",
    "nan_columns = nan_values.any()\n",
    "nan_list = athlete_df.columns[nan_columns].tolist()\n",
    "nan_list"
   ]
  },
  {
   "cell_type": "code",
   "execution_count": 13,
   "id": "23885b44",
   "metadata": {
    "execution": {
     "iopub.execute_input": "2022-01-26T07:12:32.714460Z",
     "iopub.status.busy": "2022-01-26T07:12:32.713926Z",
     "iopub.status.idle": "2022-01-26T07:12:32.741428Z",
     "shell.execute_reply": "2022-01-26T07:12:32.740926Z",
     "shell.execute_reply.started": "2022-01-26T06:57:27.144297Z"
    },
    "papermill": {
     "duration": 0.057377,
     "end_time": "2022-01-26T07:12:32.741535",
     "exception": false,
     "start_time": "2022-01-26T07:12:32.684158",
     "status": "completed"
    },
    "tags": []
   },
   "outputs": [
    {
     "data": {
      "text/html": [
       "<div>\n",
       "<style scoped>\n",
       "    .dataframe tbody tr th:only-of-type {\n",
       "        vertical-align: middle;\n",
       "    }\n",
       "\n",
       "    .dataframe tbody tr th {\n",
       "        vertical-align: top;\n",
       "    }\n",
       "\n",
       "    .dataframe thead th {\n",
       "        text-align: right;\n",
       "    }\n",
       "</style>\n",
       "<table border=\"1\" class=\"dataframe\">\n",
       "  <thead>\n",
       "    <tr style=\"text-align: right;\">\n",
       "      <th></th>\n",
       "      <th>ID</th>\n",
       "      <th>Name</th>\n",
       "      <th>Sex</th>\n",
       "      <th>Age</th>\n",
       "      <th>Height</th>\n",
       "      <th>Weight</th>\n",
       "      <th>Team</th>\n",
       "      <th>NOC</th>\n",
       "      <th>Games</th>\n",
       "      <th>Year</th>\n",
       "      <th>Season</th>\n",
       "      <th>City</th>\n",
       "      <th>Sport</th>\n",
       "      <th>Event</th>\n",
       "      <th>Medal</th>\n",
       "      <th>Region</th>\n",
       "      <th>Notes</th>\n",
       "    </tr>\n",
       "  </thead>\n",
       "  <tbody>\n",
       "    <tr>\n",
       "      <th>505</th>\n",
       "      <td>281</td>\n",
       "      <td>S. Abdul Hamid</td>\n",
       "      <td>M</td>\n",
       "      <td>NaN</td>\n",
       "      <td>NaN</td>\n",
       "      <td>NaN</td>\n",
       "      <td>India</td>\n",
       "      <td>IND</td>\n",
       "      <td>1928 Summer</td>\n",
       "      <td>1928</td>\n",
       "      <td>Summer</td>\n",
       "      <td>Amsterdam</td>\n",
       "      <td>Athletics</td>\n",
       "      <td>Athletics Men's 110 metres Hurdles</td>\n",
       "      <td>NaN</td>\n",
       "      <td>India</td>\n",
       "      <td>NaN</td>\n",
       "    </tr>\n",
       "    <tr>\n",
       "      <th>506</th>\n",
       "      <td>281</td>\n",
       "      <td>S. Abdul Hamid</td>\n",
       "      <td>M</td>\n",
       "      <td>NaN</td>\n",
       "      <td>NaN</td>\n",
       "      <td>NaN</td>\n",
       "      <td>India</td>\n",
       "      <td>IND</td>\n",
       "      <td>1928 Summer</td>\n",
       "      <td>1928</td>\n",
       "      <td>Summer</td>\n",
       "      <td>Amsterdam</td>\n",
       "      <td>Athletics</td>\n",
       "      <td>Athletics Men's 400 metres Hurdles</td>\n",
       "      <td>NaN</td>\n",
       "      <td>India</td>\n",
       "      <td>NaN</td>\n",
       "    </tr>\n",
       "    <tr>\n",
       "      <th>895</th>\n",
       "      <td>512</td>\n",
       "      <td>Shiny Kurisingal Abraham-Wilson</td>\n",
       "      <td>F</td>\n",
       "      <td>19.0</td>\n",
       "      <td>167.0</td>\n",
       "      <td>53.0</td>\n",
       "      <td>India</td>\n",
       "      <td>IND</td>\n",
       "      <td>1984 Summer</td>\n",
       "      <td>1984</td>\n",
       "      <td>Summer</td>\n",
       "      <td>Los Angeles</td>\n",
       "      <td>Athletics</td>\n",
       "      <td>Athletics Women's 800 metres</td>\n",
       "      <td>NaN</td>\n",
       "      <td>India</td>\n",
       "      <td>NaN</td>\n",
       "    </tr>\n",
       "    <tr>\n",
       "      <th>896</th>\n",
       "      <td>512</td>\n",
       "      <td>Shiny Kurisingal Abraham-Wilson</td>\n",
       "      <td>F</td>\n",
       "      <td>19.0</td>\n",
       "      <td>167.0</td>\n",
       "      <td>53.0</td>\n",
       "      <td>India</td>\n",
       "      <td>IND</td>\n",
       "      <td>1984 Summer</td>\n",
       "      <td>1984</td>\n",
       "      <td>Summer</td>\n",
       "      <td>Los Angeles</td>\n",
       "      <td>Athletics</td>\n",
       "      <td>Athletics Women's 4 x 400 metres Relay</td>\n",
       "      <td>NaN</td>\n",
       "      <td>India</td>\n",
       "      <td>NaN</td>\n",
       "    </tr>\n",
       "    <tr>\n",
       "      <th>897</th>\n",
       "      <td>512</td>\n",
       "      <td>Shiny Kurisingal Abraham-Wilson</td>\n",
       "      <td>F</td>\n",
       "      <td>23.0</td>\n",
       "      <td>167.0</td>\n",
       "      <td>53.0</td>\n",
       "      <td>India</td>\n",
       "      <td>IND</td>\n",
       "      <td>1988 Summer</td>\n",
       "      <td>1988</td>\n",
       "      <td>Summer</td>\n",
       "      <td>Seoul</td>\n",
       "      <td>Athletics</td>\n",
       "      <td>Athletics Women's 800 metres</td>\n",
       "      <td>NaN</td>\n",
       "      <td>India</td>\n",
       "      <td>NaN</td>\n",
       "    </tr>\n",
       "  </tbody>\n",
       "</table>\n",
       "</div>"
      ],
      "text/plain": [
       "      ID                             Name Sex   Age  Height  Weight   Team  \\\n",
       "505  281                   S. Abdul Hamid   M   NaN     NaN     NaN  India   \n",
       "506  281                   S. Abdul Hamid   M   NaN     NaN     NaN  India   \n",
       "895  512  Shiny Kurisingal Abraham-Wilson   F  19.0   167.0    53.0  India   \n",
       "896  512  Shiny Kurisingal Abraham-Wilson   F  19.0   167.0    53.0  India   \n",
       "897  512  Shiny Kurisingal Abraham-Wilson   F  23.0   167.0    53.0  India   \n",
       "\n",
       "     NOC        Games  Year  Season         City      Sport  \\\n",
       "505  IND  1928 Summer  1928  Summer    Amsterdam  Athletics   \n",
       "506  IND  1928 Summer  1928  Summer    Amsterdam  Athletics   \n",
       "895  IND  1984 Summer  1984  Summer  Los Angeles  Athletics   \n",
       "896  IND  1984 Summer  1984  Summer  Los Angeles  Athletics   \n",
       "897  IND  1988 Summer  1988  Summer        Seoul  Athletics   \n",
       "\n",
       "                                      Event Medal Region Notes  \n",
       "505      Athletics Men's 110 metres Hurdles   NaN  India   NaN  \n",
       "506      Athletics Men's 400 metres Hurdles   NaN  India   NaN  \n",
       "895            Athletics Women's 800 metres   NaN  India   NaN  \n",
       "896  Athletics Women's 4 x 400 metres Relay   NaN  India   NaN  \n",
       "897            Athletics Women's 800 metres   NaN  India   NaN  "
      ]
     },
     "execution_count": 13,
     "metadata": {},
     "output_type": "execute_result"
    }
   ],
   "source": [
    "# To filter/view the datframe on the basis of certain conditions we can query the dataframe\n",
    "# For example, to view the entries of Indian Team\n",
    "\n",
    "athlete_df.query('Team == \"India\"').head()"
   ]
  },
  {
   "cell_type": "code",
   "execution_count": 14,
   "id": "2b9ebfe7",
   "metadata": {
    "execution": {
     "iopub.execute_input": "2022-01-26T07:12:32.797496Z",
     "iopub.status.busy": "2022-01-26T07:12:32.796972Z",
     "iopub.status.idle": "2022-01-26T07:12:32.835064Z",
     "shell.execute_reply": "2022-01-26T07:12:32.834627Z",
     "shell.execute_reply.started": "2022-01-26T06:57:28.259038Z"
    },
    "papermill": {
     "duration": 0.066725,
     "end_time": "2022-01-26T07:12:32.835167",
     "exception": false,
     "start_time": "2022-01-26T07:12:32.768442",
     "status": "completed"
    },
    "tags": []
   },
   "outputs": [
    {
     "data": {
      "text/html": [
       "<div>\n",
       "<style scoped>\n",
       "    .dataframe tbody tr th:only-of-type {\n",
       "        vertical-align: middle;\n",
       "    }\n",
       "\n",
       "    .dataframe tbody tr th {\n",
       "        vertical-align: top;\n",
       "    }\n",
       "\n",
       "    .dataframe thead th {\n",
       "        text-align: right;\n",
       "    }\n",
       "</style>\n",
       "<table border=\"1\" class=\"dataframe\">\n",
       "  <thead>\n",
       "    <tr style=\"text-align: right;\">\n",
       "      <th></th>\n",
       "      <th>ID</th>\n",
       "      <th>Name</th>\n",
       "      <th>Sex</th>\n",
       "      <th>Age</th>\n",
       "      <th>Height</th>\n",
       "      <th>Weight</th>\n",
       "      <th>Team</th>\n",
       "      <th>NOC</th>\n",
       "      <th>Games</th>\n",
       "      <th>Year</th>\n",
       "      <th>Season</th>\n",
       "      <th>City</th>\n",
       "      <th>Sport</th>\n",
       "      <th>Event</th>\n",
       "      <th>Medal</th>\n",
       "      <th>Region</th>\n",
       "      <th>Notes</th>\n",
       "    </tr>\n",
       "  </thead>\n",
       "  <tbody>\n",
       "    <tr>\n",
       "      <th>625</th>\n",
       "      <td>362</td>\n",
       "      <td>Isao Ko Abe</td>\n",
       "      <td>M</td>\n",
       "      <td>24.0</td>\n",
       "      <td>177.0</td>\n",
       "      <td>75.0</td>\n",
       "      <td>Japan</td>\n",
       "      <td>JPN</td>\n",
       "      <td>1936 Summer</td>\n",
       "      <td>1936</td>\n",
       "      <td>Summer</td>\n",
       "      <td>Berlin</td>\n",
       "      <td>Athletics</td>\n",
       "      <td>Athletics Men's Hammer Throw</td>\n",
       "      <td>NaN</td>\n",
       "      <td>Japan</td>\n",
       "      <td>NaN</td>\n",
       "    </tr>\n",
       "    <tr>\n",
       "      <th>629</th>\n",
       "      <td>363</td>\n",
       "      <td>Kazumi Abe</td>\n",
       "      <td>M</td>\n",
       "      <td>28.0</td>\n",
       "      <td>178.0</td>\n",
       "      <td>67.0</td>\n",
       "      <td>Japan</td>\n",
       "      <td>JPN</td>\n",
       "      <td>1976 Winter</td>\n",
       "      <td>1976</td>\n",
       "      <td>Winter</td>\n",
       "      <td>Innsbruck</td>\n",
       "      <td>Bobsleigh</td>\n",
       "      <td>Bobsleigh Men's Four</td>\n",
       "      <td>NaN</td>\n",
       "      <td>Japan</td>\n",
       "      <td>NaN</td>\n",
       "    </tr>\n",
       "    <tr>\n",
       "      <th>630</th>\n",
       "      <td>364</td>\n",
       "      <td>Kazuo Abe</td>\n",
       "      <td>M</td>\n",
       "      <td>25.0</td>\n",
       "      <td>166.0</td>\n",
       "      <td>69.0</td>\n",
       "      <td>Japan</td>\n",
       "      <td>JPN</td>\n",
       "      <td>1960 Summer</td>\n",
       "      <td>1960</td>\n",
       "      <td>Summer</td>\n",
       "      <td>Roma</td>\n",
       "      <td>Wrestling</td>\n",
       "      <td>Wrestling Men's Lightweight, Freestyle</td>\n",
       "      <td>NaN</td>\n",
       "      <td>Japan</td>\n",
       "      <td>NaN</td>\n",
       "    </tr>\n",
       "    <tr>\n",
       "      <th>631</th>\n",
       "      <td>365</td>\n",
       "      <td>Kinya Abe</td>\n",
       "      <td>M</td>\n",
       "      <td>23.0</td>\n",
       "      <td>168.0</td>\n",
       "      <td>68.0</td>\n",
       "      <td>Japan</td>\n",
       "      <td>JPN</td>\n",
       "      <td>1992 Summer</td>\n",
       "      <td>1992</td>\n",
       "      <td>Summer</td>\n",
       "      <td>Barcelona</td>\n",
       "      <td>Fencing</td>\n",
       "      <td>Fencing Men's Foil, Individual</td>\n",
       "      <td>NaN</td>\n",
       "      <td>Japan</td>\n",
       "      <td>NaN</td>\n",
       "    </tr>\n",
       "    <tr>\n",
       "      <th>632</th>\n",
       "      <td>366</td>\n",
       "      <td>Kiyoshi Abe</td>\n",
       "      <td>M</td>\n",
       "      <td>25.0</td>\n",
       "      <td>167.0</td>\n",
       "      <td>62.0</td>\n",
       "      <td>Japan</td>\n",
       "      <td>JPN</td>\n",
       "      <td>1972 Summer</td>\n",
       "      <td>1972</td>\n",
       "      <td>Summer</td>\n",
       "      <td>Munich</td>\n",
       "      <td>Wrestling</td>\n",
       "      <td>Wrestling Men's Featherweight, Freestyle</td>\n",
       "      <td>NaN</td>\n",
       "      <td>Japan</td>\n",
       "      <td>NaN</td>\n",
       "    </tr>\n",
       "  </tbody>\n",
       "</table>\n",
       "</div>"
      ],
      "text/plain": [
       "      ID         Name Sex   Age  Height  Weight   Team  NOC        Games  \\\n",
       "625  362  Isao Ko Abe   M  24.0   177.0    75.0  Japan  JPN  1936 Summer   \n",
       "629  363   Kazumi Abe   M  28.0   178.0    67.0  Japan  JPN  1976 Winter   \n",
       "630  364    Kazuo Abe   M  25.0   166.0    69.0  Japan  JPN  1960 Summer   \n",
       "631  365    Kinya Abe   M  23.0   168.0    68.0  Japan  JPN  1992 Summer   \n",
       "632  366  Kiyoshi Abe   M  25.0   167.0    62.0  Japan  JPN  1972 Summer   \n",
       "\n",
       "     Year  Season       City      Sport  \\\n",
       "625  1936  Summer     Berlin  Athletics   \n",
       "629  1976  Winter  Innsbruck  Bobsleigh   \n",
       "630  1960  Summer       Roma  Wrestling   \n",
       "631  1992  Summer  Barcelona    Fencing   \n",
       "632  1972  Summer     Munich  Wrestling   \n",
       "\n",
       "                                        Event Medal Region Notes  \n",
       "625              Athletics Men's Hammer Throw   NaN  Japan   NaN  \n",
       "629                      Bobsleigh Men's Four   NaN  Japan   NaN  \n",
       "630    Wrestling Men's Lightweight, Freestyle   NaN  Japan   NaN  \n",
       "631            Fencing Men's Foil, Individual   NaN  Japan   NaN  \n",
       "632  Wrestling Men's Featherweight, Freestyle   NaN  Japan   NaN  "
      ]
     },
     "execution_count": 14,
     "metadata": {},
     "output_type": "execute_result"
    }
   ],
   "source": [
    "athlete_df.query('Team == \"Japan\"').head()"
   ]
  },
  {
   "cell_type": "code",
   "execution_count": 15,
   "id": "52e765a3",
   "metadata": {
    "execution": {
     "iopub.execute_input": "2022-01-26T07:12:32.908929Z",
     "iopub.status.busy": "2022-01-26T07:12:32.908010Z",
     "iopub.status.idle": "2022-01-26T07:12:32.914076Z",
     "shell.execute_reply": "2022-01-26T07:12:32.913631Z",
     "shell.execute_reply.started": "2022-01-26T06:57:29.765956Z"
    },
    "papermill": {
     "duration": 0.052485,
     "end_time": "2022-01-26T07:12:32.914189",
     "exception": false,
     "start_time": "2022-01-26T07:12:32.861704",
     "status": "completed"
    },
    "tags": []
   },
   "outputs": [
    {
     "data": {
      "text/plain": [
       "United States    17847\n",
       "France           11988\n",
       "Great Britain    11404\n",
       "Italy            10260\n",
       "Germany           9326\n",
       "Canada            9279\n",
       "Japan             8289\n",
       "Sweden            8052\n",
       "Australia         7513\n",
       "Hungary           6547\n",
       "Name: Team, dtype: int64"
      ]
     },
     "execution_count": 15,
     "metadata": {},
     "output_type": "execute_result"
    }
   ],
   "source": [
    "# Top 10 countries participating which have most number of participants\n",
    "\n",
    "top_10_countries = athlete_df.Team.value_counts().sort_values(ascending = False).head(10)\n",
    "top_10_countries"
   ]
  },
  {
   "cell_type": "code",
   "execution_count": 16,
   "id": "ed7ff620",
   "metadata": {
    "execution": {
     "iopub.execute_input": "2022-01-26T07:12:32.972824Z",
     "iopub.status.busy": "2022-01-26T07:12:32.972360Z",
     "iopub.status.idle": "2022-01-26T07:12:33.315266Z",
     "shell.execute_reply": "2022-01-26T07:12:33.314849Z",
     "shell.execute_reply.started": "2022-01-26T06:57:32.174804Z"
    },
    "papermill": {
     "duration": 0.373186,
     "end_time": "2022-01-26T07:12:33.315375",
     "exception": false,
     "start_time": "2022-01-26T07:12:32.942189",
     "status": "completed"
    },
    "tags": []
   },
   "outputs": [
    {
     "data": {
      "text/plain": [
       "<AxesSubplot:title={'center':'Overall Participation of Countries'}, xlabel='Team', ylabel='Countries'>"
      ]
     },
     "execution_count": 16,
     "metadata": {},
     "output_type": "execute_result"
    },
    {
     "data": {
      "image/png": "[encoded data removed]",
      "text/plain": [
       "<Figure size 864x432 with 1 Axes>"
      ]
     },
     "metadata": {
      "needs_background": "light"
     },
     "output_type": "display_data"
    }
   ],
   "source": [
    "# Bar Plot for top 10 countries\n",
    "\n",
    "plt.figure(figsize=(12,6))\n",
    "plt.title('Overall Participation of Countries')\n",
    "plt.xticks(rotation=20)\n",
    "plt.xlabel('Participation')\n",
    "plt.ylabel('Countries')\n",
    "sns.barplot(x = top_10_countries, y = top_10_countries.index)"
   ]
  },
  {
   "cell_type": "code",
   "execution_count": 17,
   "id": "a5242f0c",
   "metadata": {
    "execution": {
     "iopub.execute_input": "2022-01-26T07:12:33.376664Z",
     "iopub.status.busy": "2022-01-26T07:12:33.375921Z",
     "iopub.status.idle": "2022-01-26T07:12:33.647319Z",
     "shell.execute_reply": "2022-01-26T07:12:33.646654Z",
     "shell.execute_reply.started": "2022-01-26T06:57:34.317607Z"
    },
    "papermill": {
     "duration": 0.303277,
     "end_time": "2022-01-26T07:12:33.647457",
     "exception": false,
     "start_time": "2022-01-26T07:12:33.344180",
     "status": "completed"
    },
    "tags": []
   },
   "outputs": [
    {
     "data": {
      "text/plain": [
       "(array([1.4000e+01, 2.2600e+02, 3.0400e+03, 9.2280e+03, 1.9795e+04,\n",
       "        3.4422e+04, 4.2689e+04, 4.1427e+04, 3.3700e+04, 2.5506e+04,\n",
       "        1.7047e+04, 1.1046e+04, 7.1180e+03, 4.4560e+03, 3.0170e+03,\n",
       "        2.1630e+03, 1.6590e+03, 1.2670e+03, 8.3700e+02, 7.6900e+02,\n",
       "        4.7700e+02, 4.4400e+02, 2.6600e+02, 2.0000e+02, 1.7100e+02,\n",
       "        1.5600e+02, 1.1800e+02, 1.1400e+02, 5.6000e+01, 8.5000e+01,\n",
       "        6.1000e+01, 3.2000e+01, 1.6000e+01, 9.0000e+00]),\n",
       " array([10, 12, 14, 16, 18, 20, 22, 24, 26, 28, 30, 32, 34, 36, 38, 40, 42,\n",
       "        44, 46, 48, 50, 52, 54, 56, 58, 60, 62, 64, 66, 68, 70, 72, 74, 76,\n",
       "        78]),\n",
       " <BarContainer object of 34 artists>)"
      ]
     },
     "execution_count": 17,
     "metadata": {},
     "output_type": "execute_result"
    },
    {
     "data": {
      "image/png": "[encoded data removed]",
      "text/plain": [
       "<Figure size 864x432 with 1 Axes>"
      ]
     },
     "metadata": {
      "needs_background": "light"
     },
     "output_type": "display_data"
    }
   ],
   "source": [
    "# Age distribution of participants in form of Histogram\n",
    "\n",
    "plt.figure(figsize=(12,6))\n",
    "plt.title('Age distribution of participants')\n",
    "plt.xlabel('Age')\n",
    "plt.ylabel('Number of participants')\n",
    "plt.hist(athlete_df.Age, bins=np.arange(10,80,2), color='orange', edgecolor='white')"
   ]
  },
  {
   "cell_type": "markdown",
   "id": "88733c15",
   "metadata": {
    "papermill": {
     "duration": 0.045001,
     "end_time": "2022-01-26T07:12:33.737618",
     "exception": false,
     "start_time": "2022-01-26T07:12:33.692617",
     "status": "completed"
    },
    "tags": []
   },
   "source": [
    "We can see most number of participants are in the age group of 22 to 26"
   ]
  },
  {
   "cell_type": "code",
   "execution_count": 18,
   "id": "3076d03e",
   "metadata": {
    "execution": {
     "iopub.execute_input": "2022-01-26T07:12:33.849356Z",
     "iopub.status.busy": "2022-01-26T07:12:33.848671Z",
     "iopub.status.idle": "2022-01-26T07:12:33.869678Z",
     "shell.execute_reply": "2022-01-26T07:12:33.870055Z",
     "shell.execute_reply.started": "2022-01-26T07:00:05.137638Z"
    },
    "papermill": {
     "duration": 0.086552,
     "end_time": "2022-01-26T07:12:33.870186",
     "exception": false,
     "start_time": "2022-01-26T07:12:33.783634",
     "status": "completed"
    },
    "tags": []
   },
   "outputs": [
    {
     "data": {
      "text/plain": [
       "array(['Speed Skating', 'Cross Country Skiing', 'Ice Hockey', 'Biathlon',\n",
       "       'Alpine Skiing', 'Luge', 'Bobsleigh', 'Figure Skating',\n",
       "       'Nordic Combined', 'Freestyle Skiing', 'Ski Jumping', 'Curling',\n",
       "       'Snowboarding', 'Short Track Speed Skating', 'Skeleton',\n",
       "       'Military Ski Patrol', 'Alpinism'], dtype=object)"
      ]
     },
     "execution_count": 18,
     "metadata": {},
     "output_type": "execute_result"
    }
   ],
   "source": [
    "# Creating a dataframe for Winter Sports\n",
    "\n",
    "winter_sports = athlete_df[athlete_df.Season == 'Winter'].Sport.unique()\n",
    "winter_sports"
   ]
  },
  {
   "cell_type": "code",
   "execution_count": 19,
   "id": "8d8a3b2b",
   "metadata": {
    "execution": {
     "iopub.execute_input": "2022-01-26T07:12:33.931233Z",
     "iopub.status.busy": "2022-01-26T07:12:33.930763Z",
     "iopub.status.idle": "2022-01-26T07:12:34.044558Z",
     "shell.execute_reply": "2022-01-26T07:12:34.043871Z",
     "shell.execute_reply.started": "2022-01-26T07:00:11.165631Z"
    },
    "papermill": {
     "duration": 0.145278,
     "end_time": "2022-01-26T07:12:34.044701",
     "exception": false,
     "start_time": "2022-01-26T07:12:33.899423",
     "status": "completed"
    },
    "tags": []
   },
   "outputs": [
    {
     "data": {
      "text/plain": [
       "array(['Basketball', 'Judo', 'Football', 'Tug-Of-War', 'Athletics',\n",
       "       'Swimming', 'Badminton', 'Sailing', 'Gymnastics',\n",
       "       'Art Competitions', 'Handball', 'Weightlifting', 'Wrestling',\n",
       "       'Water Polo', 'Hockey', 'Rowing', 'Fencing', 'Equestrianism',\n",
       "       'Shooting', 'Boxing', 'Taekwondo', 'Cycling', 'Diving', 'Canoeing',\n",
       "       'Tennis', 'Modern Pentathlon', 'Golf', 'Softball', 'Archery',\n",
       "       'Volleyball', 'Synchronized Swimming', 'Table Tennis', 'Baseball',\n",
       "       'Rhythmic Gymnastics', 'Rugby Sevens', 'Trampolining',\n",
       "       'Beach Volleyball', 'Triathlon', 'Rugby', 'Lacrosse', 'Polo',\n",
       "       'Cricket', 'Ice Hockey', 'Racquets', 'Motorboating', 'Croquet',\n",
       "       'Figure Skating', 'Jeu De Paume', 'Roque', 'Basque Pelota',\n",
       "       'Alpinism', 'Aeronautics'], dtype=object)"
      ]
     },
     "execution_count": 19,
     "metadata": {},
     "output_type": "execute_result"
    }
   ],
   "source": [
    "# Creating a dataframe for Summer Sports\n",
    "\n",
    "summer_sports = athlete_df[athlete_df.Season == 'Summer'].Sport.unique()\n",
    "summer_sports"
   ]
  },
  {
   "cell_type": "code",
   "execution_count": 20,
   "id": "45a5e811",
   "metadata": {
    "execution": {
     "iopub.execute_input": "2022-01-26T07:12:34.139388Z",
     "iopub.status.busy": "2022-01-26T07:12:34.138686Z",
     "iopub.status.idle": "2022-01-26T07:12:34.153455Z",
     "shell.execute_reply": "2022-01-26T07:12:34.153986Z",
     "shell.execute_reply.started": "2022-01-26T07:00:30.767841Z"
    },
    "papermill": {
     "duration": 0.063792,
     "end_time": "2022-01-26T07:12:34.154143",
     "exception": false,
     "start_time": "2022-01-26T07:12:34.090351",
     "status": "completed"
    },
    "tags": []
   },
   "outputs": [
    {
     "data": {
      "text/plain": [
       "M    196594\n",
       "F     74522\n",
       "Name: Sex, dtype: int64"
      ]
     },
     "execution_count": 20,
     "metadata": {},
     "output_type": "execute_result"
    }
   ],
   "source": [
    "# Number of Male and Female Participants\n",
    "\n",
    "gender_count = athlete_df.Sex.value_counts()\n",
    "gender_count"
   ]
  },
  {
   "cell_type": "code",
   "execution_count": 21,
   "id": "2cc12ec5",
   "metadata": {
    "execution": {
     "iopub.execute_input": "2022-01-26T07:12:34.258710Z",
     "iopub.status.busy": "2022-01-26T07:12:34.250265Z",
     "iopub.status.idle": "2022-01-26T07:12:34.351301Z",
     "shell.execute_reply": "2022-01-26T07:12:34.351776Z",
     "shell.execute_reply.started": "2022-01-26T07:00:41.113973Z"
    },
    "papermill": {
     "duration": 0.151052,
     "end_time": "2022-01-26T07:12:34.351923",
     "exception": false,
     "start_time": "2022-01-26T07:12:34.200871",
     "status": "completed"
    },
    "tags": []
   },
   "outputs": [
    {
     "data": {
      "text/plain": [
       "([<matplotlib.patches.Wedge at 0x7f3727334850>,\n",
       "  <matplotlib.patches.Wedge at 0x7f3727340510>],\n",
       " [Text(0.20089640434146097, -1.081499253223354, 'M'),\n",
       "  Text(-0.2008963030841931, 1.081499272032628, 'F')],\n",
       " [Text(0.10957985691352415, -0.5899086835763748, '72.5%'),\n",
       "  Text(-0.10957980168228713, 0.5899086938359788, '27.5%')])"
      ]
     },
     "execution_count": 21,
     "metadata": {},
     "output_type": "execute_result"
    },
    {
     "data": {
      "image/png": "[encoded data removed]",
      "text/plain": [
       "<Figure size 864x432 with 1 Axes>"
      ]
     },
     "metadata": {},
     "output_type": "display_data"
    }
   ],
   "source": [
    "# Pie Chart for Male & Female districution\n",
    "\n",
    "plt.figure(figsize=(12,6))\n",
    "plt.title('Male & Female Distribution')\n",
    "plt.pie(gender_count, labels=gender_count.index, autopct='%1.1f%%', startangle=150, shadow=True)"
   ]
  },
  {
   "cell_type": "code",
   "execution_count": 22,
   "id": "4bb015ce",
   "metadata": {
    "execution": {
     "iopub.execute_input": "2022-01-26T07:12:34.464228Z",
     "iopub.status.busy": "2022-01-26T07:12:34.463691Z",
     "iopub.status.idle": "2022-01-26T07:12:34.476705Z",
     "shell.execute_reply": "2022-01-26T07:12:34.477092Z",
     "shell.execute_reply.started": "2022-01-26T07:00:56.362868Z"
    },
    "papermill": {
     "duration": 0.093547,
     "end_time": "2022-01-26T07:12:34.477227",
     "exception": false,
     "start_time": "2022-01-26T07:12:34.383680",
     "status": "completed"
    },
    "tags": []
   },
   "outputs": [
    {
     "data": {
      "text/plain": [
       "Gold      13372\n",
       "Bronze    13295\n",
       "Silver    13116\n",
       "Name: Medal, dtype: int64"
      ]
     },
     "execution_count": 22,
     "metadata": {},
     "output_type": "execute_result"
    }
   ],
   "source": [
    "# Medal count in all the Olympic events\n",
    "\n",
    "athlete_df.Medal.value_counts()"
   ]
  },
  {
   "cell_type": "code",
   "execution_count": 23,
   "id": "c0f0786c",
   "metadata": {
    "execution": {
     "iopub.execute_input": "2022-01-26T07:12:34.545301Z",
     "iopub.status.busy": "2022-01-26T07:12:34.544774Z",
     "iopub.status.idle": "2022-01-26T07:12:34.605778Z",
     "shell.execute_reply": "2022-01-26T07:12:34.606168Z",
     "shell.execute_reply.started": "2022-01-26T07:01:27.413387Z"
    },
    "papermill": {
     "duration": 0.096201,
     "end_time": "2022-01-26T07:12:34.606307",
     "exception": false,
     "start_time": "2022-01-26T07:12:34.510106",
     "status": "completed"
    },
    "tags": []
   },
   "outputs": [
    {
     "data": {
      "text/html": [
       "<div>\n",
       "<style scoped>\n",
       "    .dataframe tbody tr th:only-of-type {\n",
       "        vertical-align: middle;\n",
       "    }\n",
       "\n",
       "    .dataframe tbody tr th {\n",
       "        vertical-align: top;\n",
       "    }\n",
       "\n",
       "    .dataframe thead th {\n",
       "        text-align: right;\n",
       "    }\n",
       "</style>\n",
       "<table border=\"1\" class=\"dataframe\">\n",
       "  <thead>\n",
       "    <tr style=\"text-align: right;\">\n",
       "      <th></th>\n",
       "      <th>Year</th>\n",
       "      <th>Sex</th>\n",
       "    </tr>\n",
       "  </thead>\n",
       "  <tbody>\n",
       "    <tr>\n",
       "      <th>0</th>\n",
       "      <td>1900</td>\n",
       "      <td>33</td>\n",
       "    </tr>\n",
       "    <tr>\n",
       "      <th>1</th>\n",
       "      <td>1904</td>\n",
       "      <td>16</td>\n",
       "    </tr>\n",
       "    <tr>\n",
       "      <th>2</th>\n",
       "      <td>1906</td>\n",
       "      <td>11</td>\n",
       "    </tr>\n",
       "    <tr>\n",
       "      <th>3</th>\n",
       "      <td>1908</td>\n",
       "      <td>47</td>\n",
       "    </tr>\n",
       "    <tr>\n",
       "      <th>4</th>\n",
       "      <td>1912</td>\n",
       "      <td>87</td>\n",
       "    </tr>\n",
       "    <tr>\n",
       "      <th>5</th>\n",
       "      <td>1920</td>\n",
       "      <td>134</td>\n",
       "    </tr>\n",
       "    <tr>\n",
       "      <th>6</th>\n",
       "      <td>1924</td>\n",
       "      <td>244</td>\n",
       "    </tr>\n",
       "    <tr>\n",
       "      <th>7</th>\n",
       "      <td>1928</td>\n",
       "      <td>404</td>\n",
       "    </tr>\n",
       "    <tr>\n",
       "      <th>8</th>\n",
       "      <td>1932</td>\n",
       "      <td>347</td>\n",
       "    </tr>\n",
       "    <tr>\n",
       "      <th>9</th>\n",
       "      <td>1936</td>\n",
       "      <td>468</td>\n",
       "    </tr>\n",
       "    <tr>\n",
       "      <th>10</th>\n",
       "      <td>1948</td>\n",
       "      <td>628</td>\n",
       "    </tr>\n",
       "    <tr>\n",
       "      <th>11</th>\n",
       "      <td>1952</td>\n",
       "      <td>1497</td>\n",
       "    </tr>\n",
       "    <tr>\n",
       "      <th>12</th>\n",
       "      <td>1956</td>\n",
       "      <td>893</td>\n",
       "    </tr>\n",
       "    <tr>\n",
       "      <th>13</th>\n",
       "      <td>1960</td>\n",
       "      <td>1435</td>\n",
       "    </tr>\n",
       "    <tr>\n",
       "      <th>14</th>\n",
       "      <td>1964</td>\n",
       "      <td>1348</td>\n",
       "    </tr>\n",
       "    <tr>\n",
       "      <th>15</th>\n",
       "      <td>1968</td>\n",
       "      <td>1777</td>\n",
       "    </tr>\n",
       "    <tr>\n",
       "      <th>16</th>\n",
       "      <td>1972</td>\n",
       "      <td>2193</td>\n",
       "    </tr>\n",
       "    <tr>\n",
       "      <th>17</th>\n",
       "      <td>1976</td>\n",
       "      <td>2172</td>\n",
       "    </tr>\n",
       "    <tr>\n",
       "      <th>18</th>\n",
       "      <td>1980</td>\n",
       "      <td>1756</td>\n",
       "    </tr>\n",
       "    <tr>\n",
       "      <th>19</th>\n",
       "      <td>1984</td>\n",
       "      <td>2447</td>\n",
       "    </tr>\n",
       "    <tr>\n",
       "      <th>20</th>\n",
       "      <td>1988</td>\n",
       "      <td>3543</td>\n",
       "    </tr>\n",
       "    <tr>\n",
       "      <th>21</th>\n",
       "      <td>1992</td>\n",
       "      <td>4124</td>\n",
       "    </tr>\n",
       "    <tr>\n",
       "      <th>22</th>\n",
       "      <td>1996</td>\n",
       "      <td>5008</td>\n",
       "    </tr>\n",
       "    <tr>\n",
       "      <th>23</th>\n",
       "      <td>2000</td>\n",
       "      <td>5431</td>\n",
       "    </tr>\n",
       "    <tr>\n",
       "      <th>24</th>\n",
       "      <td>2004</td>\n",
       "      <td>5546</td>\n",
       "    </tr>\n",
       "    <tr>\n",
       "      <th>25</th>\n",
       "      <td>2008</td>\n",
       "      <td>5816</td>\n",
       "    </tr>\n",
       "    <tr>\n",
       "      <th>26</th>\n",
       "      <td>2012</td>\n",
       "      <td>5815</td>\n",
       "    </tr>\n",
       "    <tr>\n",
       "      <th>27</th>\n",
       "      <td>2016</td>\n",
       "      <td>6223</td>\n",
       "    </tr>\n",
       "  </tbody>\n",
       "</table>\n",
       "</div>"
      ],
      "text/plain": [
       "    Year   Sex\n",
       "0   1900    33\n",
       "1   1904    16\n",
       "2   1906    11\n",
       "3   1908    47\n",
       "4   1912    87\n",
       "5   1920   134\n",
       "6   1924   244\n",
       "7   1928   404\n",
       "8   1932   347\n",
       "9   1936   468\n",
       "10  1948   628\n",
       "11  1952  1497\n",
       "12  1956   893\n",
       "13  1960  1435\n",
       "14  1964  1348\n",
       "15  1968  1777\n",
       "16  1972  2193\n",
       "17  1976  2172\n",
       "18  1980  1756\n",
       "19  1984  2447\n",
       "20  1988  3543\n",
       "21  1992  4124\n",
       "22  1996  5008\n",
       "23  2000  5431\n",
       "24  2004  5546\n",
       "25  2008  5816\n",
       "26  2012  5815\n",
       "27  2016  6223"
      ]
     },
     "execution_count": 23,
     "metadata": {},
     "output_type": "execute_result"
    }
   ],
   "source": [
    "# Female participation every year\n",
    "\n",
    "female_participation = athlete_df[ (athlete_df.Sex == 'F') & (athlete_df.Season == 'Summer')][['Sex', 'Year']]\n",
    "female_participation = female_participation.groupby(\"Year\").count().reset_index()\n",
    "female_participation"
   ]
  },
  {
   "cell_type": "code",
   "execution_count": 24,
   "id": "d31a7400",
   "metadata": {
    "execution": {
     "iopub.execute_input": "2022-01-26T07:12:34.689475Z",
     "iopub.status.busy": "2022-01-26T07:12:34.674099Z",
     "iopub.status.idle": "2022-01-26T07:12:35.048722Z",
     "shell.execute_reply": "2022-01-26T07:12:35.048185Z",
     "shell.execute_reply.started": "2022-01-26T07:01:53.719443Z"
    },
    "papermill": {
     "duration": 0.41044,
     "end_time": "2022-01-26T07:12:35.048868",
     "exception": false,
     "start_time": "2022-01-26T07:12:34.638428",
     "status": "completed"
    },
    "tags": []
   },
   "outputs": [
    {
     "data": {
      "text/plain": [
       "<AxesSubplot:title={'center':'Women Participation'}, xlabel='Year', ylabel='Sex'>"
      ]
     },
     "execution_count": 24,
     "metadata": {},
     "output_type": "execute_result"
    },
    {
     "data": {
      "image/png": "[encoded data removed]",
      "text/plain": [
       "<Figure size 1440x720 with 1 Axes>"
      ]
     },
     "metadata": {
      "needs_background": "light"
     },
     "output_type": "display_data"
    }
   ],
   "source": [
    "# Bar plot to show female participation every year\n",
    "\n",
    "plt.figure(figsize=(20,10))\n",
    "plt.title('Women Participation')\n",
    "plt.ylabel('Count')\n",
    "sns.barplot(x=female_participation.Year, y=female_participation.Sex)"
   ]
  },
  {
   "cell_type": "markdown",
   "id": "a2b3a5cd",
   "metadata": {
    "papermill": {
     "duration": 0.04904,
     "end_time": "2022-01-26T07:12:35.147572",
     "exception": false,
     "start_time": "2022-01-26T07:12:35.098532",
     "status": "completed"
    },
    "tags": []
   },
   "source": [
    "A steady increase in female participation can be seen over the years"
   ]
  },
  {
   "cell_type": "code",
   "execution_count": 25,
   "id": "12effd04",
   "metadata": {
    "execution": {
     "iopub.execute_input": "2022-01-26T07:12:35.260133Z",
     "iopub.status.busy": "2022-01-26T07:12:35.259468Z",
     "iopub.status.idle": "2022-01-26T07:12:35.286146Z",
     "shell.execute_reply": "2022-01-26T07:12:35.285581Z",
     "shell.execute_reply.started": "2022-01-26T07:05:38.010708Z"
    },
    "papermill": {
     "duration": 0.08907,
     "end_time": "2022-01-26T07:12:35.286279",
     "exception": false,
     "start_time": "2022-01-26T07:12:35.197209",
     "status": "completed"
    },
    "tags": []
   },
   "outputs": [
    {
     "data": {
      "text/html": [
       "<div>\n",
       "<style scoped>\n",
       "    .dataframe tbody tr th:only-of-type {\n",
       "        vertical-align: middle;\n",
       "    }\n",
       "\n",
       "    .dataframe tbody tr th {\n",
       "        vertical-align: top;\n",
       "    }\n",
       "\n",
       "    .dataframe thead th {\n",
       "        text-align: right;\n",
       "    }\n",
       "</style>\n",
       "<table border=\"1\" class=\"dataframe\">\n",
       "  <thead>\n",
       "    <tr style=\"text-align: right;\">\n",
       "      <th></th>\n",
       "      <th>ID</th>\n",
       "      <th>Name</th>\n",
       "      <th>Sex</th>\n",
       "      <th>Age</th>\n",
       "      <th>Height</th>\n",
       "      <th>Weight</th>\n",
       "      <th>Team</th>\n",
       "      <th>NOC</th>\n",
       "      <th>Games</th>\n",
       "      <th>Year</th>\n",
       "      <th>Season</th>\n",
       "      <th>City</th>\n",
       "      <th>Sport</th>\n",
       "      <th>Event</th>\n",
       "      <th>Medal</th>\n",
       "      <th>Region</th>\n",
       "      <th>Notes</th>\n",
       "    </tr>\n",
       "  </thead>\n",
       "  <tbody>\n",
       "    <tr>\n",
       "      <th>3</th>\n",
       "      <td>4</td>\n",
       "      <td>Edgar Lindenau Aabye</td>\n",
       "      <td>M</td>\n",
       "      <td>34.0</td>\n",
       "      <td>NaN</td>\n",
       "      <td>NaN</td>\n",
       "      <td>Denmark/Sweden</td>\n",
       "      <td>DEN</td>\n",
       "      <td>1900 Summer</td>\n",
       "      <td>1900</td>\n",
       "      <td>Summer</td>\n",
       "      <td>Paris</td>\n",
       "      <td>Tug-Of-War</td>\n",
       "      <td>Tug-Of-War Men's Tug-Of-War</td>\n",
       "      <td>Gold</td>\n",
       "      <td>Denmark</td>\n",
       "      <td>NaN</td>\n",
       "    </tr>\n",
       "    <tr>\n",
       "      <th>42</th>\n",
       "      <td>17</td>\n",
       "      <td>Paavo Johannes Aaltonen</td>\n",
       "      <td>M</td>\n",
       "      <td>28.0</td>\n",
       "      <td>175.0</td>\n",
       "      <td>64.0</td>\n",
       "      <td>Finland</td>\n",
       "      <td>FIN</td>\n",
       "      <td>1948 Summer</td>\n",
       "      <td>1948</td>\n",
       "      <td>Summer</td>\n",
       "      <td>London</td>\n",
       "      <td>Gymnastics</td>\n",
       "      <td>Gymnastics Men's Team All-Around</td>\n",
       "      <td>Gold</td>\n",
       "      <td>Finland</td>\n",
       "      <td>NaN</td>\n",
       "    </tr>\n",
       "    <tr>\n",
       "      <th>44</th>\n",
       "      <td>17</td>\n",
       "      <td>Paavo Johannes Aaltonen</td>\n",
       "      <td>M</td>\n",
       "      <td>28.0</td>\n",
       "      <td>175.0</td>\n",
       "      <td>64.0</td>\n",
       "      <td>Finland</td>\n",
       "      <td>FIN</td>\n",
       "      <td>1948 Summer</td>\n",
       "      <td>1948</td>\n",
       "      <td>Summer</td>\n",
       "      <td>London</td>\n",
       "      <td>Gymnastics</td>\n",
       "      <td>Gymnastics Men's Horse Vault</td>\n",
       "      <td>Gold</td>\n",
       "      <td>Finland</td>\n",
       "      <td>NaN</td>\n",
       "    </tr>\n",
       "    <tr>\n",
       "      <th>48</th>\n",
       "      <td>17</td>\n",
       "      <td>Paavo Johannes Aaltonen</td>\n",
       "      <td>M</td>\n",
       "      <td>28.0</td>\n",
       "      <td>175.0</td>\n",
       "      <td>64.0</td>\n",
       "      <td>Finland</td>\n",
       "      <td>FIN</td>\n",
       "      <td>1948 Summer</td>\n",
       "      <td>1948</td>\n",
       "      <td>Summer</td>\n",
       "      <td>London</td>\n",
       "      <td>Gymnastics</td>\n",
       "      <td>Gymnastics Men's Pommelled Horse</td>\n",
       "      <td>Gold</td>\n",
       "      <td>Finland</td>\n",
       "      <td>NaN</td>\n",
       "    </tr>\n",
       "    <tr>\n",
       "      <th>60</th>\n",
       "      <td>20</td>\n",
       "      <td>Kjetil Andr Aamodt</td>\n",
       "      <td>M</td>\n",
       "      <td>20.0</td>\n",
       "      <td>176.0</td>\n",
       "      <td>85.0</td>\n",
       "      <td>Norway</td>\n",
       "      <td>NOR</td>\n",
       "      <td>1992 Winter</td>\n",
       "      <td>1992</td>\n",
       "      <td>Winter</td>\n",
       "      <td>Albertville</td>\n",
       "      <td>Alpine Skiing</td>\n",
       "      <td>Alpine Skiing Men's Super G</td>\n",
       "      <td>Gold</td>\n",
       "      <td>Norway</td>\n",
       "      <td>NaN</td>\n",
       "    </tr>\n",
       "  </tbody>\n",
       "</table>\n",
       "</div>"
      ],
      "text/plain": [
       "    ID                     Name Sex   Age  Height  Weight            Team  \\\n",
       "3    4     Edgar Lindenau Aabye   M  34.0     NaN     NaN  Denmark/Sweden   \n",
       "42  17  Paavo Johannes Aaltonen   M  28.0   175.0    64.0         Finland   \n",
       "44  17  Paavo Johannes Aaltonen   M  28.0   175.0    64.0         Finland   \n",
       "48  17  Paavo Johannes Aaltonen   M  28.0   175.0    64.0         Finland   \n",
       "60  20       Kjetil Andr Aamodt   M  20.0   176.0    85.0          Norway   \n",
       "\n",
       "    NOC        Games  Year  Season         City          Sport  \\\n",
       "3   DEN  1900 Summer  1900  Summer        Paris     Tug-Of-War   \n",
       "42  FIN  1948 Summer  1948  Summer       London     Gymnastics   \n",
       "44  FIN  1948 Summer  1948  Summer       London     Gymnastics   \n",
       "48  FIN  1948 Summer  1948  Summer       London     Gymnastics   \n",
       "60  NOR  1992 Winter  1992  Winter  Albertville  Alpine Skiing   \n",
       "\n",
       "                               Event Medal   Region Notes  \n",
       "3        Tug-Of-War Men's Tug-Of-War  Gold  Denmark   NaN  \n",
       "42  Gymnastics Men's Team All-Around  Gold  Finland   NaN  \n",
       "44      Gymnastics Men's Horse Vault  Gold  Finland   NaN  \n",
       "48  Gymnastics Men's Pommelled Horse  Gold  Finland   NaN  \n",
       "60       Alpine Skiing Men's Super G  Gold   Norway   NaN  "
      ]
     },
     "execution_count": 25,
     "metadata": {},
     "output_type": "execute_result"
    }
   ],
   "source": [
    "# Create a dataframe for Gold medal athletes\n",
    "\n",
    "goldMedal = athlete_df[(athlete_df.Medal == \"Gold\")]\n",
    "goldMedal.head()"
   ]
  },
  {
   "cell_type": "code",
   "execution_count": 26,
   "id": "fea73879",
   "metadata": {
    "execution": {
     "iopub.execute_input": "2022-01-26T07:12:35.393838Z",
     "iopub.status.busy": "2022-01-26T07:12:35.393206Z",
     "iopub.status.idle": "2022-01-26T07:12:35.397618Z",
     "shell.execute_reply": "2022-01-26T07:12:35.397017Z",
     "shell.execute_reply.started": "2022-01-26T07:05:48.356520Z"
    },
    "papermill": {
     "duration": 0.060678,
     "end_time": "2022-01-26T07:12:35.397750",
     "exception": false,
     "start_time": "2022-01-26T07:12:35.337072",
     "status": "completed"
    },
    "tags": []
   },
   "outputs": [],
   "source": [
    "# remove players having NaN value as their Age\n",
    "\n",
    "goldMedal = goldMedal[np.isfinite(goldMedal['Age'])]"
   ]
  },
  {
   "cell_type": "code",
   "execution_count": 27,
   "id": "00493f96",
   "metadata": {
    "execution": {
     "iopub.execute_input": "2022-01-26T07:12:35.507418Z",
     "iopub.status.busy": "2022-01-26T07:12:35.506451Z",
     "iopub.status.idle": "2022-01-26T07:12:35.511153Z",
     "shell.execute_reply": "2022-01-26T07:12:35.511657Z",
     "shell.execute_reply.started": "2022-01-26T07:06:14.937994Z"
    },
    "papermill": {
     "duration": 0.063132,
     "end_time": "2022-01-26T07:12:35.511822",
     "exception": false,
     "start_time": "2022-01-26T07:12:35.448690",
     "status": "completed"
    },
    "tags": []
   },
   "outputs": [
    {
     "data": {
      "text/plain": [
       "6"
      ]
     },
     "execution_count": 27,
     "metadata": {},
     "output_type": "execute_result"
    }
   ],
   "source": [
    "# Count of players who won Gold medal beyond Age 60\n",
    "\n",
    "#goldMedal['ID'][goldMedal['Age'] > 60].count()\n",
    "\n",
    "goldMedal.query('Age > 60').ID.count()"
   ]
  },
  {
   "cell_type": "code",
   "execution_count": 28,
   "id": "c7707315",
   "metadata": {
    "execution": {
     "iopub.execute_input": "2022-01-26T07:12:35.620748Z",
     "iopub.status.busy": "2022-01-26T07:12:35.619908Z",
     "iopub.status.idle": "2022-01-26T07:12:35.624192Z",
     "shell.execute_reply": "2022-01-26T07:12:35.624672Z",
     "shell.execute_reply.started": "2022-01-26T07:06:42.714029Z"
    },
    "papermill": {
     "duration": 0.062307,
     "end_time": "2022-01-26T07:12:35.624833",
     "exception": false,
     "start_time": "2022-01-26T07:12:35.562526",
     "status": "completed"
    },
    "tags": []
   },
   "outputs": [
    {
     "data": {
      "text/plain": [
       "104003    Art Competitions\n",
       "105199               Roque\n",
       "190952             Archery\n",
       "226374             Archery\n",
       "233390            Shooting\n",
       "261102             Archery\n",
       "Name: Sport, dtype: object"
      ]
     },
     "execution_count": 28,
     "metadata": {},
     "output_type": "execute_result"
    }
   ],
   "source": [
    "# sporting event in which atheletes above age 60 won gold medals\n",
    "\n",
    "sporting_event = goldMedal['Sport'][goldMedal['Age'] > 60]\n",
    "sporting_event"
   ]
  },
  {
   "cell_type": "code",
   "execution_count": 29,
   "id": "e27b2555",
   "metadata": {
    "execution": {
     "iopub.execute_input": "2022-01-26T07:12:35.733537Z",
     "iopub.status.busy": "2022-01-26T07:12:35.732669Z",
     "iopub.status.idle": "2022-01-26T07:12:35.897693Z",
     "shell.execute_reply": "2022-01-26T07:12:35.898279Z",
     "shell.execute_reply.started": "2022-01-26T07:07:18.625053Z"
    },
    "papermill": {
     "duration": 0.221374,
     "end_time": "2022-01-26T07:12:35.898440",
     "exception": false,
     "start_time": "2022-01-26T07:12:35.677066",
     "status": "completed"
    },
    "tags": []
   },
   "outputs": [
    {
     "name": "stderr",
     "output_type": "stream",
     "text": [
      "/opt/conda/lib/python3.7/site-packages/seaborn/_decorators.py:43: FutureWarning: Pass the following variable as a keyword arg: x. From version 0.12, the only valid positional argument will be `data`, and passing other arguments without an explicit keyword will result in an error or misinterpretation.\n",
      "  FutureWarning\n"
     ]
    },
    {
     "data": {
      "text/plain": [
       "<AxesSubplot:title={'center':'Gold medals for Athletes above Age 60'}, xlabel='Sport', ylabel='count'>"
      ]
     },
     "execution_count": 29,
     "metadata": {},
     "output_type": "execute_result"
    },
    {
     "data": {
      "image/png": "[encoded data removed]",
      "text/plain": [
       "<Figure size 864x432 with 1 Axes>"
      ]
     },
     "metadata": {
      "needs_background": "light"
     },
     "output_type": "display_data"
    }
   ],
   "source": [
    "#count plot for above spoting events\n",
    "\n",
    "plt.figure(figsize=(12,6))\n",
    "plt.title(\"Gold medals for Athletes above Age 60\")\n",
    "sns.countplot(sporting_event)"
   ]
  },
  {
   "cell_type": "code",
   "execution_count": 30,
   "id": "86502183",
   "metadata": {
    "execution": {
     "iopub.execute_input": "2022-01-26T07:12:36.008360Z",
     "iopub.status.busy": "2022-01-26T07:12:36.007520Z",
     "iopub.status.idle": "2022-01-26T07:12:36.017635Z",
     "shell.execute_reply": "2022-01-26T07:12:36.017092Z",
     "shell.execute_reply.started": "2022-01-26T07:07:32.306380Z"
    },
    "papermill": {
     "duration": 0.066381,
     "end_time": "2022-01-26T07:12:36.017774",
     "exception": false,
     "start_time": "2022-01-26T07:12:35.951393",
     "status": "completed"
    },
    "tags": []
   },
   "outputs": [
    {
     "data": {
      "text/html": [
       "<div>\n",
       "<style scoped>\n",
       "    .dataframe tbody tr th:only-of-type {\n",
       "        vertical-align: middle;\n",
       "    }\n",
       "\n",
       "    .dataframe tbody tr th {\n",
       "        vertical-align: top;\n",
       "    }\n",
       "\n",
       "    .dataframe thead th {\n",
       "        text-align: right;\n",
       "    }\n",
       "</style>\n",
       "<table border=\"1\" class=\"dataframe\">\n",
       "  <thead>\n",
       "    <tr style=\"text-align: right;\">\n",
       "      <th></th>\n",
       "      <th>index</th>\n",
       "      <th>Medal</th>\n",
       "    </tr>\n",
       "  </thead>\n",
       "  <tbody>\n",
       "    <tr>\n",
       "      <th>0</th>\n",
       "      <td>USA</td>\n",
       "      <td>2627</td>\n",
       "    </tr>\n",
       "    <tr>\n",
       "      <th>1</th>\n",
       "      <td>Russia</td>\n",
       "      <td>1599</td>\n",
       "    </tr>\n",
       "    <tr>\n",
       "      <th>2</th>\n",
       "      <td>Germany</td>\n",
       "      <td>1293</td>\n",
       "    </tr>\n",
       "    <tr>\n",
       "      <th>3</th>\n",
       "      <td>UK</td>\n",
       "      <td>657</td>\n",
       "    </tr>\n",
       "    <tr>\n",
       "      <th>4</th>\n",
       "      <td>Italy</td>\n",
       "      <td>567</td>\n",
       "    </tr>\n",
       "    <tr>\n",
       "      <th>5</th>\n",
       "      <td>France</td>\n",
       "      <td>491</td>\n",
       "    </tr>\n",
       "    <tr>\n",
       "      <th>6</th>\n",
       "      <td>Sweden</td>\n",
       "      <td>479</td>\n",
       "    </tr>\n",
       "    <tr>\n",
       "      <th>7</th>\n",
       "      <td>Canada</td>\n",
       "      <td>461</td>\n",
       "    </tr>\n",
       "    <tr>\n",
       "      <th>8</th>\n",
       "      <td>Hungary</td>\n",
       "      <td>432</td>\n",
       "    </tr>\n",
       "    <tr>\n",
       "      <th>9</th>\n",
       "      <td>Norway</td>\n",
       "      <td>378</td>\n",
       "    </tr>\n",
       "  </tbody>\n",
       "</table>\n",
       "</div>"
      ],
      "text/plain": [
       "     index  Medal\n",
       "0      USA   2627\n",
       "1   Russia   1599\n",
       "2  Germany   1293\n",
       "3       UK    657\n",
       "4    Italy    567\n",
       "5   France    491\n",
       "6   Sweden    479\n",
       "7   Canada    461\n",
       "8  Hungary    432\n",
       "9   Norway    378"
      ]
     },
     "execution_count": 30,
     "metadata": {},
     "output_type": "execute_result"
    }
   ],
   "source": [
    "#Gold medals distribution for each country\n",
    "\n",
    "goldMedal.Region.value_counts().reset_index(name=\"Medal\").head(10)"
   ]
  },
  {
   "cell_type": "code",
   "execution_count": 31,
   "id": "520d9118",
   "metadata": {
    "execution": {
     "iopub.execute_input": "2022-01-26T07:12:36.140992Z",
     "iopub.status.busy": "2022-01-26T07:12:36.133682Z",
     "iopub.status.idle": "2022-01-26T07:12:36.348743Z",
     "shell.execute_reply": "2022-01-26T07:12:36.348327Z",
     "shell.execute_reply.started": "2022-01-26T07:08:31.001220Z"
    },
    "papermill": {
     "duration": 0.277526,
     "end_time": "2022-01-26T07:12:36.348870",
     "exception": false,
     "start_time": "2022-01-26T07:12:36.071344",
     "status": "completed"
    },
    "tags": []
   },
   "outputs": [
    {
     "data": {
      "text/plain": [
       "Text(0.5, 1.0, 'Top 6 countries with most gold medals')"
      ]
     },
     "execution_count": 31,
     "metadata": {},
     "output_type": "execute_result"
    },
    {
     "data": {
      "image/png": "[encoded data removed]",
      "text/plain": [
       "<Figure size 360x360 with 1 Axes>"
      ]
     },
     "metadata": {
      "needs_background": "light"
     },
     "output_type": "display_data"
    }
   ],
   "source": [
    "# Top 6 countries with most gold medals in Olympic history\n",
    "\n",
    "totalGoldMedals = goldMedal.Region.value_counts().reset_index(name='Medal').head(6)\n",
    "g = sns.catplot(x=\"index\", y='Medal', data=totalGoldMedals, kind='bar')\n",
    "g.set_xlabels('Top 6 countries')\n",
    "g.set_ylabels('Number of Medals')\n",
    "plt.title('Top 6 countries with most gold medals')"
   ]
  },
  {
   "cell_type": "code",
   "execution_count": 32,
   "id": "11e76550",
   "metadata": {
    "execution": {
     "iopub.execute_input": "2022-01-26T07:12:36.425757Z",
     "iopub.status.busy": "2022-01-26T07:12:36.425256Z",
     "iopub.status.idle": "2022-01-26T07:12:36.456181Z",
     "shell.execute_reply": "2022-01-26T07:12:36.456538Z",
     "shell.execute_reply.started": "2022-01-26T07:09:24.415615Z"
    },
    "papermill": {
     "duration": 0.070465,
     "end_time": "2022-01-26T07:12:36.456670",
     "exception": false,
     "start_time": "2022-01-26T07:12:36.386205",
     "status": "completed"
    },
    "tags": []
   },
   "outputs": [
    {
     "data": {
      "text/plain": [
       "United States    137\n",
       "Great Britain     64\n",
       "Russia            50\n",
       "Germany           47\n",
       "China             44\n",
       "Brazil            34\n",
       "Australia         23\n",
       "Argentina         21\n",
       "France            20\n",
       "Japan             17\n",
       "Name: Team, dtype: int64"
      ]
     },
     "execution_count": 32,
     "metadata": {},
     "output_type": "execute_result"
    }
   ],
   "source": [
    "# Countrywise Gold medal count in Rio Olympics 2016\n",
    "\n",
    "max_year = athlete_df.Year.max()\n",
    "\n",
    "team_names = athlete_df[ (athlete_df.Year == max_year) & (athlete_df.Medal == 'Gold')].Team\n",
    "team_names.value_counts().head(10)"
   ]
  },
  {
   "cell_type": "code",
   "execution_count": 33,
   "id": "3a693f3a",
   "metadata": {
    "execution": {
     "iopub.execute_input": "2022-01-26T07:12:36.548054Z",
     "iopub.status.busy": "2022-01-26T07:12:36.547526Z",
     "iopub.status.idle": "2022-01-26T07:12:36.856287Z",
     "shell.execute_reply": "2022-01-26T07:12:36.855865Z",
     "shell.execute_reply.started": "2022-01-26T07:09:52.891612Z"
    },
    "papermill": {
     "duration": 0.362765,
     "end_time": "2022-01-26T07:12:36.856402",
     "exception": false,
     "start_time": "2022-01-26T07:12:36.493637",
     "status": "completed"
    },
    "tags": []
   },
   "outputs": [
    {
     "data": {
      "text/plain": [
       "Text(0.5, 1.0, 'Countrywise medal count for Rio 2016 Olympics')"
      ]
     },
     "execution_count": 33,
     "metadata": {},
     "output_type": "execute_result"
    },
    {
     "data": {
      "image/png": "[encoded data removed]",
      "text/plain": [
       "<Figure size 1080x576 with 1 Axes>"
      ]
     },
     "metadata": {
      "needs_background": "light"
     },
     "output_type": "display_data"
    }
   ],
   "source": [
    "# Bar plot for above data\n",
    "\n",
    "plt.figure(figsize=(15,8))\n",
    "sns.barplot(x=team_names.value_counts().head(20), y=team_names.value_counts().head(20).index)\n",
    "plt.xlabel('Gold medal count')\n",
    "plt.title('Countrywise medal count for Rio 2016 Olympics')"
   ]
  },
  {
   "cell_type": "code",
   "execution_count": 34,
   "id": "231fadc0",
   "metadata": {
    "execution": {
     "iopub.execute_input": "2022-01-26T07:12:36.937265Z",
     "iopub.status.busy": "2022-01-26T07:12:36.936751Z",
     "iopub.status.idle": "2022-01-26T07:12:38.288357Z",
     "shell.execute_reply": "2022-01-26T07:12:38.288876Z",
     "shell.execute_reply.started": "2022-01-26T07:10:13.418854Z"
    },
    "papermill": {
     "duration": 1.394979,
     "end_time": "2022-01-26T07:12:38.289048",
     "exception": false,
     "start_time": "2022-01-26T07:12:36.894069",
     "status": "completed"
    },
    "tags": []
   },
   "outputs": [
    {
     "data": {
      "text/plain": [
       "Text(0.5, 1.0, 'Height-Weight distribution of medal winning athletes')"
      ]
     },
     "execution_count": 34,
     "metadata": {},
     "output_type": "execute_result"
    },
    {
     "data": {
      "image/png": "[encoded data removed]",
      "text/plain": [
       "<Figure size 864x576 with 1 Axes>"
      ]
     },
     "metadata": {
      "needs_background": "light"
     },
     "output_type": "display_data"
    }
   ],
   "source": [
    "#Scatterplot of height & weight of medal winning athletes\n",
    "\n",
    "medal_athletes = athlete_df[ (athlete_df[\"Height\"].notnull()) & (athlete_df['Weight'].notnull()) & (athlete_df['Medal'].notnull())]\n",
    "\n",
    "plt.figure(figsize=(12,8))\n",
    "sns.scatterplot(x='Height', y='Weight', data=medal_athletes, hue='Sex')\n",
    "plt.title('Height-Weight distribution of medal winning athletes')"
   ]
  },
  {
   "cell_type": "code",
   "execution_count": 35,
   "id": "f225970a",
   "metadata": {
    "execution": {
     "iopub.execute_input": "2022-01-26T07:12:38.416158Z",
     "iopub.status.busy": "2022-01-26T07:12:38.415507Z",
     "iopub.status.idle": "2022-01-26T07:12:38.636075Z",
     "shell.execute_reply": "2022-01-26T07:12:38.635529Z",
     "shell.execute_reply.started": "2022-01-26T07:10:21.348754Z"
    },
    "papermill": {
     "duration": 0.28556,
     "end_time": "2022-01-26T07:12:38.636208",
     "exception": false,
     "start_time": "2022-01-26T07:12:38.350648",
     "status": "completed"
    },
    "tags": []
   },
   "outputs": [
    {
     "data": {
      "text/plain": [
       "(array([0.000e+00, 7.000e+00, 1.020e+02, 3.150e+02, 7.390e+02, 1.599e+03,\n",
       "        2.232e+03, 2.191e+03, 1.839e+03, 1.451e+03, 9.280e+02, 6.490e+02,\n",
       "        3.940e+02, 2.140e+02, 1.540e+02, 1.170e+02, 7.400e+01, 5.800e+01,\n",
       "        4.800e+01, 3.600e+01, 1.600e+01, 1.800e+01, 1.600e+01, 1.200e+01,\n",
       "        5.000e+00, 4.000e+00, 4.000e+00, 2.000e+00, 0.000e+00]),\n",
       " array([10, 12, 14, 16, 18, 20, 22, 24, 26, 28, 30, 32, 34, 36, 38, 40, 42,\n",
       "        44, 46, 48, 50, 52, 54, 56, 58, 60, 62, 64, 66, 68]),\n",
       " <BarContainer object of 29 artists>)"
      ]
     },
     "execution_count": 35,
     "metadata": {},
     "output_type": "execute_result"
    },
    {
     "data": {
      "image/png": "[encoded data removed]",
      "text/plain": [
       "<Figure size 864x576 with 1 Axes>"
      ]
     },
     "metadata": {
      "needs_background": "light"
     },
     "output_type": "display_data"
    }
   ],
   "source": [
    "# Age distribution of gold medal winning athletes\n",
    "\n",
    "goldMedal_age = goldMedal.Age.value_counts().reset_index(name='Medal_count')\n",
    "\n",
    "plt.figure(figsize=(12,8))\n",
    "plt.title('Agewise distribution of gold medal winning athletes')\n",
    "plt.ylabel('Medal Count')\n",
    "plt.hist(goldMedal.Age, bins=np.arange(10,70,2), color='orange', edgecolor='white')"
   ]
  }
 ],
 "metadata": {
  "kernelspec": {
   "display_name": "Python 3",
   "language": "python",
   "name": "python3"
  },
  "language_info": {
   "codemirror_mode": {
    "name": "ipython",
    "version": 3
   },
   "file_extension": ".py",
   "mimetype": "text/x-python",
   "name": "python",
   "nbconvert_exporter": "python",
   "pygments_lexer": "ipython3",
   "version": "3.7.10"
  },
  "papermill": {
   "default_parameters": {},
   "duration": 17.516545,
   "end_time": "2022-01-26T07:12:39.409880",
   "environment_variables": {},
   "exception": null,
   "input_path": "__notebook__.ipynb",
   "output_path": "__notebook__.ipynb",
   "parameters": {},
   "start_time": "2022-01-26T07:12:21.893335",
   "version": "2.3.3"
  }
 },
 "nbformat": 4,
 "nbformat_minor": 5
}
