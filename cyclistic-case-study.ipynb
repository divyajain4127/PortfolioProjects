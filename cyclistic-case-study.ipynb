{
 "cells": [
  {
   "cell_type": "markdown",
   "id": "97dc0e98",
   "metadata": {
    "papermill": {
     "duration": 0.076252,
     "end_time": "2021-12-09T14:18:54.795367",
     "exception": false,
     "start_time": "2021-12-09T14:18:54.719115",
     "status": "completed"
    },
    "tags": []
   },
   "source": [
    "# Cyclistic Case Study\n",
    "\n",
    "This is a case study on a made-up organization Cyclistic. It launched a successful bike-share offering in 2016. Since then, the program has grown to a fleet of 5,824 bicycles that are geotracked and locked into a network of 692 stations across Chicago. The bikes can be unlocked from one station and returned to any other station in the system anytime.\n",
    "\n",
    "Customers who purchase single-ride or full-day passes are referred to as casual riders. Customers\n",
    "who purchase annual memberships are Cyclistic members.\n",
    "\n",
    "## Question to be answered\n",
    "**How do annual members and casual riders use Cyclistic bikes differently?**\n",
    "\n",
    "Busniess Task: Goal is to understand how casual riders and annual members use Cyclistic differently to maximize the profit by converting casual riders to annual members. We will analyse Cyclistic historical trip data of past 12 months to help marketing team plan specific campaigns for casual riders to buy membership.\n",
    " \n",
    "**How our insights can drive business decisions?**\n",
    "Our insights will help marketing team to plan specific campaigns for casual riders to buy a membership. This will raise the profits of the organisation.\n"
   ]
  },
  {
   "cell_type": "markdown",
   "id": "822cc5db",
   "metadata": {
    "papermill": {
     "duration": 0.065298,
     "end_time": "2021-12-09T14:18:54.930671",
     "exception": false,
     "start_time": "2021-12-09T14:18:54.865373",
     "status": "completed"
    },
    "tags": []
   },
   "source": [
    "## Prepare data for Analysis\n",
    "\n",
    "**Download data and store it appropriately.**\n",
    "Data is downloaded for 12 months of year 2020-21 from the data source provided. It is stored in CSV file in 12 different files divided month wise. We have data from November-2020 to October-2021.\n",
    "\n",
    "**Identify how it’s organized.**\n",
    "Data is divided into 12 CSV files month wise for the year 2020-21. The data contains Cyclistic trip data for both casual riders and annual member. The data includes information like trip start and end date, source and destination station of the trip, source and destination latitudes and longitudes and rider type (casual or member).\n",
    "\n",
    "**How does it help you answer your question?**\n",
    "The data has trip details for both casual and member riders. This can be helpful to compare the trip details for both types of riders and find out the difference in their respective usage of Cyclistic service.\n"
   ]
  },
  {
   "cell_type": "code",
   "execution_count": 1,
   "id": "bec8abb9",
   "metadata": {
    "execution": {
     "iopub.execute_input": "2021-12-09T14:18:55.070600Z",
     "iopub.status.busy": "2021-12-09T14:18:55.067422Z",
     "iopub.status.idle": "2021-12-09T14:20:37.824713Z",
     "shell.execute_reply": "2021-12-09T14:20:37.821289Z"
    },
    "papermill": {
     "duration": 102.828687,
     "end_time": "2021-12-09T14:20:37.825062",
     "exception": false,
     "start_time": "2021-12-09T14:18:54.996375",
     "status": "completed"
    },
    "tags": []
   },
   "outputs": [
    {
     "name": "stderr",
     "output_type": "stream",
     "text": [
      "── \u001b[1mAttaching packages\u001b[22m ─────────────────────────────────────── tidyverse 1.3.1 ──\n",
      "\n",
      "\u001b[32m✔\u001b[39m \u001b[34mggplot2\u001b[39m 3.3.5     \u001b[32m✔\u001b[39m \u001b[34mpurrr  \u001b[39m 0.3.4\n",
      "\u001b[32m✔\u001b[39m \u001b[34mtibble \u001b[39m 3.1.5     \u001b[32m✔\u001b[39m \u001b[34mdplyr  \u001b[39m 1.0.7\n",
      "\u001b[32m✔\u001b[39m \u001b[34mtidyr  \u001b[39m 1.1.4     \u001b[32m✔\u001b[39m \u001b[34mstringr\u001b[39m 1.4.0\n",
      "\u001b[32m✔\u001b[39m \u001b[34mreadr  \u001b[39m 2.0.2     \u001b[32m✔\u001b[39m \u001b[34mforcats\u001b[39m 0.5.1\n",
      "\n",
      "── \u001b[1mConflicts\u001b[22m ────────────────────────────────────────── tidyverse_conflicts() ──\n",
      "\u001b[31m✖\u001b[39m \u001b[34mdplyr\u001b[39m::\u001b[32mfilter()\u001b[39m masks \u001b[34mstats\u001b[39m::filter()\n",
      "\u001b[31m✖\u001b[39m \u001b[34mdplyr\u001b[39m::\u001b[32mlag()\u001b[39m    masks \u001b[34mstats\u001b[39m::lag()\n",
      "\n"
     ]
    },
    {
     "name": "stdout",
     "output_type": "stream",
     "text": [
      "'data.frame':\t259716 obs. of  13 variables:\n",
      " $ ride_id           : chr  \"BD0A6FF6FFF9B921\" \"96A7A7A4BDE4F82D\" \"C61526D06582BDC5\" \"E533E89C32080B9E\" ...\n",
      " $ rideable_type     : chr  \"electric_bike\" \"electric_bike\" \"electric_bike\" \"electric_bike\" ...\n",
      " $ started_at        : chr  \"2020-11-01 13:36:00\" \"2020-11-01 10:03:26\" \"2020-11-01 00:34:05\" \"2020-11-01 00:45:16\" ...\n",
      " $ ended_at          : chr  \"2020-11-01 13:45:40\" \"2020-11-01 10:14:45\" \"2020-11-01 01:03:06\" \"2020-11-01 00:54:31\" ...\n",
      " $ start_station_name: chr  \"Dearborn St & Erie St\" \"Franklin St & Illinois St\" \"Lake Shore Dr & Monroe St\" \"Leavitt St & Chicago Ave\" ...\n",
      " $ start_station_id  : int  110 672 76 659 2 72 76 NA 58 394 ...\n",
      " $ end_station_name  : chr  \"St. Clair St & Erie St\" \"Noble St & Milwaukee Ave\" \"Federal St & Polk St\" \"Stave St & Armitage Ave\" ...\n",
      " $ end_station_id    : int  211 29 41 185 2 76 72 NA 288 273 ...\n",
      " $ start_lat         : num  41.9 41.9 41.9 41.9 41.9 ...\n",
      " $ start_lng         : num  -87.6 -87.6 -87.6 -87.7 -87.6 ...\n",
      " $ end_lat           : num  41.9 41.9 41.9 41.9 41.9 ...\n",
      " $ end_lng           : num  -87.6 -87.7 -87.6 -87.7 -87.6 ...\n",
      " $ member_casual     : chr  \"casual\" \"casual\" \"casual\" \"casual\" ...\n",
      "'data.frame':\t131573 obs. of  13 variables:\n",
      " $ ride_id           : chr  \"70B6A9A437D4C30D\" \"158A465D4E74C54A\" \"5262016E0F1F2F9A\" \"BE119628E44F871E\" ...\n",
      " $ rideable_type     : chr  \"classic_bike\" \"electric_bike\" \"electric_bike\" \"electric_bike\" ...\n",
      " $ started_at        : chr  \"2020-12-27 12:44:29\" \"2020-12-18 17:37:15\" \"2020-12-15 15:04:33\" \"2020-12-15 15:54:18\" ...\n",
      " $ ended_at          : chr  \"2020-12-27 12:55:06\" \"2020-12-18 17:44:19\" \"2020-12-15 15:11:28\" \"2020-12-15 16:00:11\" ...\n",
      " $ start_station_name: chr  \"Aberdeen St & Jackson Blvd\" \"\" \"\" \"\" ...\n",
      " $ start_station_id  : chr  \"13157\" \"\" \"\" \"\" ...\n",
      " $ end_station_name  : chr  \"Desplaines St & Kinzie St\" \"\" \"\" \"\" ...\n",
      " $ end_station_id    : chr  \"TA1306000003\" \"\" \"\" \"\" ...\n",
      " $ start_lat         : num  41.9 41.9 41.9 41.9 41.8 ...\n",
      " $ start_lng         : num  -87.7 -87.7 -87.7 -87.7 -87.6 ...\n",
      " $ end_lat           : num  41.9 41.9 41.9 41.9 41.8 ...\n",
      " $ end_lng           : num  -87.6 -87.7 -87.7 -87.7 -87.6 ...\n",
      " $ member_casual     : chr  \"member\" \"member\" \"member\" \"member\" ...\n",
      "'data.frame':\t96834 obs. of  13 variables:\n",
      " $ ride_id           : chr  \"E19E6F1B8D4C42ED\" \"DC88F20C2C55F27F\" \"EC45C94683FE3F27\" \"4FA453A75AE377DB\" ...\n",
      " $ rideable_type     : chr  \"electric_bike\" \"electric_bike\" \"electric_bike\" \"electric_bike\" ...\n",
      " $ started_at        : chr  \"2021-01-23 16:14:19\" \"2021-01-27 18:43:08\" \"2021-01-21 22:35:54\" \"2021-01-07 13:31:13\" ...\n",
      " $ ended_at          : chr  \"2021-01-23 16:24:44\" \"2021-01-27 18:47:12\" \"2021-01-21 22:37:14\" \"2021-01-07 13:42:55\" ...\n",
      " $ start_station_name: chr  \"California Ave & Cortez St\" \"California Ave & Cortez St\" \"California Ave & Cortez St\" \"California Ave & Cortez St\" ...\n",
      " $ start_station_id  : chr  \"17660\" \"17660\" \"17660\" \"17660\" ...\n",
      " $ end_station_name  : chr  \"\" \"\" \"\" \"\" ...\n",
      " $ end_station_id    : chr  \"\" \"\" \"\" \"\" ...\n",
      " $ start_lat         : num  41.9 41.9 41.9 41.9 41.9 ...\n",
      " $ start_lng         : num  -87.7 -87.7 -87.7 -87.7 -87.7 ...\n",
      " $ end_lat           : num  41.9 41.9 41.9 41.9 41.9 ...\n",
      " $ end_lng           : num  -87.7 -87.7 -87.7 -87.7 -87.7 ...\n",
      " $ member_casual     : chr  \"member\" \"member\" \"member\" \"member\" ...\n",
      "'data.frame':\t49622 obs. of  13 variables:\n",
      " $ ride_id           : chr  \"89E7AA6C29227EFF\" \"0FEFDE2603568365\" \"E6159D746B2DBB91\" \"B32D3199F1C2E75B\" ...\n",
      " $ rideable_type     : chr  \"classic_bike\" \"classic_bike\" \"electric_bike\" \"classic_bike\" ...\n",
      " $ started_at        : chr  \"2021-02-12 16:14:56\" \"2021-02-14 17:52:38\" \"2021-02-09 19:10:18\" \"2021-02-02 17:49:41\" ...\n",
      " $ ended_at          : chr  \"2021-02-12 16:21:43\" \"2021-02-14 18:12:09\" \"2021-02-09 19:19:10\" \"2021-02-02 17:54:06\" ...\n",
      " $ start_station_name: chr  \"Glenwood Ave & Touhy Ave\" \"Glenwood Ave & Touhy Ave\" \"Clark St & Lake St\" \"Wood St & Chicago Ave\" ...\n",
      " $ start_station_id  : chr  \"525\" \"525\" \"KA1503000012\" \"637\" ...\n",
      " $ end_station_name  : chr  \"Sheridan Rd & Columbia Ave\" \"Bosworth Ave & Howard St\" \"State St & Randolph St\" \"Honore St & Division St\" ...\n",
      " $ end_station_id    : chr  \"660\" \"16806\" \"TA1305000029\" \"TA1305000034\" ...\n",
      " $ start_lat         : num  42 42 41.9 41.9 41.8 ...\n",
      " $ start_lng         : num  -87.7 -87.7 -87.6 -87.7 -87.6 ...\n",
      " $ end_lat           : num  42 42 41.9 41.9 41.8 ...\n",
      " $ end_lng           : num  -87.7 -87.7 -87.6 -87.7 -87.6 ...\n",
      " $ member_casual     : chr  \"member\" \"casual\" \"member\" \"member\" ...\n",
      "'data.frame':\t228496 obs. of  13 variables:\n",
      " $ ride_id           : chr  \"CFA86D4455AA1030\" \"30D9DC61227D1AF3\" \"846D87A15682A284\" \"994D05AA75A168F2\" ...\n",
      " $ rideable_type     : chr  \"classic_bike\" \"classic_bike\" \"classic_bike\" \"classic_bike\" ...\n",
      " $ started_at        : chr  \"2021-03-16 08:32:30\" \"2021-03-28 01:26:28\" \"2021-03-11 21:17:29\" \"2021-03-11 13:26:42\" ...\n",
      " $ ended_at          : chr  \"2021-03-16 08:36:34\" \"2021-03-28 01:36:55\" \"2021-03-11 21:33:53\" \"2021-03-11 13:55:41\" ...\n",
      " $ start_station_name: chr  \"Humboldt Blvd & Armitage Ave\" \"Humboldt Blvd & Armitage Ave\" \"Shields Ave & 28th Pl\" \"Winthrop Ave & Lawrence Ave\" ...\n",
      " $ start_station_id  : chr  \"15651\" \"15651\" \"15443\" \"TA1308000021\" ...\n",
      " $ end_station_name  : chr  \"Stave St & Armitage Ave\" \"Central Park Ave & Bloomingdale Ave\" \"Halsted St & 35th St\" \"Broadway & Sheridan Rd\" ...\n",
      " $ end_station_id    : chr  \"13266\" \"18017\" \"TA1308000043\" \"13323\" ...\n",
      " $ start_lat         : num  41.9 41.9 41.8 42 42 ...\n",
      " $ start_lng         : num  -87.7 -87.7 -87.6 -87.7 -87.7 ...\n",
      " $ end_lat           : num  41.9 41.9 41.8 42 42.1 ...\n",
      " $ end_lng           : num  -87.7 -87.7 -87.6 -87.6 -87.7 ...\n",
      " $ member_casual     : chr  \"casual\" \"casual\" \"casual\" \"casual\" ...\n",
      "'data.frame':\t337230 obs. of  13 variables:\n",
      " $ ride_id           : chr  \"6C992BD37A98A63F\" \"1E0145613A209000\" \"E498E15508A80BAD\" \"1887262AD101C604\" ...\n",
      " $ rideable_type     : chr  \"classic_bike\" \"docked_bike\" \"docked_bike\" \"classic_bike\" ...\n",
      " $ started_at        : chr  \"2021-04-12 18:25:36\" \"2021-04-27 17:27:11\" \"2021-04-03 12:42:45\" \"2021-04-17 09:17:42\" ...\n",
      " $ ended_at          : chr  \"2021-04-12 18:56:55\" \"2021-04-27 18:31:29\" \"2021-04-07 11:40:24\" \"2021-04-17 09:42:48\" ...\n",
      " $ start_station_name: chr  \"State St & Pearson St\" \"Dorchester Ave & 49th St\" \"Loomis Blvd & 84th St\" \"Honore St & Division St\" ...\n",
      " $ start_station_id  : chr  \"TA1307000061\" \"KA1503000069\" \"20121\" \"TA1305000034\" ...\n",
      " $ end_station_name  : chr  \"Southport Ave & Waveland Ave\" \"Dorchester Ave & 49th St\" \"Loomis Blvd & 84th St\" \"Southport Ave & Waveland Ave\" ...\n",
      " $ end_station_id    : chr  \"13235\" \"KA1503000069\" \"20121\" \"13235\" ...\n",
      " $ start_lat         : num  41.9 41.8 41.7 41.9 41.7 ...\n",
      " $ start_lng         : num  -87.6 -87.6 -87.7 -87.7 -87.7 ...\n",
      " $ end_lat           : num  41.9 41.8 41.7 41.9 41.7 ...\n",
      " $ end_lng           : num  -87.7 -87.6 -87.7 -87.7 -87.7 ...\n",
      " $ member_casual     : chr  \"member\" \"casual\" \"casual\" \"member\" ...\n",
      "'data.frame':\t531633 obs. of  13 variables:\n",
      " $ ride_id           : chr  \"C809ED75D6160B2A\" \"DD59FDCE0ACACAF3\" \"0AB83CB88C43EFC2\" \"7881AC6D39110C60\" ...\n",
      " $ rideable_type     : chr  \"electric_bike\" \"electric_bike\" \"electric_bike\" \"electric_bike\" ...\n",
      " $ started_at        : chr  \"2021-05-30 11:58:15\" \"2021-05-30 11:29:14\" \"2021-05-30 14:24:01\" \"2021-05-30 14:25:51\" ...\n",
      " $ ended_at          : chr  \"2021-05-30 12:10:39\" \"2021-05-30 12:14:09\" \"2021-05-30 14:25:13\" \"2021-05-30 14:41:04\" ...\n",
      " $ start_station_name: chr  \"\" \"\" \"\" \"\" ...\n",
      " $ start_station_id  : chr  \"\" \"\" \"\" \"\" ...\n",
      " $ end_station_name  : chr  \"\" \"\" \"\" \"\" ...\n",
      " $ end_station_id    : chr  \"\" \"\" \"\" \"\" ...\n",
      " $ start_lat         : num  41.9 41.9 41.9 41.9 41.9 ...\n",
      " $ start_lng         : num  -87.6 -87.6 -87.7 -87.7 -87.7 ...\n",
      " $ end_lat           : num  41.9 41.8 41.9 41.9 41.9 ...\n",
      " $ end_lng           : num  -87.6 -87.6 -87.7 -87.7 -87.7 ...\n",
      " $ member_casual     : chr  \"casual\" \"casual\" \"casual\" \"casual\" ...\n",
      "'data.frame':\t729595 obs. of  13 variables:\n",
      " $ ride_id           : chr  \"99FEC93BA843FB20\" \"06048DCFC8520CAF\" \"9598066F68045DF2\" \"B03C0FE48C412214\" ...\n",
      " $ rideable_type     : chr  \"electric_bike\" \"electric_bike\" \"electric_bike\" \"electric_bike\" ...\n",
      " $ started_at        : chr  \"2021-06-13 14:31:28\" \"2021-06-04 11:18:02\" \"2021-06-04 09:49:35\" \"2021-06-03 19:56:05\" ...\n",
      " $ ended_at          : chr  \"2021-06-13 14:34:11\" \"2021-06-04 11:24:19\" \"2021-06-04 09:55:34\" \"2021-06-03 20:21:55\" ...\n",
      " $ start_station_name: chr  \"\" \"\" \"\" \"\" ...\n",
      " $ start_station_id  : chr  \"\" \"\" \"\" \"\" ...\n",
      " $ end_station_name  : chr  \"\" \"\" \"\" \"\" ...\n",
      " $ end_station_id    : chr  \"\" \"\" \"\" \"\" ...\n",
      " $ start_lat         : num  41.8 41.8 41.8 41.8 41.8 ...\n",
      " $ start_lng         : num  -87.6 -87.6 -87.6 -87.6 -87.6 ...\n",
      " $ end_lat           : num  41.8 41.8 41.8 41.8 41.8 ...\n",
      " $ end_lng           : num  -87.6 -87.6 -87.6 -87.6 -87.6 ...\n",
      " $ member_casual     : chr  \"member\" \"member\" \"member\" \"member\" ...\n",
      "'data.frame':\t822410 obs. of  13 variables:\n",
      " $ ride_id           : chr  \"0A1B623926EF4E16\" \"B2D5583A5A5E76EE\" \"6F264597DDBF427A\" \"379B58EAB20E8AA5\" ...\n",
      " $ rideable_type     : chr  \"docked_bike\" \"classic_bike\" \"classic_bike\" \"classic_bike\" ...\n",
      " $ started_at        : chr  \"2021-07-02 14:44:36\" \"2021-07-07 16:57:42\" \"2021-07-25 11:30:55\" \"2021-07-08 22:08:30\" ...\n",
      " $ ended_at          : chr  \"2021-07-02 15:19:58\" \"2021-07-07 17:16:09\" \"2021-07-25 11:48:45\" \"2021-07-08 22:23:32\" ...\n",
      " $ start_station_name: chr  \"Michigan Ave & Washington St\" \"California Ave & Cortez St\" \"Wabash Ave & 16th St\" \"California Ave & Cortez St\" ...\n",
      " $ start_station_id  : chr  \"13001\" \"17660\" \"SL-012\" \"17660\" ...\n",
      " $ end_station_name  : chr  \"Halsted St & North Branch St\" \"Wood St & Hubbard St\" \"Rush St & Hubbard St\" \"Carpenter St & Huron St\" ...\n",
      " $ end_station_id    : chr  \"KA1504000117\" \"13432\" \"KA1503000044\" \"13196\" ...\n",
      " $ start_lat         : num  41.9 41.9 41.9 41.9 41.9 ...\n",
      " $ start_lng         : num  -87.6 -87.7 -87.6 -87.7 -87.7 ...\n",
      " $ end_lat           : num  41.9 41.9 41.9 41.9 41.9 ...\n",
      " $ end_lng           : num  -87.6 -87.7 -87.6 -87.7 -87.7 ...\n",
      " $ member_casual     : chr  \"casual\" \"casual\" \"member\" \"member\" ...\n",
      "'data.frame':\t804352 obs. of  13 variables:\n",
      " $ ride_id           : chr  \"99103BB87CC6C1BB\" \"EAFCCCFB0A3FC5A1\" \"9EF4F46C57AD234D\" \"5834D3208BFAF1DA\" ...\n",
      " $ rideable_type     : chr  \"electric_bike\" \"electric_bike\" \"electric_bike\" \"electric_bike\" ...\n",
      " $ started_at        : chr  \"2021-08-10 17:15:49\" \"2021-08-10 17:23:14\" \"2021-08-21 02:34:23\" \"2021-08-21 06:52:55\" ...\n",
      " $ ended_at          : chr  \"2021-08-10 17:22:44\" \"2021-08-10 17:39:24\" \"2021-08-21 02:50:36\" \"2021-08-21 07:08:13\" ...\n",
      " $ start_station_name: chr  \"\" \"\" \"\" \"\" ...\n",
      " $ start_station_id  : chr  \"\" \"\" \"\" \"\" ...\n",
      " $ end_station_name  : chr  \"\" \"\" \"\" \"\" ...\n",
      " $ end_station_id    : chr  \"\" \"\" \"\" \"\" ...\n",
      " $ start_lat         : num  41.8 41.8 42 42 41.8 ...\n",
      " $ start_lng         : num  -87.7 -87.7 -87.7 -87.7 -87.6 ...\n",
      " $ end_lat           : num  41.8 41.8 42 42 41.8 ...\n",
      " $ end_lng           : num  -87.7 -87.6 -87.7 -87.7 -87.6 ...\n",
      " $ member_casual     : chr  \"member\" \"member\" \"member\" \"member\" ...\n",
      "'data.frame':\t756147 obs. of  13 variables:\n",
      " $ ride_id           : chr  \"9DC7B962304CBFD8\" \"F930E2C6872D6B32\" \"6EF72137900BB910\" \"78D1DE133B3DBF55\" ...\n",
      " $ rideable_type     : chr  \"electric_bike\" \"electric_bike\" \"electric_bike\" \"electric_bike\" ...\n",
      " $ started_at        : chr  \"2021-09-28 16:07:10\" \"2021-09-28 14:24:51\" \"2021-09-28 00:20:16\" \"2021-09-28 14:51:17\" ...\n",
      " $ ended_at          : chr  \"2021-09-28 16:09:54\" \"2021-09-28 14:40:05\" \"2021-09-28 00:23:57\" \"2021-09-28 15:00:06\" ...\n",
      " $ start_station_name: chr  \"\" \"\" \"\" \"\" ...\n",
      " $ start_station_id  : chr  \"\" \"\" \"\" \"\" ...\n",
      " $ end_station_name  : chr  \"\" \"\" \"\" \"\" ...\n",
      " $ end_station_id    : chr  \"\" \"\" \"\" \"\" ...\n",
      " $ start_lat         : num  41.9 41.9 41.8 41.8 41.9 ...\n",
      " $ start_lng         : num  -87.7 -87.6 -87.7 -87.7 -87.7 ...\n",
      " $ end_lat           : num  41.9 42 41.8 41.8 41.9 ...\n",
      " $ end_lng           : num  -87.7 -87.7 -87.7 -87.7 -87.7 ...\n",
      " $ member_casual     : chr  \"casual\" \"casual\" \"casual\" \"casual\" ...\n",
      "'data.frame':\t631226 obs. of  13 variables:\n",
      " $ ride_id           : chr  \"620BC6107255BF4C\" \"4471C70731AB2E45\" \"26CA69D43D15EE14\" \"362947F0437E1514\" ...\n",
      " $ rideable_type     : chr  \"electric_bike\" \"electric_bike\" \"electric_bike\" \"electric_bike\" ...\n",
      " $ started_at        : chr  \"2021-10-22 12:46:42\" \"2021-10-21 09:12:37\" \"2021-10-16 16:28:39\" \"2021-10-16 16:17:48\" ...\n",
      " $ ended_at          : chr  \"2021-10-22 12:49:50\" \"2021-10-21 09:14:14\" \"2021-10-16 16:36:26\" \"2021-10-16 16:19:03\" ...\n",
      " $ start_station_name: chr  \"Kingsbury St & Kinzie St\" \"\" \"\" \"\" ...\n",
      " $ start_station_id  : chr  \"KA1503000043\" \"\" \"\" \"\" ...\n",
      " $ end_station_name  : chr  \"\" \"\" \"\" \"\" ...\n",
      " $ end_station_id    : chr  \"\" \"\" \"\" \"\" ...\n",
      " $ start_lat         : num  41.9 41.9 41.9 41.9 41.9 ...\n",
      " $ start_lng         : num  -87.6 -87.7 -87.7 -87.7 -87.7 ...\n",
      " $ end_lat           : num  41.9 41.9 41.9 41.9 41.9 ...\n",
      " $ end_lng           : num  -87.6 -87.7 -87.7 -87.7 -87.7 ...\n",
      " $ member_casual     : chr  \"member\" \"member\" \"member\" \"member\" ...\n"
     ]
    }
   ],
   "source": [
    "library(tidyverse)\n",
    "library(ggplot2)\n",
    "\n",
    "# Data stored to dataframes according to monthly data\n",
    "\n",
    "Nov_20 <- read.csv('../input/cyclistic-case-study-dataset/202011-divvy-tripdata.csv')\n",
    "\n",
    "Dec_20 <- read.csv('../input/cyclistic-case-study-dataset/202012-divvy-tripdata.csv')\n",
    "\n",
    "Jan_21 <- read.csv('../input/cyclistic-case-study-dataset/202101-divvy-tripdata.csv')\n",
    "\n",
    "Feb_21 <- read.csv('../input/cyclistic-case-study-dataset/202102-divvy-tripdata.csv')\n",
    "\n",
    "Mar_21 <- read.csv('../input/cyclistic-case-study-dataset/202103-divvy-tripdata.csv')\n",
    "\n",
    "Apr_21 <- read.csv('../input/cyclistic-case-study-dataset/202104-divvy-tripdata.csv')\n",
    "\n",
    "May_21 <- read.csv('../input/cyclistic-case-study-dataset/202105-divvy-tripdata.csv')\n",
    "\n",
    "Jun_21 <- read.csv('../input/cyclistic-case-study-dataset/202106-divvy-tripdata.csv')\n",
    "\n",
    "Jul_21 <- read.csv('../input/cyclistic-case-study-dataset/202107-divvy-tripdata.csv')\n",
    "\n",
    "Aug_21 <- read.csv('../input/cyclistic-case-study-dataset/202108-divvy-tripdata.csv')\n",
    "\n",
    "Sep_21 <- read.csv('../input/cyclistic-case-study-dataset/202109-divvy-tripdata.csv')\n",
    "\n",
    "Oct_21 <- read.csv('../input/cyclistic-case-study-dataset/202110-divvy-tripdata.csv')\n",
    "\n",
    "\n",
    "# To check the srtucture of all the data files are same to prepare for combining all the data files to one single source\n",
    "\n",
    "\n",
    "str(Nov_20)\n",
    "str(Dec_20)\n",
    "str(Jan_21)\n",
    "str(Feb_21)\n",
    "str(Mar_21)\n",
    "str(Apr_21)\n",
    "str(May_21)\n",
    "str(Jun_21)\n",
    "str(Jul_21)\n",
    "str(Aug_21)\n",
    "str(Sep_21)\n",
    "str(Oct_21)"
   ]
  },
  {
   "cell_type": "markdown",
   "id": "e562bf36",
   "metadata": {
    "papermill": {
     "duration": 0.081115,
     "end_time": "2021-12-09T14:20:37.997457",
     "exception": false,
     "start_time": "2021-12-09T14:20:37.916342",
     "status": "completed"
    },
    "tags": []
   },
   "source": [
    "The dataframe ‘Nov_20’ has ‘start_station_id’ and ‘end_station_id’ as int datatype. Whereas all other dataframes has these columns as char data types. Hence, data types for these two columns are changes to char for ‘Nov_20’ dataframe."
   ]
  },
  {
   "cell_type": "code",
   "execution_count": 2,
   "id": "a3c46b64",
   "metadata": {
    "execution": {
     "iopub.execute_input": "2021-12-09T14:20:38.212615Z",
     "iopub.status.busy": "2021-12-09T14:20:38.170942Z",
     "iopub.status.idle": "2021-12-09T14:20:38.278141Z",
     "shell.execute_reply": "2021-12-09T14:20:38.275963Z"
    },
    "papermill": {
     "duration": 0.194415,
     "end_time": "2021-12-09T14:20:38.278310",
     "exception": false,
     "start_time": "2021-12-09T14:20:38.083895",
     "status": "completed"
    },
    "tags": []
   },
   "outputs": [
    {
     "name": "stdout",
     "output_type": "stream",
     "text": [
      "'data.frame':\t259716 obs. of  13 variables:\n",
      " $ ride_id           : chr  \"BD0A6FF6FFF9B921\" \"96A7A7A4BDE4F82D\" \"C61526D06582BDC5\" \"E533E89C32080B9E\" ...\n",
      " $ rideable_type     : chr  \"electric_bike\" \"electric_bike\" \"electric_bike\" \"electric_bike\" ...\n",
      " $ started_at        : chr  \"2020-11-01 13:36:00\" \"2020-11-01 10:03:26\" \"2020-11-01 00:34:05\" \"2020-11-01 00:45:16\" ...\n",
      " $ ended_at          : chr  \"2020-11-01 13:45:40\" \"2020-11-01 10:14:45\" \"2020-11-01 01:03:06\" \"2020-11-01 00:54:31\" ...\n",
      " $ start_station_name: chr  \"Dearborn St & Erie St\" \"Franklin St & Illinois St\" \"Lake Shore Dr & Monroe St\" \"Leavitt St & Chicago Ave\" ...\n",
      " $ start_station_id  : chr  \"110\" \"672\" \"76\" \"659\" ...\n",
      " $ end_station_name  : chr  \"St. Clair St & Erie St\" \"Noble St & Milwaukee Ave\" \"Federal St & Polk St\" \"Stave St & Armitage Ave\" ...\n",
      " $ end_station_id    : int  211 29 41 185 2 76 72 NA 288 273 ...\n",
      " $ start_lat         : num  41.9 41.9 41.9 41.9 41.9 ...\n",
      " $ start_lng         : num  -87.6 -87.6 -87.6 -87.7 -87.6 ...\n",
      " $ end_lat           : num  41.9 41.9 41.9 41.9 41.9 ...\n",
      " $ end_lng           : num  -87.6 -87.7 -87.6 -87.7 -87.6 ...\n",
      " $ member_casual     : chr  \"casual\" \"casual\" \"casual\" \"casual\" ...\n",
      "'data.frame':\t259716 obs. of  13 variables:\n",
      " $ ride_id           : chr  \"BD0A6FF6FFF9B921\" \"96A7A7A4BDE4F82D\" \"C61526D06582BDC5\" \"E533E89C32080B9E\" ...\n",
      " $ rideable_type     : chr  \"electric_bike\" \"electric_bike\" \"electric_bike\" \"electric_bike\" ...\n",
      " $ started_at        : chr  \"2020-11-01 13:36:00\" \"2020-11-01 10:03:26\" \"2020-11-01 00:34:05\" \"2020-11-01 00:45:16\" ...\n",
      " $ ended_at          : chr  \"2020-11-01 13:45:40\" \"2020-11-01 10:14:45\" \"2020-11-01 01:03:06\" \"2020-11-01 00:54:31\" ...\n",
      " $ start_station_name: chr  \"Dearborn St & Erie St\" \"Franklin St & Illinois St\" \"Lake Shore Dr & Monroe St\" \"Leavitt St & Chicago Ave\" ...\n",
      " $ start_station_id  : chr  \"110\" \"672\" \"76\" \"659\" ...\n",
      " $ end_station_name  : chr  \"St. Clair St & Erie St\" \"Noble St & Milwaukee Ave\" \"Federal St & Polk St\" \"Stave St & Armitage Ave\" ...\n",
      " $ end_station_id    : chr  \"211\" \"29\" \"41\" \"185\" ...\n",
      " $ start_lat         : num  41.9 41.9 41.9 41.9 41.9 ...\n",
      " $ start_lng         : num  -87.6 -87.6 -87.6 -87.7 -87.6 ...\n",
      " $ end_lat           : num  41.9 41.9 41.9 41.9 41.9 ...\n",
      " $ end_lng           : num  -87.6 -87.7 -87.6 -87.7 -87.6 ...\n",
      " $ member_casual     : chr  \"casual\" \"casual\" \"casual\" \"casual\" ...\n"
     ]
    }
   ],
   "source": [
    "#change data type to char for start_station_id\n",
    "\n",
    "Nov_20$start_station_id <- as.character(Nov_20$start_station_id)\n",
    "str(Nov_20)\n",
    "\n",
    "Nov_20$end_station_id <- as.character(Nov_20$end_station_id)\n",
    "str(Nov_20)"
   ]
  },
  {
   "cell_type": "markdown",
   "id": "56ad03db",
   "metadata": {
    "papermill": {
     "duration": 0.083975,
     "end_time": "2021-12-09T14:20:38.446036",
     "exception": false,
     "start_time": "2021-12-09T14:20:38.362061",
     "status": "completed"
    },
    "tags": []
   },
   "source": [
    "Now all the dataframes are consistent, they are all joined into a single dataframe ‘combine_data’ using bind_row() function."
   ]
  },
  {
   "cell_type": "code",
   "execution_count": 3,
   "id": "7f994112",
   "metadata": {
    "execution": {
     "iopub.execute_input": "2021-12-09T14:20:38.621121Z",
     "iopub.status.busy": "2021-12-09T14:20:38.618612Z",
     "iopub.status.idle": "2021-12-09T14:20:46.684196Z",
     "shell.execute_reply": "2021-12-09T14:20:46.682278Z"
    },
    "papermill": {
     "duration": 8.154774,
     "end_time": "2021-12-09T14:20:46.684415",
     "exception": false,
     "start_time": "2021-12-09T14:20:38.529641",
     "status": "completed"
    },
    "tags": []
   },
   "outputs": [
    {
     "name": "stdout",
     "output_type": "stream",
     "text": [
      "'data.frame':\t5378834 obs. of  13 variables:\n",
      " $ ride_id           : chr  \"BD0A6FF6FFF9B921\" \"96A7A7A4BDE4F82D\" \"C61526D06582BDC5\" \"E533E89C32080B9E\" ...\n",
      " $ rideable_type     : chr  \"electric_bike\" \"electric_bike\" \"electric_bike\" \"electric_bike\" ...\n",
      " $ started_at        : chr  \"2020-11-01 13:36:00\" \"2020-11-01 10:03:26\" \"2020-11-01 00:34:05\" \"2020-11-01 00:45:16\" ...\n",
      " $ ended_at          : chr  \"2020-11-01 13:45:40\" \"2020-11-01 10:14:45\" \"2020-11-01 01:03:06\" \"2020-11-01 00:54:31\" ...\n",
      " $ start_station_name: chr  \"Dearborn St & Erie St\" \"Franklin St & Illinois St\" \"Lake Shore Dr & Monroe St\" \"Leavitt St & Chicago Ave\" ...\n",
      " $ start_station_id  : chr  \"110\" \"672\" \"76\" \"659\" ...\n",
      " $ end_station_name  : chr  \"St. Clair St & Erie St\" \"Noble St & Milwaukee Ave\" \"Federal St & Polk St\" \"Stave St & Armitage Ave\" ...\n",
      " $ end_station_id    : chr  \"211\" \"29\" \"41\" \"185\" ...\n",
      " $ start_lat         : num  41.9 41.9 41.9 41.9 41.9 ...\n",
      " $ start_lng         : num  -87.6 -87.6 -87.6 -87.7 -87.6 ...\n",
      " $ end_lat           : num  41.9 41.9 41.9 41.9 41.9 ...\n",
      " $ end_lng           : num  -87.6 -87.7 -87.6 -87.7 -87.6 ...\n",
      " $ member_casual     : chr  \"casual\" \"casual\" \"casual\" \"casual\" ...\n"
     ]
    }
   ],
   "source": [
    "# combine all data\n",
    "\n",
    "library(dplyr)\n",
    "\n",
    "combine_data <- bind_rows(\n",
    "  Nov_20, Dec_20, Jan_21, Feb_21, Mar_21, Apr_21, May_21,\n",
    "  Jun_21, Jul_21, Aug_21, Sep_21, Oct_21)\n",
    "\n",
    "str(combine_data)"
   ]
  },
  {
   "cell_type": "code",
   "execution_count": 4,
   "id": "757dc283",
   "metadata": {
    "execution": {
     "iopub.execute_input": "2021-12-09T14:20:46.861728Z",
     "iopub.status.busy": "2021-12-09T14:20:46.860199Z",
     "iopub.status.idle": "2021-12-09T14:21:06.237179Z",
     "shell.execute_reply": "2021-12-09T14:21:06.235512Z"
    },
    "papermill": {
     "duration": 19.465572,
     "end_time": "2021-12-09T14:21:06.237416",
     "exception": false,
     "start_time": "2021-12-09T14:20:46.771844",
     "status": "completed"
    },
    "tags": []
   },
   "outputs": [
    {
     "name": "stderr",
     "output_type": "stream",
     "text": [
      "\n",
      "Attaching package: ‘lubridate’\n",
      "\n",
      "\n",
      "The following objects are masked from ‘package:base’:\n",
      "\n",
      "    date, intersect, setdiff, union\n",
      "\n",
      "\n"
     ]
    },
    {
     "name": "stdout",
     "output_type": "stream",
     "text": [
      "'data.frame':\t5378834 obs. of  13 variables:\n",
      " $ ride_id           : chr  \"BD0A6FF6FFF9B921\" \"96A7A7A4BDE4F82D\" \"C61526D06582BDC5\" \"E533E89C32080B9E\" ...\n",
      " $ rideable_type     : chr  \"electric_bike\" \"electric_bike\" \"electric_bike\" \"electric_bike\" ...\n",
      " $ started_at        : POSIXct, format: \"2020-11-01 13:36:00\" \"2020-11-01 10:03:26\" ...\n",
      " $ ended_at          : POSIXct, format: \"2020-11-01 13:45:40\" \"2020-11-01 10:14:45\" ...\n",
      " $ start_station_name: chr  \"Dearborn St & Erie St\" \"Franklin St & Illinois St\" \"Lake Shore Dr & Monroe St\" \"Leavitt St & Chicago Ave\" ...\n",
      " $ start_station_id  : chr  \"110\" \"672\" \"76\" \"659\" ...\n",
      " $ end_station_name  : chr  \"St. Clair St & Erie St\" \"Noble St & Milwaukee Ave\" \"Federal St & Polk St\" \"Stave St & Armitage Ave\" ...\n",
      " $ end_station_id    : chr  \"211\" \"29\" \"41\" \"185\" ...\n",
      " $ start_lat         : num  41.9 41.9 41.9 41.9 41.9 ...\n",
      " $ start_lng         : num  -87.6 -87.6 -87.6 -87.7 -87.6 ...\n",
      " $ end_lat           : num  41.9 41.9 41.9 41.9 41.9 ...\n",
      " $ end_lng           : num  -87.6 -87.7 -87.6 -87.7 -87.6 ...\n",
      " $ member_casual     : chr  \"casual\" \"casual\" \"casual\" \"casual\" ...\n"
     ]
    }
   ],
   "source": [
    "#convert date cloumns to datetime datatype\n",
    "\n",
    "library(lubridate)\n",
    "\n",
    "combine_data$started_at <- ymd_hms(combine_data$started_at)\n",
    "combine_data$ended_at <- ymd_hms(combine_data$ended_at)\n",
    "str(combine_data)"
   ]
  },
  {
   "cell_type": "markdown",
   "id": "1067044c",
   "metadata": {
    "papermill": {
     "duration": 0.087353,
     "end_time": "2021-12-09T14:21:06.412604",
     "exception": false,
     "start_time": "2021-12-09T14:21:06.325251",
     "status": "completed"
    },
    "tags": []
   },
   "source": [
    "Create a new column ‘ride_length’ by subtracting end_at from start_at. Used difftime() function to calculate time difference."
   ]
  },
  {
   "cell_type": "code",
   "execution_count": 5,
   "id": "ba0adb5f",
   "metadata": {
    "execution": {
     "iopub.execute_input": "2021-12-09T14:21:06.593898Z",
     "iopub.status.busy": "2021-12-09T14:21:06.592320Z",
     "iopub.status.idle": "2021-12-09T14:21:06.684042Z",
     "shell.execute_reply": "2021-12-09T14:21:06.682530Z"
    },
    "papermill": {
     "duration": 0.183493,
     "end_time": "2021-12-09T14:21:06.684239",
     "exception": false,
     "start_time": "2021-12-09T14:21:06.500746",
     "status": "completed"
    },
    "tags": []
   },
   "outputs": [
    {
     "name": "stdout",
     "output_type": "stream",
     "text": [
      "'data.frame':\t5378834 obs. of  14 variables:\n",
      " $ ride_id           : chr  \"BD0A6FF6FFF9B921\" \"96A7A7A4BDE4F82D\" \"C61526D06582BDC5\" \"E533E89C32080B9E\" ...\n",
      " $ rideable_type     : chr  \"electric_bike\" \"electric_bike\" \"electric_bike\" \"electric_bike\" ...\n",
      " $ started_at        : POSIXct, format: \"2020-11-01 13:36:00\" \"2020-11-01 10:03:26\" ...\n",
      " $ ended_at          : POSIXct, format: \"2020-11-01 13:45:40\" \"2020-11-01 10:14:45\" ...\n",
      " $ start_station_name: chr  \"Dearborn St & Erie St\" \"Franklin St & Illinois St\" \"Lake Shore Dr & Monroe St\" \"Leavitt St & Chicago Ave\" ...\n",
      " $ start_station_id  : chr  \"110\" \"672\" \"76\" \"659\" ...\n",
      " $ end_station_name  : chr  \"St. Clair St & Erie St\" \"Noble St & Milwaukee Ave\" \"Federal St & Polk St\" \"Stave St & Armitage Ave\" ...\n",
      " $ end_station_id    : chr  \"211\" \"29\" \"41\" \"185\" ...\n",
      " $ start_lat         : num  41.9 41.9 41.9 41.9 41.9 ...\n",
      " $ start_lng         : num  -87.6 -87.6 -87.6 -87.7 -87.6 ...\n",
      " $ end_lat           : num  41.9 41.9 41.9 41.9 41.9 ...\n",
      " $ end_lng           : num  -87.6 -87.7 -87.6 -87.7 -87.6 ...\n",
      " $ member_casual     : chr  \"casual\" \"casual\" \"casual\" \"casual\" ...\n",
      " $ ride_length       : 'difftime' num  580 679 1741 555 ...\n",
      "  ..- attr(*, \"units\")= chr \"secs\"\n"
     ]
    }
   ],
   "source": [
    "#add ride_length\n",
    "\n",
    "combine_data <- mutate(combine_data, ride_length=difftime(combine_data$ended_at,combine_data$started_at, unit=\"secs\"))\n",
    "str(combine_data)"
   ]
  },
  {
   "cell_type": "code",
   "execution_count": 6,
   "id": "97ef1ae6",
   "metadata": {
    "execution": {
     "iopub.execute_input": "2021-12-09T14:21:06.869326Z",
     "iopub.status.busy": "2021-12-09T14:21:06.867745Z",
     "iopub.status.idle": "2021-12-09T14:21:26.853377Z",
     "shell.execute_reply": "2021-12-09T14:21:26.850938Z"
    },
    "papermill": {
     "duration": 20.080274,
     "end_time": "2021-12-09T14:21:26.853660",
     "exception": false,
     "start_time": "2021-12-09T14:21:06.773386",
     "status": "completed"
    },
    "tags": []
   },
   "outputs": [
    {
     "data": {
      "text/html": [
       "<table class=\"dataframe\">\n",
       "<caption>A data.frame: 6 × 19</caption>\n",
       "<thead>\n",
       "\t<tr><th></th><th scope=col>ride_id</th><th scope=col>rideable_type</th><th scope=col>started_at</th><th scope=col>ended_at</th><th scope=col>start_station_name</th><th scope=col>start_station_id</th><th scope=col>end_station_name</th><th scope=col>end_station_id</th><th scope=col>start_lat</th><th scope=col>start_lng</th><th scope=col>end_lat</th><th scope=col>end_lng</th><th scope=col>member_casual</th><th scope=col>ride_length</th><th scope=col>year</th><th scope=col>month</th><th scope=col>week</th><th scope=col>date</th><th scope=col>day_of_week</th></tr>\n",
       "\t<tr><th></th><th scope=col>&lt;chr&gt;</th><th scope=col>&lt;chr&gt;</th><th scope=col>&lt;dttm&gt;</th><th scope=col>&lt;dttm&gt;</th><th scope=col>&lt;chr&gt;</th><th scope=col>&lt;chr&gt;</th><th scope=col>&lt;chr&gt;</th><th scope=col>&lt;chr&gt;</th><th scope=col>&lt;dbl&gt;</th><th scope=col>&lt;dbl&gt;</th><th scope=col>&lt;dbl&gt;</th><th scope=col>&lt;dbl&gt;</th><th scope=col>&lt;chr&gt;</th><th scope=col>&lt;drtn&gt;</th><th scope=col>&lt;chr&gt;</th><th scope=col>&lt;chr&gt;</th><th scope=col>&lt;chr&gt;</th><th scope=col>&lt;chr&gt;</th><th scope=col>&lt;chr&gt;</th></tr>\n",
       "</thead>\n",
       "<tbody>\n",
       "\t<tr><th scope=row>1</th><td>BD0A6FF6FFF9B921</td><td>electric_bike</td><td>2020-11-01 13:36:00</td><td>2020-11-01 13:45:40</td><td><span style=white-space:pre-wrap>Dearborn St &amp; Erie St    </span></td><td>110</td><td><span style=white-space:pre-wrap>St. Clair St &amp; Erie St   </span></td><td>211</td><td>41.89418</td><td>-87.62913</td><td>41.89443</td><td>-87.62338</td><td>casual</td><td> 580 secs</td><td>2020</td><td>11</td><td>43</td><td>11/01/20</td><td><span style=white-space:pre-wrap>Sunday  </span></td></tr>\n",
       "\t<tr><th scope=row>2</th><td>96A7A7A4BDE4F82D</td><td>electric_bike</td><td>2020-11-01 10:03:26</td><td>2020-11-01 10:14:45</td><td>Franklin St &amp; Illinois St</td><td>672</td><td>Noble St &amp; Milwaukee Ave </td><td>29 </td><td>41.89096</td><td>-87.63534</td><td>41.90067</td><td>-87.66248</td><td>casual</td><td> 679 secs</td><td>2020</td><td>11</td><td>43</td><td>11/01/20</td><td><span style=white-space:pre-wrap>Sunday  </span></td></tr>\n",
       "\t<tr><th scope=row>3</th><td>C61526D06582BDC5</td><td>electric_bike</td><td>2020-11-01 00:34:05</td><td>2020-11-01 01:03:06</td><td>Lake Shore Dr &amp; Monroe St</td><td>76 </td><td><span style=white-space:pre-wrap>Federal St &amp; Polk St     </span></td><td>41 </td><td>41.88098</td><td>-87.61675</td><td>41.87205</td><td>-87.62955</td><td>casual</td><td>1741 secs</td><td>2020</td><td>11</td><td>43</td><td>11/01/20</td><td><span style=white-space:pre-wrap>Sunday  </span></td></tr>\n",
       "\t<tr><th scope=row>4</th><td>E533E89C32080B9E</td><td>electric_bike</td><td>2020-11-01 00:45:16</td><td>2020-11-01 00:54:31</td><td>Leavitt St &amp; Chicago Ave </td><td>659</td><td><span style=white-space:pre-wrap>Stave St &amp; Armitage Ave  </span></td><td>185</td><td>41.89550</td><td>-87.68201</td><td>41.91774</td><td>-87.69139</td><td>casual</td><td> 555 secs</td><td>2020</td><td>11</td><td>43</td><td>11/01/20</td><td><span style=white-space:pre-wrap>Sunday  </span></td></tr>\n",
       "\t<tr><th scope=row>5</th><td>1C9F4EF18C168C60</td><td>electric_bike</td><td>2020-11-01 15:43:25</td><td>2020-11-01 16:16:52</td><td>Buckingham Fountain      </td><td>2  </td><td>Buckingham Fountain      </td><td>2  </td><td>41.87650</td><td>-87.62036</td><td>41.87645</td><td>-87.62034</td><td>casual</td><td>2007 secs</td><td>2020</td><td>11</td><td>43</td><td>11/01/20</td><td>Sunday  </td></tr>\n",
       "\t<tr><th scope=row>6</th><td>7259585D8276D338</td><td>electric_bike</td><td>2020-11-14 15:55:17</td><td>2020-11-14 16:44:38</td><td><span style=white-space:pre-wrap>Wabash Ave &amp; 16th St     </span></td><td>72 </td><td>Lake Shore Dr &amp; Monroe St</td><td>76 </td><td>41.86029</td><td>-87.62581</td><td>41.88099</td><td>-87.61677</td><td>casual</td><td>2961 secs</td><td>2020</td><td>11</td><td>45</td><td>11/14/20</td><td>Saturday</td></tr>\n",
       "</tbody>\n",
       "</table>\n"
      ],
      "text/latex": [
       "A data.frame: 6 × 19\n",
       "\\begin{tabular}{r|lllllllllllllllllll}\n",
       "  & ride\\_id & rideable\\_type & started\\_at & ended\\_at & start\\_station\\_name & start\\_station\\_id & end\\_station\\_name & end\\_station\\_id & start\\_lat & start\\_lng & end\\_lat & end\\_lng & member\\_casual & ride\\_length & year & month & week & date & day\\_of\\_week\\\\\n",
       "  & <chr> & <chr> & <dttm> & <dttm> & <chr> & <chr> & <chr> & <chr> & <dbl> & <dbl> & <dbl> & <dbl> & <chr> & <drtn> & <chr> & <chr> & <chr> & <chr> & <chr>\\\\\n",
       "\\hline\n",
       "\t1 & BD0A6FF6FFF9B921 & electric\\_bike & 2020-11-01 13:36:00 & 2020-11-01 13:45:40 & Dearborn St \\& Erie St     & 110 & St. Clair St \\& Erie St    & 211 & 41.89418 & -87.62913 & 41.89443 & -87.62338 & casual &  580 secs & 2020 & 11 & 43 & 11/01/20 & Sunday  \\\\\n",
       "\t2 & 96A7A7A4BDE4F82D & electric\\_bike & 2020-11-01 10:03:26 & 2020-11-01 10:14:45 & Franklin St \\& Illinois St & 672 & Noble St \\& Milwaukee Ave  & 29  & 41.89096 & -87.63534 & 41.90067 & -87.66248 & casual &  679 secs & 2020 & 11 & 43 & 11/01/20 & Sunday  \\\\\n",
       "\t3 & C61526D06582BDC5 & electric\\_bike & 2020-11-01 00:34:05 & 2020-11-01 01:03:06 & Lake Shore Dr \\& Monroe St & 76  & Federal St \\& Polk St      & 41  & 41.88098 & -87.61675 & 41.87205 & -87.62955 & casual & 1741 secs & 2020 & 11 & 43 & 11/01/20 & Sunday  \\\\\n",
       "\t4 & E533E89C32080B9E & electric\\_bike & 2020-11-01 00:45:16 & 2020-11-01 00:54:31 & Leavitt St \\& Chicago Ave  & 659 & Stave St \\& Armitage Ave   & 185 & 41.89550 & -87.68201 & 41.91774 & -87.69139 & casual &  555 secs & 2020 & 11 & 43 & 11/01/20 & Sunday  \\\\\n",
       "\t5 & 1C9F4EF18C168C60 & electric\\_bike & 2020-11-01 15:43:25 & 2020-11-01 16:16:52 & Buckingham Fountain       & 2   & Buckingham Fountain       & 2   & 41.87650 & -87.62036 & 41.87645 & -87.62034 & casual & 2007 secs & 2020 & 11 & 43 & 11/01/20 & Sunday  \\\\\n",
       "\t6 & 7259585D8276D338 & electric\\_bike & 2020-11-14 15:55:17 & 2020-11-14 16:44:38 & Wabash Ave \\& 16th St      & 72  & Lake Shore Dr \\& Monroe St & 76  & 41.86029 & -87.62581 & 41.88099 & -87.61677 & casual & 2961 secs & 2020 & 11 & 45 & 11/14/20 & Saturday\\\\\n",
       "\\end{tabular}\n"
      ],
      "text/markdown": [
       "\n",
       "A data.frame: 6 × 19\n",
       "\n",
       "| <!--/--> | ride_id &lt;chr&gt; | rideable_type &lt;chr&gt; | started_at &lt;dttm&gt; | ended_at &lt;dttm&gt; | start_station_name &lt;chr&gt; | start_station_id &lt;chr&gt; | end_station_name &lt;chr&gt; | end_station_id &lt;chr&gt; | start_lat &lt;dbl&gt; | start_lng &lt;dbl&gt; | end_lat &lt;dbl&gt; | end_lng &lt;dbl&gt; | member_casual &lt;chr&gt; | ride_length &lt;drtn&gt; | year &lt;chr&gt; | month &lt;chr&gt; | week &lt;chr&gt; | date &lt;chr&gt; | day_of_week &lt;chr&gt; |\n",
       "|---|---|---|---|---|---|---|---|---|---|---|---|---|---|---|---|---|---|---|---|\n",
       "| 1 | BD0A6FF6FFF9B921 | electric_bike | 2020-11-01 13:36:00 | 2020-11-01 13:45:40 | Dearborn St &amp; Erie St     | 110 | St. Clair St &amp; Erie St    | 211 | 41.89418 | -87.62913 | 41.89443 | -87.62338 | casual |  580 secs | 2020 | 11 | 43 | 11/01/20 | Sunday   |\n",
       "| 2 | 96A7A7A4BDE4F82D | electric_bike | 2020-11-01 10:03:26 | 2020-11-01 10:14:45 | Franklin St &amp; Illinois St | 672 | Noble St &amp; Milwaukee Ave  | 29  | 41.89096 | -87.63534 | 41.90067 | -87.66248 | casual |  679 secs | 2020 | 11 | 43 | 11/01/20 | Sunday   |\n",
       "| 3 | C61526D06582BDC5 | electric_bike | 2020-11-01 00:34:05 | 2020-11-01 01:03:06 | Lake Shore Dr &amp; Monroe St | 76  | Federal St &amp; Polk St      | 41  | 41.88098 | -87.61675 | 41.87205 | -87.62955 | casual | 1741 secs | 2020 | 11 | 43 | 11/01/20 | Sunday   |\n",
       "| 4 | E533E89C32080B9E | electric_bike | 2020-11-01 00:45:16 | 2020-11-01 00:54:31 | Leavitt St &amp; Chicago Ave  | 659 | Stave St &amp; Armitage Ave   | 185 | 41.89550 | -87.68201 | 41.91774 | -87.69139 | casual |  555 secs | 2020 | 11 | 43 | 11/01/20 | Sunday   |\n",
       "| 5 | 1C9F4EF18C168C60 | electric_bike | 2020-11-01 15:43:25 | 2020-11-01 16:16:52 | Buckingham Fountain       | 2   | Buckingham Fountain       | 2   | 41.87650 | -87.62036 | 41.87645 | -87.62034 | casual | 2007 secs | 2020 | 11 | 43 | 11/01/20 | Sunday   |\n",
       "| 6 | 7259585D8276D338 | electric_bike | 2020-11-14 15:55:17 | 2020-11-14 16:44:38 | Wabash Ave &amp; 16th St      | 72  | Lake Shore Dr &amp; Monroe St | 76  | 41.86029 | -87.62581 | 41.88099 | -87.61677 | casual | 2961 secs | 2020 | 11 | 45 | 11/14/20 | Saturday |\n",
       "\n"
      ],
      "text/plain": [
       "  ride_id          rideable_type started_at          ended_at           \n",
       "1 BD0A6FF6FFF9B921 electric_bike 2020-11-01 13:36:00 2020-11-01 13:45:40\n",
       "2 96A7A7A4BDE4F82D electric_bike 2020-11-01 10:03:26 2020-11-01 10:14:45\n",
       "3 C61526D06582BDC5 electric_bike 2020-11-01 00:34:05 2020-11-01 01:03:06\n",
       "4 E533E89C32080B9E electric_bike 2020-11-01 00:45:16 2020-11-01 00:54:31\n",
       "5 1C9F4EF18C168C60 electric_bike 2020-11-01 15:43:25 2020-11-01 16:16:52\n",
       "6 7259585D8276D338 electric_bike 2020-11-14 15:55:17 2020-11-14 16:44:38\n",
       "  start_station_name        start_station_id end_station_name         \n",
       "1 Dearborn St & Erie St     110              St. Clair St & Erie St   \n",
       "2 Franklin St & Illinois St 672              Noble St & Milwaukee Ave \n",
       "3 Lake Shore Dr & Monroe St 76               Federal St & Polk St     \n",
       "4 Leavitt St & Chicago Ave  659              Stave St & Armitage Ave  \n",
       "5 Buckingham Fountain       2                Buckingham Fountain      \n",
       "6 Wabash Ave & 16th St      72               Lake Shore Dr & Monroe St\n",
       "  end_station_id start_lat start_lng end_lat  end_lng   member_casual\n",
       "1 211            41.89418  -87.62913 41.89443 -87.62338 casual       \n",
       "2 29             41.89096  -87.63534 41.90067 -87.66248 casual       \n",
       "3 41             41.88098  -87.61675 41.87205 -87.62955 casual       \n",
       "4 185            41.89550  -87.68201 41.91774 -87.69139 casual       \n",
       "5 2              41.87650  -87.62036 41.87645 -87.62034 casual       \n",
       "6 76             41.86029  -87.62581 41.88099 -87.61677 casual       \n",
       "  ride_length year month week date     day_of_week\n",
       "1  580 secs   2020 11    43   11/01/20 Sunday     \n",
       "2  679 secs   2020 11    43   11/01/20 Sunday     \n",
       "3 1741 secs   2020 11    43   11/01/20 Sunday     \n",
       "4  555 secs   2020 11    43   11/01/20 Sunday     \n",
       "5 2007 secs   2020 11    43   11/01/20 Sunday     \n",
       "6 2961 secs   2020 11    45   11/14/20 Saturday   "
      ]
     },
     "metadata": {},
     "output_type": "display_data"
    }
   ],
   "source": [
    "#Create new columns for by splitting started_at into year, month, week, date, day_of_week.\n",
    "\n",
    "combine_data$year <- format(combine_data$started_at,\"%Y\")\n",
    "combine_data$month <- format(combine_data$started_at,\"%m\")\n",
    "combine_data$week <- format(combine_data$started_at,\"%W\")\n",
    "combine_data$date <- format(combine_data$started_at,\"%D\")\n",
    "combine_data$day_of_week <- format(combine_data$started_at,\"%A\")\n",
    "head(combine_data)\n",
    "\n",
    "combine_data <- arrange(combine_data, by=started_at)"
   ]
  },
  {
   "cell_type": "markdown",
   "id": "faecb5d9",
   "metadata": {
    "papermill": {
     "duration": 0.090795,
     "end_time": "2021-12-09T14:21:27.038710",
     "exception": false,
     "start_time": "2021-12-09T14:21:26.947915",
     "status": "completed"
    },
    "tags": []
   },
   "source": [
    "## Cleaning the dataset"
   ]
  },
  {
   "cell_type": "code",
   "execution_count": 7,
   "id": "59668904",
   "metadata": {
    "execution": {
     "iopub.execute_input": "2021-12-09T14:21:27.226602Z",
     "iopub.status.busy": "2021-12-09T14:21:27.224929Z",
     "iopub.status.idle": "2021-12-09T14:21:33.689396Z",
     "shell.execute_reply": "2021-12-09T14:21:33.687486Z"
    },
    "papermill": {
     "duration": 6.559396,
     "end_time": "2021-12-09T14:21:33.689566",
     "exception": false,
     "start_time": "2021-12-09T14:21:27.130170",
     "status": "completed"
    },
    "tags": []
   },
   "outputs": [
    {
     "name": "stdout",
     "output_type": "stream",
     "text": [
      "Rows: 1,881\n",
      "Columns: 19\n",
      "$ ride_id            \u001b[3m\u001b[90m<chr>\u001b[39m\u001b[23m \"0BDBD92B88766BB5\", \"4FABB025A0D5F155\", \"A3BF62175D…\n",
      "$ rideable_type      \u001b[3m\u001b[90m<chr>\u001b[39m\u001b[23m \"electric_bike\", \"docked_bike\", \"docked_bike\", \"doc…\n",
      "$ started_at         \u001b[3m\u001b[90m<dttm>\u001b[39m\u001b[23m 2020-11-01 01:17:42, 2020-11-01 01:33:39, 2020-11-…\n",
      "$ ended_at           \u001b[3m\u001b[90m<dttm>\u001b[39m\u001b[23m 2020-11-01 01:14:21, 2020-11-01 01:19:36, 2020-11-…\n",
      "$ start_station_name \u001b[3m\u001b[90m<chr>\u001b[39m\u001b[23m \"Franklin St & Chicago Ave\", \"Cottage Grove Ave & 6…\n",
      "$ start_station_id   \u001b[3m\u001b[90m<chr>\u001b[39m\u001b[23m \"31\", \"427\", \"427\", \"153\", \"306\", \"13\", \"13\", NA, \"…\n",
      "$ end_station_name   \u001b[3m\u001b[90m<chr>\u001b[39m\u001b[23m \"State St & Pershing Rd\", \"Cottage Grove Ave & 63rd…\n",
      "$ end_station_id     \u001b[3m\u001b[90m<chr>\u001b[39m\u001b[23m \"407\", \"427\", \"427\", \"74\", \"464\", \"492\", NA, \"290\",…\n",
      "$ start_lat          \u001b[3m\u001b[90m<dbl>\u001b[39m\u001b[23m 41.89669, 41.78060, 41.78060, 41.93573, 41.95852, 4…\n",
      "$ start_lng          \u001b[3m\u001b[90m<dbl>\u001b[39m\u001b[23m -87.63578, -87.60611, -87.60611, -87.66358, -87.654…\n",
      "$ end_lat            \u001b[3m\u001b[90m<dbl>\u001b[39m\u001b[23m 41.82304, 41.78060, 41.78060, 41.89381, 41.97559, 4…\n",
      "$ end_lng            \u001b[3m\u001b[90m<dbl>\u001b[39m\u001b[23m -87.62658, -87.60611, -87.60611, -87.64170, -87.679…\n",
      "$ member_casual      \u001b[3m\u001b[90m<chr>\u001b[39m\u001b[23m \"casual\", \"casual\", \"casual\", \"member\", \"casual\", \"…\n",
      "$ ride_length        \u001b[3m\u001b[90m<drtn>\u001b[39m\u001b[23m -201 secs, -843 secs, -821 secs, -2432 secs, -2869…\n",
      "$ year               \u001b[3m\u001b[90m<chr>\u001b[39m\u001b[23m \"2020\", \"2020\", \"2020\", \"2020\", \"2020\", \"2020\", \"20…\n",
      "$ month              \u001b[3m\u001b[90m<chr>\u001b[39m\u001b[23m \"11\", \"11\", \"11\", \"11\", \"11\", \"11\", \"11\", \"11\", \"11…\n",
      "$ week               \u001b[3m\u001b[90m<chr>\u001b[39m\u001b[23m \"43\", \"43\", \"43\", \"43\", \"43\", \"43\", \"43\", \"43\", \"43…\n",
      "$ date               \u001b[3m\u001b[90m<chr>\u001b[39m\u001b[23m \"11/01/20\", \"11/01/20\", \"11/01/20\", \"11/01/20\", \"11…\n",
      "$ day_of_week        \u001b[3m\u001b[90m<chr>\u001b[39m\u001b[23m \"Sunday\", \"Sunday\", \"Sunday\", \"Sunday\", \"Sunday\", \"…\n"
     ]
    }
   ],
   "source": [
    "#remove those rows which has negative or zero ride_length\n",
    "\n",
    "zero_ride_length <- combine_data %>%\n",
    "  filter(ride_length<=0)\n",
    "glimpse(zero_ride_length)\n",
    "\n",
    "combine_data <- combine_data %>%\n",
    "  filter(!(ride_length<=0))"
   ]
  },
  {
   "cell_type": "code",
   "execution_count": 8,
   "id": "9f4d9b1d",
   "metadata": {
    "execution": {
     "iopub.execute_input": "2021-12-09T14:21:33.882496Z",
     "iopub.status.busy": "2021-12-09T14:21:33.880456Z",
     "iopub.status.idle": "2021-12-09T14:21:43.706328Z",
     "shell.execute_reply": "2021-12-09T14:21:43.704433Z"
    },
    "papermill": {
     "duration": 9.924097,
     "end_time": "2021-12-09T14:21:43.706543",
     "exception": false,
     "start_time": "2021-12-09T14:21:33.782446",
     "status": "completed"
    },
    "tags": []
   },
   "outputs": [],
   "source": [
    "#remove those rows which has incomplete data. Like which does not have start_station_name or end_station_name\n",
    "\n",
    "combine_data <- combine_data %>%\n",
    "  filter(\n",
    "    !(start_station_name == \"\" | is.na(start_station_name))) %>%\n",
    "  filter(\n",
    "    !(end_station_name == \"\" | is.na(end_station_name)))"
   ]
  },
  {
   "cell_type": "code",
   "execution_count": 9,
   "id": "427dc51a",
   "metadata": {
    "execution": {
     "iopub.execute_input": "2021-12-09T14:21:43.902854Z",
     "iopub.status.busy": "2021-12-09T14:21:43.900850Z",
     "iopub.status.idle": "2021-12-09T14:21:45.109723Z",
     "shell.execute_reply": "2021-12-09T14:21:45.107845Z"
    },
    "papermill": {
     "duration": 1.309374,
     "end_time": "2021-12-09T14:21:45.109874",
     "exception": false,
     "start_time": "2021-12-09T14:21:43.800500",
     "status": "completed"
    },
    "tags": []
   },
   "outputs": [
    {
     "data": {
      "text/plain": [
       "NULL"
      ]
     },
     "metadata": {},
     "output_type": "display_data"
    },
    {
     "name": "stdout",
     "output_type": "stream",
     "text": [
      "Rows: 4,491,470\n",
      "Columns: 19\n",
      "$ ride_id            \u001b[3m\u001b[90m<chr>\u001b[39m\u001b[23m \"D0C1A65AFC859916\", \"985AD418D8ED316C\", \"AB459A840C…\n",
      "$ rideable_type      \u001b[3m\u001b[90m<chr>\u001b[39m\u001b[23m \"docked_bike\", \"docked_bike\", \"docked_bike\", \"elect…\n",
      "$ started_at         \u001b[3m\u001b[90m<dttm>\u001b[39m\u001b[23m 2020-11-01 00:00:08, 2020-11-01 00:00:14, 2020-11-…\n",
      "$ ended_at           \u001b[3m\u001b[90m<dttm>\u001b[39m\u001b[23m 2020-11-01 00:35:08, 2020-11-01 00:02:20, 2020-11-…\n",
      "$ start_station_name \u001b[3m\u001b[90m<chr>\u001b[39m\u001b[23m \"Broadway & Barry Ave\", \"Desplaines St & Kinzie St\"…\n",
      "$ start_station_id   \u001b[3m\u001b[90m<chr>\u001b[39m\u001b[23m \"300\", \"56\", \"303\", \"291\", \"291\", \"110\", \"153\", \"34…\n",
      "$ end_station_name   \u001b[3m\u001b[90m<chr>\u001b[39m\u001b[23m \"Broadway & Barry Ave\", \"Desplaines St & Randolph S…\n",
      "$ end_station_id     \u001b[3m\u001b[90m<chr>\u001b[39m\u001b[23m \"300\", \"96\", \"240\", \"31\", \"31\", \"291\", \"289\", \"226\"…\n",
      "$ start_lat          \u001b[3m\u001b[90m<dbl>\u001b[39m\u001b[23m 41.93758, 41.88872, 41.94553, 41.90676, 41.90669, 4…\n",
      "$ start_lng          \u001b[3m\u001b[90m<dbl>\u001b[39m\u001b[23m -87.64410, -87.64445, -87.64644, -87.63510, -87.635…\n",
      "$ end_lat            \u001b[3m\u001b[90m<dbl>\u001b[39m\u001b[23m 41.93758, 41.88462, 41.95425, 41.89692, 41.89712, 4…\n",
      "$ end_lng            \u001b[3m\u001b[90m<dbl>\u001b[39m\u001b[23m -87.64410, -87.64457, -87.65441, -87.63570, -87.635…\n",
      "$ member_casual      \u001b[3m\u001b[90m<chr>\u001b[39m\u001b[23m \"casual\", \"member\", \"member\", \"casual\", \"member\", \"…\n",
      "$ ride_length        \u001b[3m\u001b[90m<drtn>\u001b[39m\u001b[23m 2100 secs, 126 secs, 359 secs, 233 secs, 207 secs,…\n",
      "$ year               \u001b[3m\u001b[90m<chr>\u001b[39m\u001b[23m \"2020\", \"2020\", \"2020\", \"2020\", \"2020\", \"2020\", \"20…\n",
      "$ month              \u001b[3m\u001b[90m<chr>\u001b[39m\u001b[23m \"11\", \"11\", \"11\", \"11\", \"11\", \"11\", \"11\", \"11\", \"11…\n",
      "$ week               \u001b[3m\u001b[90m<chr>\u001b[39m\u001b[23m \"43\", \"43\", \"43\", \"43\", \"43\", \"43\", \"43\", \"43\", \"43…\n",
      "$ date               \u001b[3m\u001b[90m<chr>\u001b[39m\u001b[23m \"11/01/20\", \"11/01/20\", \"11/01/20\", \"11/01/20\", \"11…\n",
      "$ day_of_week        \u001b[3m\u001b[90m<chr>\u001b[39m\u001b[23m \"Sunday\", \"Sunday\", \"Sunday\", \"Sunday\", \"Sunday\", \"…\n"
     ]
    }
   ],
   "source": [
    "#remove bad/unwanted data\n",
    "\n",
    "head(combine_data[combine_data$start_station_name=='HQ QR']$start_station_name)\n",
    "\n",
    "glimpse(combine_data)"
   ]
  },
  {
   "cell_type": "markdown",
   "id": "6066c69e",
   "metadata": {
    "papermill": {
     "duration": 0.095618,
     "end_time": "2021-12-09T14:21:45.300919",
     "exception": false,
     "start_time": "2021-12-09T14:21:45.205301",
     "status": "completed"
    },
    "tags": []
   },
   "source": [
    "## Analyze dataset\n",
    "\n",
    "In order to define metrics, we can analyze variables like ride_length, average of ride time. By analysing we can define below two metrics:\n",
    "1.\tNumber of rides by rider type\n",
    "2.\tNumber of rides by average ride time\n"
   ]
  },
  {
   "cell_type": "code",
   "execution_count": 10,
   "id": "e97534a0",
   "metadata": {
    "execution": {
     "iopub.execute_input": "2021-12-09T14:21:45.499369Z",
     "iopub.status.busy": "2021-12-09T14:21:45.495415Z",
     "iopub.status.idle": "2021-12-09T14:21:53.155913Z",
     "shell.execute_reply": "2021-12-09T14:21:53.153559Z"
    },
    "papermill": {
     "duration": 7.760772,
     "end_time": "2021-12-09T14:21:53.156084",
     "exception": false,
     "start_time": "2021-12-09T14:21:45.395312",
     "status": "completed"
    },
    "tags": []
   },
   "outputs": [
    {
     "data": {
      "text/plain": [
       "\n",
       "   Friday    Monday  Saturday    Sunday  Thursday   Tuesday Wednesday \n",
       "   643637    559608    822227    714280    581729    578095    591894 "
      ]
     },
     "metadata": {},
     "output_type": "display_data"
    },
    {
     "data": {
      "text/plain": [
       "\n",
       " casual  member \n",
       "2030677 2460793 "
      ]
     },
     "metadata": {},
     "output_type": "display_data"
    }
   ],
   "source": [
    "table(combine_data$day_of_week)\n",
    "table(combine_data$member_casual)"
   ]
  },
  {
   "cell_type": "code",
   "execution_count": 11,
   "id": "e256b53c",
   "metadata": {
    "execution": {
     "iopub.execute_input": "2021-12-09T14:21:53.360711Z",
     "iopub.status.busy": "2021-12-09T14:21:53.359227Z",
     "iopub.status.idle": "2021-12-09T14:21:53.904585Z",
     "shell.execute_reply": "2021-12-09T14:21:53.903237Z"
    },
    "papermill": {
     "duration": 0.649506,
     "end_time": "2021-12-09T14:21:53.904734",
     "exception": false,
     "start_time": "2021-12-09T14:21:53.255228",
     "status": "completed"
    },
    "tags": []
   },
   "outputs": [
    {
     "data": {
      "text/plain": [
       "Time difference of 1338.347 secs"
      ]
     },
     "metadata": {},
     "output_type": "display_data"
    },
    {
     "data": {
      "text/plain": [
       "Time difference of 751 secs"
      ]
     },
     "metadata": {},
     "output_type": "display_data"
    },
    {
     "data": {
      "text/plain": [
       "Time difference of 3356649 secs"
      ]
     },
     "metadata": {},
     "output_type": "display_data"
    },
    {
     "data": {
      "text/plain": [
       "Time difference of 1 secs"
      ]
     },
     "metadata": {},
     "output_type": "display_data"
    }
   ],
   "source": [
    "mean(combine_data$ride_length)\n",
    "median(combine_data$ride_length)\n",
    "max(combine_data$ride_length)\n",
    "min(combine_data$ride_length)"
   ]
  },
  {
   "cell_type": "code",
   "execution_count": 12,
   "id": "d3873e75",
   "metadata": {
    "execution": {
     "iopub.execute_input": "2021-12-09T14:21:54.134577Z",
     "iopub.status.busy": "2021-12-09T14:21:54.133199Z",
     "iopub.status.idle": "2021-12-09T14:22:06.944308Z",
     "shell.execute_reply": "2021-12-09T14:22:06.942309Z"
    },
    "papermill": {
     "duration": 12.929125,
     "end_time": "2021-12-09T14:22:06.944528",
     "exception": false,
     "start_time": "2021-12-09T14:21:54.015403",
     "status": "completed"
    },
    "tags": []
   },
   "outputs": [
    {
     "data": {
      "text/html": [
       "<table class=\"dataframe\">\n",
       "<caption>A data.frame: 2 × 2</caption>\n",
       "<thead>\n",
       "\t<tr><th scope=col>Group.1</th><th scope=col>x</th></tr>\n",
       "\t<tr><th scope=col>&lt;chr&gt;</th><th scope=col>&lt;drtn&gt;</th></tr>\n",
       "</thead>\n",
       "<tbody>\n",
       "\t<tr><td>casual</td><td>1980.0732 secs</td></tr>\n",
       "\t<tr><td>member</td><td> 808.7866 secs</td></tr>\n",
       "</tbody>\n",
       "</table>\n"
      ],
      "text/latex": [
       "A data.frame: 2 × 2\n",
       "\\begin{tabular}{ll}\n",
       " Group.1 & x\\\\\n",
       " <chr> & <drtn>\\\\\n",
       "\\hline\n",
       "\t casual & 1980.0732 secs\\\\\n",
       "\t member &  808.7866 secs\\\\\n",
       "\\end{tabular}\n"
      ],
      "text/markdown": [
       "\n",
       "A data.frame: 2 × 2\n",
       "\n",
       "| Group.1 &lt;chr&gt; | x &lt;drtn&gt; |\n",
       "|---|---|\n",
       "| casual | 1980.0732 secs |\n",
       "| member |  808.7866 secs |\n",
       "\n"
      ],
      "text/plain": [
       "  Group.1 x             \n",
       "1 casual  1980.0732 secs\n",
       "2 member   808.7866 secs"
      ]
     },
     "metadata": {},
     "output_type": "display_data"
    },
    {
     "data": {
      "text/html": [
       "<table class=\"dataframe\">\n",
       "<caption>A data.frame: 2 × 2</caption>\n",
       "<thead>\n",
       "\t<tr><th scope=col>Group.1</th><th scope=col>x</th></tr>\n",
       "\t<tr><th scope=col>&lt;chr&gt;</th><th scope=col>&lt;drtn&gt;</th></tr>\n",
       "</thead>\n",
       "<tbody>\n",
       "\t<tr><td>casual</td><td>1018 secs</td></tr>\n",
       "\t<tr><td>member</td><td> 597 secs</td></tr>\n",
       "</tbody>\n",
       "</table>\n"
      ],
      "text/latex": [
       "A data.frame: 2 × 2\n",
       "\\begin{tabular}{ll}\n",
       " Group.1 & x\\\\\n",
       " <chr> & <drtn>\\\\\n",
       "\\hline\n",
       "\t casual & 1018 secs\\\\\n",
       "\t member &  597 secs\\\\\n",
       "\\end{tabular}\n"
      ],
      "text/markdown": [
       "\n",
       "A data.frame: 2 × 2\n",
       "\n",
       "| Group.1 &lt;chr&gt; | x &lt;drtn&gt; |\n",
       "|---|---|\n",
       "| casual | 1018 secs |\n",
       "| member |  597 secs |\n",
       "\n"
      ],
      "text/plain": [
       "  Group.1 x        \n",
       "1 casual  1018 secs\n",
       "2 member   597 secs"
      ]
     },
     "metadata": {},
     "output_type": "display_data"
    },
    {
     "data": {
      "text/html": [
       "<table class=\"dataframe\">\n",
       "<caption>A data.frame: 2 × 2</caption>\n",
       "<thead>\n",
       "\t<tr><th scope=col>Group.1</th><th scope=col>x</th></tr>\n",
       "\t<tr><th scope=col>&lt;chr&gt;</th><th scope=col>&lt;drtn&gt;</th></tr>\n",
       "</thead>\n",
       "<tbody>\n",
       "\t<tr><td>casual</td><td>3356649 secs</td></tr>\n",
       "\t<tr><td>member</td><td>  89996 secs</td></tr>\n",
       "</tbody>\n",
       "</table>\n"
      ],
      "text/latex": [
       "A data.frame: 2 × 2\n",
       "\\begin{tabular}{ll}\n",
       " Group.1 & x\\\\\n",
       " <chr> & <drtn>\\\\\n",
       "\\hline\n",
       "\t casual & 3356649 secs\\\\\n",
       "\t member &   89996 secs\\\\\n",
       "\\end{tabular}\n"
      ],
      "text/markdown": [
       "\n",
       "A data.frame: 2 × 2\n",
       "\n",
       "| Group.1 &lt;chr&gt; | x &lt;drtn&gt; |\n",
       "|---|---|\n",
       "| casual | 3356649 secs |\n",
       "| member |   89996 secs |\n",
       "\n"
      ],
      "text/plain": [
       "  Group.1 x           \n",
       "1 casual  3356649 secs\n",
       "2 member    89996 secs"
      ]
     },
     "metadata": {},
     "output_type": "display_data"
    },
    {
     "data": {
      "text/html": [
       "<table class=\"dataframe\">\n",
       "<caption>A data.frame: 2 × 2</caption>\n",
       "<thead>\n",
       "\t<tr><th scope=col>Group.1</th><th scope=col>x</th></tr>\n",
       "\t<tr><th scope=col>&lt;chr&gt;</th><th scope=col>&lt;drtn&gt;</th></tr>\n",
       "</thead>\n",
       "<tbody>\n",
       "\t<tr><td>casual</td><td>1 secs</td></tr>\n",
       "\t<tr><td>member</td><td>1 secs</td></tr>\n",
       "</tbody>\n",
       "</table>\n"
      ],
      "text/latex": [
       "A data.frame: 2 × 2\n",
       "\\begin{tabular}{ll}\n",
       " Group.1 & x\\\\\n",
       " <chr> & <drtn>\\\\\n",
       "\\hline\n",
       "\t casual & 1 secs\\\\\n",
       "\t member & 1 secs\\\\\n",
       "\\end{tabular}\n"
      ],
      "text/markdown": [
       "\n",
       "A data.frame: 2 × 2\n",
       "\n",
       "| Group.1 &lt;chr&gt; | x &lt;drtn&gt; |\n",
       "|---|---|\n",
       "| casual | 1 secs |\n",
       "| member | 1 secs |\n",
       "\n"
      ],
      "text/plain": [
       "  Group.1 x     \n",
       "1 casual  1 secs\n",
       "2 member  1 secs"
      ]
     },
     "metadata": {},
     "output_type": "display_data"
    },
    {
     "data": {
      "text/html": [
       "<table class=\"dataframe\">\n",
       "<caption>A data.frame: 2 × 2</caption>\n",
       "<thead>\n",
       "\t<tr><th scope=col>Group.1</th><th scope=col>x</th></tr>\n",
       "\t<tr><th scope=col>&lt;chr&gt;</th><th scope=col>&lt;int&gt;</th></tr>\n",
       "</thead>\n",
       "<tbody>\n",
       "\t<tr><td>casual</td><td>2030677</td></tr>\n",
       "\t<tr><td>member</td><td>2460793</td></tr>\n",
       "</tbody>\n",
       "</table>\n"
      ],
      "text/latex": [
       "A data.frame: 2 × 2\n",
       "\\begin{tabular}{ll}\n",
       " Group.1 & x\\\\\n",
       " <chr> & <int>\\\\\n",
       "\\hline\n",
       "\t casual & 2030677\\\\\n",
       "\t member & 2460793\\\\\n",
       "\\end{tabular}\n"
      ],
      "text/markdown": [
       "\n",
       "A data.frame: 2 × 2\n",
       "\n",
       "| Group.1 &lt;chr&gt; | x &lt;int&gt; |\n",
       "|---|---|\n",
       "| casual | 2030677 |\n",
       "| member | 2460793 |\n",
       "\n"
      ],
      "text/plain": [
       "  Group.1 x      \n",
       "1 casual  2030677\n",
       "2 member  2460793"
      ]
     },
     "metadata": {},
     "output_type": "display_data"
    }
   ],
   "source": [
    "aggregate(combine_data$ride_length, by=list(combine_data$member_casual), FUN=mean)\n",
    "aggregate(combine_data$ride_length, by=list(combine_data$member_casual), FUN=median)\n",
    "aggregate(combine_data$ride_length, by=list(combine_data$member_casual), FUN=max)\n",
    "aggregate(combine_data$ride_length, by=list(combine_data$member_casual), FUN=min)\n",
    "aggregate(combine_data$ride_length, by=list(combine_data$member_casual), FUN=length)"
   ]
  },
  {
   "cell_type": "code",
   "execution_count": 13,
   "id": "1820ecc2",
   "metadata": {
    "execution": {
     "iopub.execute_input": "2021-12-09T14:22:07.190962Z",
     "iopub.status.busy": "2021-12-09T14:22:07.188868Z",
     "iopub.status.idle": "2021-12-09T14:22:10.592413Z",
     "shell.execute_reply": "2021-12-09T14:22:10.590648Z"
    },
    "papermill": {
     "duration": 3.528567,
     "end_time": "2021-12-09T14:22:10.592569",
     "exception": false,
     "start_time": "2021-12-09T14:22:07.064002",
     "status": "completed"
    },
    "tags": []
   },
   "outputs": [
    {
     "data": {
      "text/html": [
       "<table class=\"dataframe\">\n",
       "<caption>A data.frame: 14 × 3</caption>\n",
       "<thead>\n",
       "\t<tr><th scope=col>Group.1</th><th scope=col>Group.2</th><th scope=col>x</th></tr>\n",
       "\t<tr><th scope=col>&lt;chr&gt;</th><th scope=col>&lt;chr&gt;</th><th scope=col>&lt;drtn&gt;</th></tr>\n",
       "</thead>\n",
       "<tbody>\n",
       "\t<tr><td>casual</td><td>Friday   </td><td>1883.2074 secs</td></tr>\n",
       "\t<tr><td>member</td><td>Friday   </td><td> 785.1688 secs</td></tr>\n",
       "\t<tr><td>casual</td><td>Monday   </td><td>1976.2698 secs</td></tr>\n",
       "\t<tr><td>member</td><td>Monday   </td><td> 779.8174 secs</td></tr>\n",
       "\t<tr><td>casual</td><td>Saturday </td><td>2125.2131 secs</td></tr>\n",
       "\t<tr><td>member</td><td>Saturday </td><td> 905.8238 secs</td></tr>\n",
       "\t<tr><td>casual</td><td>Sunday   </td><td>2290.8703 secs</td></tr>\n",
       "\t<tr><td>member</td><td>Sunday   </td><td> 926.3637 secs</td></tr>\n",
       "\t<tr><td>casual</td><td>Thursday </td><td>1701.8945 secs</td></tr>\n",
       "\t<tr><td>member</td><td>Thursday </td><td> 758.4568 secs</td></tr>\n",
       "\t<tr><td>casual</td><td>Tuesday  </td><td>1759.6129 secs</td></tr>\n",
       "\t<tr><td>member</td><td>Tuesday  </td><td> 760.6113 secs</td></tr>\n",
       "\t<tr><td>casual</td><td>Wednesday</td><td>1714.4653 secs</td></tr>\n",
       "\t<tr><td>member</td><td>Wednesday</td><td> 763.9263 secs</td></tr>\n",
       "</tbody>\n",
       "</table>\n"
      ],
      "text/latex": [
       "A data.frame: 14 × 3\n",
       "\\begin{tabular}{lll}\n",
       " Group.1 & Group.2 & x\\\\\n",
       " <chr> & <chr> & <drtn>\\\\\n",
       "\\hline\n",
       "\t casual & Friday    & 1883.2074 secs\\\\\n",
       "\t member & Friday    &  785.1688 secs\\\\\n",
       "\t casual & Monday    & 1976.2698 secs\\\\\n",
       "\t member & Monday    &  779.8174 secs\\\\\n",
       "\t casual & Saturday  & 2125.2131 secs\\\\\n",
       "\t member & Saturday  &  905.8238 secs\\\\\n",
       "\t casual & Sunday    & 2290.8703 secs\\\\\n",
       "\t member & Sunday    &  926.3637 secs\\\\\n",
       "\t casual & Thursday  & 1701.8945 secs\\\\\n",
       "\t member & Thursday  &  758.4568 secs\\\\\n",
       "\t casual & Tuesday   & 1759.6129 secs\\\\\n",
       "\t member & Tuesday   &  760.6113 secs\\\\\n",
       "\t casual & Wednesday & 1714.4653 secs\\\\\n",
       "\t member & Wednesday &  763.9263 secs\\\\\n",
       "\\end{tabular}\n"
      ],
      "text/markdown": [
       "\n",
       "A data.frame: 14 × 3\n",
       "\n",
       "| Group.1 &lt;chr&gt; | Group.2 &lt;chr&gt; | x &lt;drtn&gt; |\n",
       "|---|---|---|\n",
       "| casual | Friday    | 1883.2074 secs |\n",
       "| member | Friday    |  785.1688 secs |\n",
       "| casual | Monday    | 1976.2698 secs |\n",
       "| member | Monday    |  779.8174 secs |\n",
       "| casual | Saturday  | 2125.2131 secs |\n",
       "| member | Saturday  |  905.8238 secs |\n",
       "| casual | Sunday    | 2290.8703 secs |\n",
       "| member | Sunday    |  926.3637 secs |\n",
       "| casual | Thursday  | 1701.8945 secs |\n",
       "| member | Thursday  |  758.4568 secs |\n",
       "| casual | Tuesday   | 1759.6129 secs |\n",
       "| member | Tuesday   |  760.6113 secs |\n",
       "| casual | Wednesday | 1714.4653 secs |\n",
       "| member | Wednesday |  763.9263 secs |\n",
       "\n"
      ],
      "text/plain": [
       "   Group.1 Group.2   x             \n",
       "1  casual  Friday    1883.2074 secs\n",
       "2  member  Friday     785.1688 secs\n",
       "3  casual  Monday    1976.2698 secs\n",
       "4  member  Monday     779.8174 secs\n",
       "5  casual  Saturday  2125.2131 secs\n",
       "6  member  Saturday   905.8238 secs\n",
       "7  casual  Sunday    2290.8703 secs\n",
       "8  member  Sunday     926.3637 secs\n",
       "9  casual  Thursday  1701.8945 secs\n",
       "10 member  Thursday   758.4568 secs\n",
       "11 casual  Tuesday   1759.6129 secs\n",
       "12 member  Tuesday    760.6113 secs\n",
       "13 casual  Wednesday 1714.4653 secs\n",
       "14 member  Wednesday  763.9263 secs"
      ]
     },
     "metadata": {},
     "output_type": "display_data"
    }
   ],
   "source": [
    "# See the average ride time by each day for members vs casual users\n",
    "\n",
    "aggregate(combine_data$ride_length, by=list(combine_data$member_casual,\n",
    "                                            combine_data$day_of_week),\n",
    "          FUN=mean)"
   ]
  },
  {
   "cell_type": "code",
   "execution_count": 14,
   "id": "b4a3abe8",
   "metadata": {
    "execution": {
     "iopub.execute_input": "2021-12-09T14:22:10.848581Z",
     "iopub.status.busy": "2021-12-09T14:22:10.846969Z",
     "iopub.status.idle": "2021-12-09T14:22:15.113227Z",
     "shell.execute_reply": "2021-12-09T14:22:15.111505Z"
    },
    "papermill": {
     "duration": 4.39411,
     "end_time": "2021-12-09T14:22:15.113387",
     "exception": false,
     "start_time": "2021-12-09T14:22:10.719277",
     "status": "completed"
    },
    "tags": []
   },
   "outputs": [
    {
     "data": {
      "text/html": [
       "<table class=\"dataframe\">\n",
       "<caption>A data.frame: 14 × 3</caption>\n",
       "<thead>\n",
       "\t<tr><th scope=col>Group.1</th><th scope=col>Group.2</th><th scope=col>x</th></tr>\n",
       "\t<tr><th scope=col>&lt;chr&gt;</th><th scope=col>&lt;ord&gt;</th><th scope=col>&lt;drtn&gt;</th></tr>\n",
       "</thead>\n",
       "<tbody>\n",
       "\t<tr><td>casual</td><td>Sunday   </td><td>2290.8703 secs</td></tr>\n",
       "\t<tr><td>member</td><td>Sunday   </td><td> 926.3637 secs</td></tr>\n",
       "\t<tr><td>casual</td><td>Monday   </td><td>1976.2698 secs</td></tr>\n",
       "\t<tr><td>member</td><td>Monday   </td><td> 779.8174 secs</td></tr>\n",
       "\t<tr><td>casual</td><td>Tuesday  </td><td>1759.6129 secs</td></tr>\n",
       "\t<tr><td>member</td><td>Tuesday  </td><td> 760.6113 secs</td></tr>\n",
       "\t<tr><td>casual</td><td>Wednesday</td><td>1714.4653 secs</td></tr>\n",
       "\t<tr><td>member</td><td>Wednesday</td><td> 763.9263 secs</td></tr>\n",
       "\t<tr><td>casual</td><td>Thursday </td><td>1701.8945 secs</td></tr>\n",
       "\t<tr><td>member</td><td>Thursday </td><td> 758.4568 secs</td></tr>\n",
       "\t<tr><td>casual</td><td>Friday   </td><td>1883.2074 secs</td></tr>\n",
       "\t<tr><td>member</td><td>Friday   </td><td> 785.1688 secs</td></tr>\n",
       "\t<tr><td>casual</td><td>Saturday </td><td>2125.2131 secs</td></tr>\n",
       "\t<tr><td>member</td><td>Saturday </td><td> 905.8238 secs</td></tr>\n",
       "</tbody>\n",
       "</table>\n"
      ],
      "text/latex": [
       "A data.frame: 14 × 3\n",
       "\\begin{tabular}{lll}\n",
       " Group.1 & Group.2 & x\\\\\n",
       " <chr> & <ord> & <drtn>\\\\\n",
       "\\hline\n",
       "\t casual & Sunday    & 2290.8703 secs\\\\\n",
       "\t member & Sunday    &  926.3637 secs\\\\\n",
       "\t casual & Monday    & 1976.2698 secs\\\\\n",
       "\t member & Monday    &  779.8174 secs\\\\\n",
       "\t casual & Tuesday   & 1759.6129 secs\\\\\n",
       "\t member & Tuesday   &  760.6113 secs\\\\\n",
       "\t casual & Wednesday & 1714.4653 secs\\\\\n",
       "\t member & Wednesday &  763.9263 secs\\\\\n",
       "\t casual & Thursday  & 1701.8945 secs\\\\\n",
       "\t member & Thursday  &  758.4568 secs\\\\\n",
       "\t casual & Friday    & 1883.2074 secs\\\\\n",
       "\t member & Friday    &  785.1688 secs\\\\\n",
       "\t casual & Saturday  & 2125.2131 secs\\\\\n",
       "\t member & Saturday  &  905.8238 secs\\\\\n",
       "\\end{tabular}\n"
      ],
      "text/markdown": [
       "\n",
       "A data.frame: 14 × 3\n",
       "\n",
       "| Group.1 &lt;chr&gt; | Group.2 &lt;ord&gt; | x &lt;drtn&gt; |\n",
       "|---|---|---|\n",
       "| casual | Sunday    | 2290.8703 secs |\n",
       "| member | Sunday    |  926.3637 secs |\n",
       "| casual | Monday    | 1976.2698 secs |\n",
       "| member | Monday    |  779.8174 secs |\n",
       "| casual | Tuesday   | 1759.6129 secs |\n",
       "| member | Tuesday   |  760.6113 secs |\n",
       "| casual | Wednesday | 1714.4653 secs |\n",
       "| member | Wednesday |  763.9263 secs |\n",
       "| casual | Thursday  | 1701.8945 secs |\n",
       "| member | Thursday  |  758.4568 secs |\n",
       "| casual | Friday    | 1883.2074 secs |\n",
       "| member | Friday    |  785.1688 secs |\n",
       "| casual | Saturday  | 2125.2131 secs |\n",
       "| member | Saturday  |  905.8238 secs |\n",
       "\n"
      ],
      "text/plain": [
       "   Group.1 Group.2   x             \n",
       "1  casual  Sunday    2290.8703 secs\n",
       "2  member  Sunday     926.3637 secs\n",
       "3  casual  Monday    1976.2698 secs\n",
       "4  member  Monday     779.8174 secs\n",
       "5  casual  Tuesday   1759.6129 secs\n",
       "6  member  Tuesday    760.6113 secs\n",
       "7  casual  Wednesday 1714.4653 secs\n",
       "8  member  Wednesday  763.9263 secs\n",
       "9  casual  Thursday  1701.8945 secs\n",
       "10 member  Thursday   758.4568 secs\n",
       "11 casual  Friday    1883.2074 secs\n",
       "12 member  Friday     785.1688 secs\n",
       "13 casual  Saturday  2125.2131 secs\n",
       "14 member  Saturday   905.8238 secs"
      ]
     },
     "metadata": {},
     "output_type": "display_data"
    }
   ],
   "source": [
    "#correct order of day_of_week\n",
    "\n",
    "combine_data$day_of_week <- ordered(combine_data$day_of_week, levels=c('Sunday',\n",
    "                              'Monday','Tuesday','Wednesday','Thursday',\n",
    "                              'Friday','Saturday'))\n",
    "\n",
    "aggregate(combine_data$ride_length, by=list(combine_data$member_casual,\n",
    "                                            combine_data$day_of_week),\n",
    "          FUN=mean)"
   ]
  },
  {
   "cell_type": "code",
   "execution_count": 15,
   "id": "2b7af2bd",
   "metadata": {
    "execution": {
     "iopub.execute_input": "2021-12-09T14:22:15.392191Z",
     "iopub.status.busy": "2021-12-09T14:22:15.390330Z",
     "iopub.status.idle": "2021-12-09T14:22:20.259700Z",
     "shell.execute_reply": "2021-12-09T14:22:20.257943Z"
    },
    "papermill": {
     "duration": 5.011356,
     "end_time": "2021-12-09T14:22:20.259848",
     "exception": false,
     "start_time": "2021-12-09T14:22:15.248492",
     "status": "completed"
    },
    "tags": []
   },
   "outputs": [
    {
     "name": "stderr",
     "output_type": "stream",
     "text": [
      "`summarise()` has grouped output by 'member_casual'. You can override using the `.groups` argument.\n",
      "\n"
     ]
    },
    {
     "data": {
      "text/html": [
       "<table class=\"dataframe\">\n",
       "<caption>A grouped_df: 14 × 4</caption>\n",
       "<thead>\n",
       "\t<tr><th scope=col>member_casual</th><th scope=col>weekday</th><th scope=col>number_of_rides</th><th scope=col>average_duration</th></tr>\n",
       "\t<tr><th scope=col>&lt;chr&gt;</th><th scope=col>&lt;ord&gt;</th><th scope=col>&lt;int&gt;</th><th scope=col>&lt;drtn&gt;</th></tr>\n",
       "</thead>\n",
       "<tbody>\n",
       "\t<tr><td>casual</td><td>Sun</td><td>403646</td><td>2290.8703 secs</td></tr>\n",
       "\t<tr><td>casual</td><td>Mon</td><td>226245</td><td>1976.2698 secs</td></tr>\n",
       "\t<tr><td>casual</td><td>Tue</td><td>210714</td><td>1759.6129 secs</td></tr>\n",
       "\t<tr><td>casual</td><td>Wed</td><td>213298</td><td>1714.4653 secs</td></tr>\n",
       "\t<tr><td>casual</td><td>Thu</td><td>221388</td><td>1701.8945 secs</td></tr>\n",
       "\t<tr><td>casual</td><td>Fri</td><td>287328</td><td>1883.2074 secs</td></tr>\n",
       "\t<tr><td>casual</td><td>Sat</td><td>468058</td><td>2125.2131 secs</td></tr>\n",
       "\t<tr><td>member</td><td>Sun</td><td>310634</td><td> 926.3637 secs</td></tr>\n",
       "\t<tr><td>member</td><td>Mon</td><td>333363</td><td> 779.8174 secs</td></tr>\n",
       "\t<tr><td>member</td><td>Tue</td><td>367381</td><td> 760.6113 secs</td></tr>\n",
       "\t<tr><td>member</td><td>Wed</td><td>378596</td><td> 763.9263 secs</td></tr>\n",
       "\t<tr><td>member</td><td>Thu</td><td>360341</td><td> 758.4568 secs</td></tr>\n",
       "\t<tr><td>member</td><td>Fri</td><td>356309</td><td> 785.1688 secs</td></tr>\n",
       "\t<tr><td>member</td><td>Sat</td><td>354169</td><td> 905.8238 secs</td></tr>\n",
       "</tbody>\n",
       "</table>\n"
      ],
      "text/latex": [
       "A grouped\\_df: 14 × 4\n",
       "\\begin{tabular}{llll}\n",
       " member\\_casual & weekday & number\\_of\\_rides & average\\_duration\\\\\n",
       " <chr> & <ord> & <int> & <drtn>\\\\\n",
       "\\hline\n",
       "\t casual & Sun & 403646 & 2290.8703 secs\\\\\n",
       "\t casual & Mon & 226245 & 1976.2698 secs\\\\\n",
       "\t casual & Tue & 210714 & 1759.6129 secs\\\\\n",
       "\t casual & Wed & 213298 & 1714.4653 secs\\\\\n",
       "\t casual & Thu & 221388 & 1701.8945 secs\\\\\n",
       "\t casual & Fri & 287328 & 1883.2074 secs\\\\\n",
       "\t casual & Sat & 468058 & 2125.2131 secs\\\\\n",
       "\t member & Sun & 310634 &  926.3637 secs\\\\\n",
       "\t member & Mon & 333363 &  779.8174 secs\\\\\n",
       "\t member & Tue & 367381 &  760.6113 secs\\\\\n",
       "\t member & Wed & 378596 &  763.9263 secs\\\\\n",
       "\t member & Thu & 360341 &  758.4568 secs\\\\\n",
       "\t member & Fri & 356309 &  785.1688 secs\\\\\n",
       "\t member & Sat & 354169 &  905.8238 secs\\\\\n",
       "\\end{tabular}\n"
      ],
      "text/markdown": [
       "\n",
       "A grouped_df: 14 × 4\n",
       "\n",
       "| member_casual &lt;chr&gt; | weekday &lt;ord&gt; | number_of_rides &lt;int&gt; | average_duration &lt;drtn&gt; |\n",
       "|---|---|---|---|\n",
       "| casual | Sun | 403646 | 2290.8703 secs |\n",
       "| casual | Mon | 226245 | 1976.2698 secs |\n",
       "| casual | Tue | 210714 | 1759.6129 secs |\n",
       "| casual | Wed | 213298 | 1714.4653 secs |\n",
       "| casual | Thu | 221388 | 1701.8945 secs |\n",
       "| casual | Fri | 287328 | 1883.2074 secs |\n",
       "| casual | Sat | 468058 | 2125.2131 secs |\n",
       "| member | Sun | 310634 |  926.3637 secs |\n",
       "| member | Mon | 333363 |  779.8174 secs |\n",
       "| member | Tue | 367381 |  760.6113 secs |\n",
       "| member | Wed | 378596 |  763.9263 secs |\n",
       "| member | Thu | 360341 |  758.4568 secs |\n",
       "| member | Fri | 356309 |  785.1688 secs |\n",
       "| member | Sat | 354169 |  905.8238 secs |\n",
       "\n"
      ],
      "text/plain": [
       "   member_casual weekday number_of_rides average_duration\n",
       "1  casual        Sun     403646          2290.8703 secs  \n",
       "2  casual        Mon     226245          1976.2698 secs  \n",
       "3  casual        Tue     210714          1759.6129 secs  \n",
       "4  casual        Wed     213298          1714.4653 secs  \n",
       "5  casual        Thu     221388          1701.8945 secs  \n",
       "6  casual        Fri     287328          1883.2074 secs  \n",
       "7  casual        Sat     468058          2125.2131 secs  \n",
       "8  member        Sun     310634           926.3637 secs  \n",
       "9  member        Mon     333363           779.8174 secs  \n",
       "10 member        Tue     367381           760.6113 secs  \n",
       "11 member        Wed     378596           763.9263 secs  \n",
       "12 member        Thu     360341           758.4568 secs  \n",
       "13 member        Fri     356309           785.1688 secs  \n",
       "14 member        Sat     354169           905.8238 secs  "
      ]
     },
     "metadata": {},
     "output_type": "display_data"
    }
   ],
   "source": [
    "# analyze ridership data by type and weekday\n",
    "\n",
    "combine_data %>%\n",
    "  mutate(weekday=wday(started_at,label = TRUE))%>%\n",
    "  group_by(member_casual,weekday)%>%\n",
    "  summarise(number_of_rides = n(),average_duration=mean(ride_length))%>%\n",
    "  arrange(member_casual,weekday)"
   ]
  },
  {
   "cell_type": "code",
   "execution_count": 16,
   "id": "db3d17fd",
   "metadata": {
    "execution": {
     "iopub.execute_input": "2021-12-09T14:22:20.535280Z",
     "iopub.status.busy": "2021-12-09T14:22:20.533575Z",
     "iopub.status.idle": "2021-12-09T14:22:25.330196Z",
     "shell.execute_reply": "2021-12-09T14:22:25.329497Z"
    },
    "papermill": {
     "duration": 4.93691,
     "end_time": "2021-12-09T14:22:25.330331",
     "exception": false,
     "start_time": "2021-12-09T14:22:20.393421",
     "status": "completed"
    },
    "tags": []
   },
   "outputs": [
    {
     "name": "stderr",
     "output_type": "stream",
     "text": [
      "Warning message:\n",
      "“Use of `combine_data$member_casual` is discouraged. Use `member_casual` instead.”\n",
      "`summarise()` has grouped output by 'member_casual'. You can override using the `.groups` argument.\n",
      "\n"
     ]
    },
    {
     "data": {
      "image/png": "[encoded data removed]"
     },
     "metadata": {
      "image/png": {
       "height": 420,
       "width": 420
      }
     },
     "output_type": "display_data"
    },
    {
     "data": {
      "image/png": "[encoded data removed]"
     },
     "metadata": {
      "image/png": {
       "height": 420,
       "width": 420
      }
     },
     "output_type": "display_data"
    }
   ],
   "source": [
    "# Let's visualize the number of rides by rider type\n",
    "\n",
    "ggplot(data=combine_data,mapping = aes(x=combine_data$member_casual))+geom_bar()\n",
    "\n",
    "combine_data %>%\n",
    "  group_by(member_casual,day_of_week)%>%\n",
    "  summarise(number_of_rides = n(),average_duration=mean(ride_length))%>%\n",
    "  arrange(member_casual,day_of_week)%>%\n",
    "  ggplot(aes(x=day_of_week, y=number_of_rides, fill=member_casual))+\n",
    "  geom_col(position = \"dodge\")+\n",
    "  labs(title='No. of Rides vs Rider Type',subtitle='Comparision of number of rides taken by type of riders',\n",
    "       caption='Data collected from Nov-2020 to Oct-2021')"
   ]
  },
  {
   "cell_type": "code",
   "execution_count": 17,
   "id": "dd28929b",
   "metadata": {
    "execution": {
     "iopub.execute_input": "2021-12-09T14:22:25.610766Z",
     "iopub.status.busy": "2021-12-09T14:22:25.608852Z",
     "iopub.status.idle": "2021-12-09T14:22:27.071817Z",
     "shell.execute_reply": "2021-12-09T14:22:27.070837Z"
    },
    "papermill": {
     "duration": 1.605934,
     "end_time": "2021-12-09T14:22:27.071959",
     "exception": false,
     "start_time": "2021-12-09T14:22:25.466025",
     "status": "completed"
    },
    "tags": []
   },
   "outputs": [
    {
     "name": "stderr",
     "output_type": "stream",
     "text": [
      "`summarise()` has grouped output by 'member_casual'. You can override using the `.groups` argument.\n",
      "\n",
      "Don't know how to automatically pick scale for object of type difftime. Defaulting to continuous.\n",
      "\n"
     ]
    },
    {
     "data": {
      "image/png": "[encoded data removed]"
     },
     "metadata": {
      "image/png": {
       "height": 420,
       "width": 420
      }
     },
     "output_type": "display_data"
    }
   ],
   "source": [
    "# Let's create a visualization for average duration\n",
    "\n",
    "combine_data %>%\n",
    "  group_by(member_casual,day_of_week)%>%\n",
    "  summarise(number_of_rides = n(),average_duration=mean(ride_length))%>%\n",
    "  arrange(member_casual,day_of_week)%>%\n",
    "  ggplot(aes(x=day_of_week, y=average_duration, fill=member_casual))+\n",
    "  geom_col(position = \"dodge\")+\n",
    "  labs(title = 'No. of Rides vs Average Duration', subtitle = 'Comparision of number of rides by average duration',\n",
    "       caption = \"Data collected from Noc-2020 to Oct-2021\")"
   ]
  },
  {
   "cell_type": "markdown",
   "id": "5c21a2c9",
   "metadata": {
    "papermill": {
     "duration": 0.141012,
     "end_time": "2021-12-09T14:22:27.353752",
     "exception": false,
     "start_time": "2021-12-09T14:22:27.212740",
     "status": "completed"
    },
    "tags": []
   },
   "source": [
    "By creating visualizations for above metrics below observations are made:\n",
    "- When analysing number of rides by rider type it is seen that on weekends casual riders are using Cyclistic service more number of times than the members. Which is not the case on weekdays.\n",
    "-Most number of rides taken by casual riders is recorded on Saturdays.\n",
    "-Number of rides taken by members are comparatively consistent throughout the week peaking on Wednesday.\n",
    "-From the plot between no. of rides and average ride duration, it is found out that casual riders take the Cyclistic services for greater duration of time than member on an average.\n",
    "-For casual member the maximum average ride duration is recorded on weekends whereas for members it is fairly even throughout it week peaking on weekends as well.\n"
   ]
  },
  {
   "cell_type": "markdown",
   "id": "6ad2fb0d",
   "metadata": {
    "execution": {
     "iopub.execute_input": "2021-12-09T13:53:25.163753Z",
     "iopub.status.busy": "2021-12-09T13:53:25.162014Z",
     "iopub.status.idle": "2021-12-09T13:53:25.176649Z"
    },
    "papermill": {
     "duration": 0.141558,
     "end_time": "2021-12-09T14:22:27.635206",
     "exception": false,
     "start_time": "2021-12-09T14:22:27.493648",
     "status": "completed"
    },
    "tags": []
   },
   "source": [
    "## Final Conclusion\n",
    "\n",
    "Based on analysis of past 12 month Cyclistic ride data, it has come out that casual members use services actively on weekends as compared to members. The ride lengths for casual member are very high compared to member which shows that casual riders like to use services for greater distance. On the other hand, members use the services for frequent distances and preferably on weekdays.\n",
    "Top three recommendations:\n",
    "1.\tMarketing team should focus on planning campaigns on weekends to reach out to maximum number of casual riders.\n",
    "2.\tThey add special offers/discounts on longer rides taken under membership plan to attract casual riders to buy membership.\n",
    "3.\tThey can provide weekly offers on basis of total distances travelled so that casual riders can consider buying membership.\n"
   ]
  },
  {
   "cell_type": "markdown",
   "id": "8b15381e",
   "metadata": {
    "papermill": {
     "duration": 0.142165,
     "end_time": "2021-12-09T14:22:27.916635",
     "exception": false,
     "start_time": "2021-12-09T14:22:27.774470",
     "status": "completed"
    },
    "tags": []
   },
   "source": [
    "Below link takes to my Tableau Visualisation\n",
    "https://public.tableau.com/app/profile/divya.jain7194/viz/CyclisticCaseStudy_16389846429940/DayvsRideLength#1\n"
   ]
  }
 ],
 "metadata": {
  "kernelspec": {
   "display_name": "R",
   "language": "R",
   "name": "ir"
  },
  "language_info": {
   "codemirror_mode": "r",
   "file_extension": ".r",
   "mimetype": "text/x-r-source",
   "name": "R",
   "pygments_lexer": "r",
   "version": "4.0.5"
  },
  "papermill": {
   "default_parameters": {},
   "duration": 217.018154,
   "end_time": "2021-12-09T14:22:28.372496",
   "environment_variables": {},
   "exception": null,
   "input_path": "__notebook__.ipynb",
   "output_path": "__notebook__.ipynb",
   "parameters": {},
   "start_time": "2021-12-09T14:18:51.354342",
   "version": "2.3.3"
  }
 },
 "nbformat": 4,
 "nbformat_minor": 5
}
